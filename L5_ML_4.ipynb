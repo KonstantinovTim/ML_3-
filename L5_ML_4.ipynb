{
  "nbformat": 4,
  "nbformat_minor": 0,
  "metadata": {
    "colab": {
      "provenance": []
    },
    "kernelspec": {
      "name": "python3",
      "display_name": "Python 3"
    },
    "language_info": {
      "name": "python"
    }
  },
  "cells": [
    {
      "cell_type": "code",
      "execution_count": null,
      "metadata": {
        "id": "VaBBfUvnoEiP"
      },
      "outputs": [],
      "source": [
        "from sklearn.datasets import fetch_openml\n",
        "import matplotlib.pyplot as plt\n",
        "import numpy as np\n",
        "import pandas as pd"
      ]
    },
    {
      "cell_type": "markdown",
      "source": [
        "Для первого примера мы возьмем датасет mtp, содержащий фармокологические данные. Этот датасет подходит для наших целей: в нем довольно много признаков, не все и которых очень показательны для значения целевой переменной."
      ],
      "metadata": {
        "id": "fgx6yMuXoxX3"
      }
    },
    {
      "cell_type": "code",
      "source": [
        "df = fetch_openml(\"mtp\", version=1)\n",
        "\n",
        "df.data.head()"
      ],
      "metadata": {
        "colab": {
          "base_uri": "https://localhost:8080/",
          "height": 236
        },
        "id": "l4pZ6PJIow0R",
        "outputId": "8c521069-d7ec-4afa-dcaf-f6e6d9216e63"
      },
      "execution_count": null,
      "outputs": [
        {
          "output_type": "execute_result",
          "data": {
            "text/plain": [
              "        oz1       oz2       oz3       oz4       oz5       oz6       oz7  \\\n",
              "0  0.076923  0.325000  0.035088  0.200000  0.162112  0.194562  0.003900   \n",
              "1  0.230769  0.375000  0.042105  0.333333  0.464191  0.622795  0.077623   \n",
              "2  0.269231  0.437500  0.052632  0.333333  0.506556  0.531840  0.054374   \n",
              "3  0.153846  0.357143  0.039474  0.266667  0.352880  0.394131  0.019654   \n",
              "4  0.153846  0.357143  0.039474  0.266667  0.350523  0.320546  0.013154   \n",
              "\n",
              "        oz8       oz9      oz10  ...     oz193     oz194     oz195     oz196  \\\n",
              "0  0.060606  0.166667  0.045872  ...  0.013874  0.071602  0.056880  0.179132   \n",
              "1  0.373737  0.305556  0.192661  ...  0.006342  0.186056  0.287438  0.384236   \n",
              "2  0.212121  0.333333  0.229358  ...  0.005018  0.179544  0.117431  0.384550   \n",
              "3  0.171717  0.277778  0.091743  ...  0.004801  0.091771  0.145349  0.243064   \n",
              "4  0.101010  0.166667  0.110092  ...  0.011166  0.130755  0.067583  0.250832   \n",
              "\n",
              "      oz197     oz198     oz199     oz200     oz201     oz202  \n",
              "0  0.505899  0.039213  0.091327  0.321109  0.127564  0.188387  \n",
              "1  0.683820  0.326584  0.117990  0.456665  0.475618  0.401935  \n",
              "2  0.499219  0.204885  0.155967  0.360441  0.497968  0.407742  \n",
              "3  0.630533  0.023469  0.124430  0.336023  0.134458  0.252258  \n",
              "4  0.516053  0.111398  0.125693  0.332113  0.295913  0.253548  \n",
              "\n",
              "[5 rows x 202 columns]"
            ],
            "text/html": [
              "\n",
              "  <div id=\"df-d8ea15a7-a6ef-40b1-a435-5af67f58dd15\" class=\"colab-df-container\">\n",
              "    <div>\n",
              "<style scoped>\n",
              "    .dataframe tbody tr th:only-of-type {\n",
              "        vertical-align: middle;\n",
              "    }\n",
              "\n",
              "    .dataframe tbody tr th {\n",
              "        vertical-align: top;\n",
              "    }\n",
              "\n",
              "    .dataframe thead th {\n",
              "        text-align: right;\n",
              "    }\n",
              "</style>\n",
              "<table border=\"1\" class=\"dataframe\">\n",
              "  <thead>\n",
              "    <tr style=\"text-align: right;\">\n",
              "      <th></th>\n",
              "      <th>oz1</th>\n",
              "      <th>oz2</th>\n",
              "      <th>oz3</th>\n",
              "      <th>oz4</th>\n",
              "      <th>oz5</th>\n",
              "      <th>oz6</th>\n",
              "      <th>oz7</th>\n",
              "      <th>oz8</th>\n",
              "      <th>oz9</th>\n",
              "      <th>oz10</th>\n",
              "      <th>...</th>\n",
              "      <th>oz193</th>\n",
              "      <th>oz194</th>\n",
              "      <th>oz195</th>\n",
              "      <th>oz196</th>\n",
              "      <th>oz197</th>\n",
              "      <th>oz198</th>\n",
              "      <th>oz199</th>\n",
              "      <th>oz200</th>\n",
              "      <th>oz201</th>\n",
              "      <th>oz202</th>\n",
              "    </tr>\n",
              "  </thead>\n",
              "  <tbody>\n",
              "    <tr>\n",
              "      <th>0</th>\n",
              "      <td>0.076923</td>\n",
              "      <td>0.325000</td>\n",
              "      <td>0.035088</td>\n",
              "      <td>0.200000</td>\n",
              "      <td>0.162112</td>\n",
              "      <td>0.194562</td>\n",
              "      <td>0.003900</td>\n",
              "      <td>0.060606</td>\n",
              "      <td>0.166667</td>\n",
              "      <td>0.045872</td>\n",
              "      <td>...</td>\n",
              "      <td>0.013874</td>\n",
              "      <td>0.071602</td>\n",
              "      <td>0.056880</td>\n",
              "      <td>0.179132</td>\n",
              "      <td>0.505899</td>\n",
              "      <td>0.039213</td>\n",
              "      <td>0.091327</td>\n",
              "      <td>0.321109</td>\n",
              "      <td>0.127564</td>\n",
              "      <td>0.188387</td>\n",
              "    </tr>\n",
              "    <tr>\n",
              "      <th>1</th>\n",
              "      <td>0.230769</td>\n",
              "      <td>0.375000</td>\n",
              "      <td>0.042105</td>\n",
              "      <td>0.333333</td>\n",
              "      <td>0.464191</td>\n",
              "      <td>0.622795</td>\n",
              "      <td>0.077623</td>\n",
              "      <td>0.373737</td>\n",
              "      <td>0.305556</td>\n",
              "      <td>0.192661</td>\n",
              "      <td>...</td>\n",
              "      <td>0.006342</td>\n",
              "      <td>0.186056</td>\n",
              "      <td>0.287438</td>\n",
              "      <td>0.384236</td>\n",
              "      <td>0.683820</td>\n",
              "      <td>0.326584</td>\n",
              "      <td>0.117990</td>\n",
              "      <td>0.456665</td>\n",
              "      <td>0.475618</td>\n",
              "      <td>0.401935</td>\n",
              "    </tr>\n",
              "    <tr>\n",
              "      <th>2</th>\n",
              "      <td>0.269231</td>\n",
              "      <td>0.437500</td>\n",
              "      <td>0.052632</td>\n",
              "      <td>0.333333</td>\n",
              "      <td>0.506556</td>\n",
              "      <td>0.531840</td>\n",
              "      <td>0.054374</td>\n",
              "      <td>0.212121</td>\n",
              "      <td>0.333333</td>\n",
              "      <td>0.229358</td>\n",
              "      <td>...</td>\n",
              "      <td>0.005018</td>\n",
              "      <td>0.179544</td>\n",
              "      <td>0.117431</td>\n",
              "      <td>0.384550</td>\n",
              "      <td>0.499219</td>\n",
              "      <td>0.204885</td>\n",
              "      <td>0.155967</td>\n",
              "      <td>0.360441</td>\n",
              "      <td>0.497968</td>\n",
              "      <td>0.407742</td>\n",
              "    </tr>\n",
              "    <tr>\n",
              "      <th>3</th>\n",
              "      <td>0.153846</td>\n",
              "      <td>0.357143</td>\n",
              "      <td>0.039474</td>\n",
              "      <td>0.266667</td>\n",
              "      <td>0.352880</td>\n",
              "      <td>0.394131</td>\n",
              "      <td>0.019654</td>\n",
              "      <td>0.171717</td>\n",
              "      <td>0.277778</td>\n",
              "      <td>0.091743</td>\n",
              "      <td>...</td>\n",
              "      <td>0.004801</td>\n",
              "      <td>0.091771</td>\n",
              "      <td>0.145349</td>\n",
              "      <td>0.243064</td>\n",
              "      <td>0.630533</td>\n",
              "      <td>0.023469</td>\n",
              "      <td>0.124430</td>\n",
              "      <td>0.336023</td>\n",
              "      <td>0.134458</td>\n",
              "      <td>0.252258</td>\n",
              "    </tr>\n",
              "    <tr>\n",
              "      <th>4</th>\n",
              "      <td>0.153846</td>\n",
              "      <td>0.357143</td>\n",
              "      <td>0.039474</td>\n",
              "      <td>0.266667</td>\n",
              "      <td>0.350523</td>\n",
              "      <td>0.320546</td>\n",
              "      <td>0.013154</td>\n",
              "      <td>0.101010</td>\n",
              "      <td>0.166667</td>\n",
              "      <td>0.110092</td>\n",
              "      <td>...</td>\n",
              "      <td>0.011166</td>\n",
              "      <td>0.130755</td>\n",
              "      <td>0.067583</td>\n",
              "      <td>0.250832</td>\n",
              "      <td>0.516053</td>\n",
              "      <td>0.111398</td>\n",
              "      <td>0.125693</td>\n",
              "      <td>0.332113</td>\n",
              "      <td>0.295913</td>\n",
              "      <td>0.253548</td>\n",
              "    </tr>\n",
              "  </tbody>\n",
              "</table>\n",
              "<p>5 rows × 202 columns</p>\n",
              "</div>\n",
              "    <div class=\"colab-df-buttons\">\n",
              "\n",
              "  <div class=\"colab-df-container\">\n",
              "    <button class=\"colab-df-convert\" onclick=\"convertToInteractive('df-d8ea15a7-a6ef-40b1-a435-5af67f58dd15')\"\n",
              "            title=\"Convert this dataframe to an interactive table.\"\n",
              "            style=\"display:none;\">\n",
              "\n",
              "  <svg xmlns=\"http://www.w3.org/2000/svg\" height=\"24px\" viewBox=\"0 -960 960 960\">\n",
              "    <path d=\"M120-120v-720h720v720H120Zm60-500h600v-160H180v160Zm220 220h160v-160H400v160Zm0 220h160v-160H400v160ZM180-400h160v-160H180v160Zm440 0h160v-160H620v160ZM180-180h160v-160H180v160Zm440 0h160v-160H620v160Z\"/>\n",
              "  </svg>\n",
              "    </button>\n",
              "\n",
              "  <style>\n",
              "    .colab-df-container {\n",
              "      display:flex;\n",
              "      gap: 12px;\n",
              "    }\n",
              "\n",
              "    .colab-df-convert {\n",
              "      background-color: #E8F0FE;\n",
              "      border: none;\n",
              "      border-radius: 50%;\n",
              "      cursor: pointer;\n",
              "      display: none;\n",
              "      fill: #1967D2;\n",
              "      height: 32px;\n",
              "      padding: 0 0 0 0;\n",
              "      width: 32px;\n",
              "    }\n",
              "\n",
              "    .colab-df-convert:hover {\n",
              "      background-color: #E2EBFA;\n",
              "      box-shadow: 0px 1px 2px rgba(60, 64, 67, 0.3), 0px 1px 3px 1px rgba(60, 64, 67, 0.15);\n",
              "      fill: #174EA6;\n",
              "    }\n",
              "\n",
              "    .colab-df-buttons div {\n",
              "      margin-bottom: 4px;\n",
              "    }\n",
              "\n",
              "    [theme=dark] .colab-df-convert {\n",
              "      background-color: #3B4455;\n",
              "      fill: #D2E3FC;\n",
              "    }\n",
              "\n",
              "    [theme=dark] .colab-df-convert:hover {\n",
              "      background-color: #434B5C;\n",
              "      box-shadow: 0px 1px 3px 1px rgba(0, 0, 0, 0.15);\n",
              "      filter: drop-shadow(0px 1px 2px rgba(0, 0, 0, 0.3));\n",
              "      fill: #FFFFFF;\n",
              "    }\n",
              "  </style>\n",
              "\n",
              "    <script>\n",
              "      const buttonEl =\n",
              "        document.querySelector('#df-d8ea15a7-a6ef-40b1-a435-5af67f58dd15 button.colab-df-convert');\n",
              "      buttonEl.style.display =\n",
              "        google.colab.kernel.accessAllowed ? 'block' : 'none';\n",
              "\n",
              "      async function convertToInteractive(key) {\n",
              "        const element = document.querySelector('#df-d8ea15a7-a6ef-40b1-a435-5af67f58dd15');\n",
              "        const dataTable =\n",
              "          await google.colab.kernel.invokeFunction('convertToInteractive',\n",
              "                                                    [key], {});\n",
              "        if (!dataTable) return;\n",
              "\n",
              "        const docLinkHtml = 'Like what you see? Visit the ' +\n",
              "          '<a target=\"_blank\" href=https://colab.research.google.com/notebooks/data_table.ipynb>data table notebook</a>'\n",
              "          + ' to learn more about interactive tables.';\n",
              "        element.innerHTML = '';\n",
              "        dataTable['output_type'] = 'display_data';\n",
              "        await google.colab.output.renderOutput(dataTable, element);\n",
              "        const docLink = document.createElement('div');\n",
              "        docLink.innerHTML = docLinkHtml;\n",
              "        element.appendChild(docLink);\n",
              "      }\n",
              "    </script>\n",
              "  </div>\n",
              "\n",
              "\n",
              "<div id=\"df-3a24b2c2-fb7d-4556-aad9-5a0abd3b2391\">\n",
              "  <button class=\"colab-df-quickchart\" onclick=\"quickchart('df-3a24b2c2-fb7d-4556-aad9-5a0abd3b2391')\"\n",
              "            title=\"Suggest charts\"\n",
              "            style=\"display:none;\">\n",
              "\n",
              "<svg xmlns=\"http://www.w3.org/2000/svg\" height=\"24px\"viewBox=\"0 0 24 24\"\n",
              "     width=\"24px\">\n",
              "    <g>\n",
              "        <path d=\"M19 3H5c-1.1 0-2 .9-2 2v14c0 1.1.9 2 2 2h14c1.1 0 2-.9 2-2V5c0-1.1-.9-2-2-2zM9 17H7v-7h2v7zm4 0h-2V7h2v10zm4 0h-2v-4h2v4z\"/>\n",
              "    </g>\n",
              "</svg>\n",
              "  </button>\n",
              "\n",
              "<style>\n",
              "  .colab-df-quickchart {\n",
              "      --bg-color: #E8F0FE;\n",
              "      --fill-color: #1967D2;\n",
              "      --hover-bg-color: #E2EBFA;\n",
              "      --hover-fill-color: #174EA6;\n",
              "      --disabled-fill-color: #AAA;\n",
              "      --disabled-bg-color: #DDD;\n",
              "  }\n",
              "\n",
              "  [theme=dark] .colab-df-quickchart {\n",
              "      --bg-color: #3B4455;\n",
              "      --fill-color: #D2E3FC;\n",
              "      --hover-bg-color: #434B5C;\n",
              "      --hover-fill-color: #FFFFFF;\n",
              "      --disabled-bg-color: #3B4455;\n",
              "      --disabled-fill-color: #666;\n",
              "  }\n",
              "\n",
              "  .colab-df-quickchart {\n",
              "    background-color: var(--bg-color);\n",
              "    border: none;\n",
              "    border-radius: 50%;\n",
              "    cursor: pointer;\n",
              "    display: none;\n",
              "    fill: var(--fill-color);\n",
              "    height: 32px;\n",
              "    padding: 0;\n",
              "    width: 32px;\n",
              "  }\n",
              "\n",
              "  .colab-df-quickchart:hover {\n",
              "    background-color: var(--hover-bg-color);\n",
              "    box-shadow: 0 1px 2px rgba(60, 64, 67, 0.3), 0 1px 3px 1px rgba(60, 64, 67, 0.15);\n",
              "    fill: var(--button-hover-fill-color);\n",
              "  }\n",
              "\n",
              "  .colab-df-quickchart-complete:disabled,\n",
              "  .colab-df-quickchart-complete:disabled:hover {\n",
              "    background-color: var(--disabled-bg-color);\n",
              "    fill: var(--disabled-fill-color);\n",
              "    box-shadow: none;\n",
              "  }\n",
              "\n",
              "  .colab-df-spinner {\n",
              "    border: 2px solid var(--fill-color);\n",
              "    border-color: transparent;\n",
              "    border-bottom-color: var(--fill-color);\n",
              "    animation:\n",
              "      spin 1s steps(1) infinite;\n",
              "  }\n",
              "\n",
              "  @keyframes spin {\n",
              "    0% {\n",
              "      border-color: transparent;\n",
              "      border-bottom-color: var(--fill-color);\n",
              "      border-left-color: var(--fill-color);\n",
              "    }\n",
              "    20% {\n",
              "      border-color: transparent;\n",
              "      border-left-color: var(--fill-color);\n",
              "      border-top-color: var(--fill-color);\n",
              "    }\n",
              "    30% {\n",
              "      border-color: transparent;\n",
              "      border-left-color: var(--fill-color);\n",
              "      border-top-color: var(--fill-color);\n",
              "      border-right-color: var(--fill-color);\n",
              "    }\n",
              "    40% {\n",
              "      border-color: transparent;\n",
              "      border-right-color: var(--fill-color);\n",
              "      border-top-color: var(--fill-color);\n",
              "    }\n",
              "    60% {\n",
              "      border-color: transparent;\n",
              "      border-right-color: var(--fill-color);\n",
              "    }\n",
              "    80% {\n",
              "      border-color: transparent;\n",
              "      border-right-color: var(--fill-color);\n",
              "      border-bottom-color: var(--fill-color);\n",
              "    }\n",
              "    90% {\n",
              "      border-color: transparent;\n",
              "      border-bottom-color: var(--fill-color);\n",
              "    }\n",
              "  }\n",
              "</style>\n",
              "\n",
              "  <script>\n",
              "    async function quickchart(key) {\n",
              "      const quickchartButtonEl =\n",
              "        document.querySelector('#' + key + ' button');\n",
              "      quickchartButtonEl.disabled = true;  // To prevent multiple clicks.\n",
              "      quickchartButtonEl.classList.add('colab-df-spinner');\n",
              "      try {\n",
              "        const charts = await google.colab.kernel.invokeFunction(\n",
              "            'suggestCharts', [key], {});\n",
              "      } catch (error) {\n",
              "        console.error('Error during call to suggestCharts:', error);\n",
              "      }\n",
              "      quickchartButtonEl.classList.remove('colab-df-spinner');\n",
              "      quickchartButtonEl.classList.add('colab-df-quickchart-complete');\n",
              "    }\n",
              "    (() => {\n",
              "      let quickchartButtonEl =\n",
              "        document.querySelector('#df-3a24b2c2-fb7d-4556-aad9-5a0abd3b2391 button');\n",
              "      quickchartButtonEl.style.display =\n",
              "        google.colab.kernel.accessAllowed ? 'block' : 'none';\n",
              "    })();\n",
              "  </script>\n",
              "</div>\n",
              "    </div>\n",
              "  </div>\n"
            ],
            "application/vnd.google.colaboratory.intrinsic+json": {
              "type": "dataframe"
            }
          },
          "metadata": {},
          "execution_count": 32
        }
      ]
    },
    {
      "cell_type": "code",
      "source": [
        "plt.hist(df.target, 100)\n",
        "_ = plt.plot()"
      ],
      "metadata": {
        "colab": {
          "base_uri": "https://localhost:8080/",
          "height": 430
        },
        "id": "w7EFrXeAo1Pd",
        "outputId": "f0d6af07-58dc-4a3c-c301-7febc34d5322"
      },
      "execution_count": null,
      "outputs": [
        {
          "output_type": "display_data",
          "data": {
            "text/plain": [
              "<Figure size 640x480 with 1 Axes>"
            ],
            "image/png": "[encoded data removed]"
          },
          "metadata": {}
        }
      ]
    },
    {
      "cell_type": "markdown",
      "source": [
        "Мы видим, что целевая переменная представляет собой численное значение, что определяет задачу моделирования как регрессию. Кроме того, график показывает, что распределение имеет форму, сходную с нормальным"
      ],
      "metadata": {
        "id": "08xuaiu-pGTF"
      }
    },
    {
      "cell_type": "markdown",
      "source": [
        "Построение базовой (baseline) модели"
      ],
      "metadata": {
        "id": "rqYRlMTsDuUm"
      }
    },
    {
      "cell_type": "code",
      "source": [
        "from sklearn.model_selection import train_test_split\n",
        "\n",
        "X_train, X_test, y_train, y_test = train_test_split(df.data, df.target, test_size=0.25, random_state=42)"
      ],
      "metadata": {
        "id": "6_UUQKf1pGli"
      },
      "execution_count": null,
      "outputs": []
    },
    {
      "cell_type": "code",
      "source": [
        "from sklearn.linear_model import LinearRegression\n",
        "\n",
        "baseline = LinearRegression()\n",
        "baseline.fit(X_train, y_train)\n",
        "bl_score = baseline.score(X_test, y_test)\n",
        "bl_score"
      ],
      "metadata": {
        "colab": {
          "base_uri": "https://localhost:8080/"
        },
        "id": "HT3h6Y_NpNzj",
        "outputId": "6fb6f0b2-b575-4a15-9e6e-010060cbe287"
      },
      "execution_count": null,
      "outputs": [
        {
          "output_type": "execute_result",
          "data": {
            "text/plain": [
              "-1.6511340762242646"
            ]
          },
          "metadata": {},
          "execution_count": 48
        }
      ]
    },
    {
      "cell_type": "markdown",
      "source": [
        "Базовая модель демонстрирует очень низкий уровень эффективности, хуже случайности, хуже предсказания среднего значения. Если бы мы продиагностировали ее, мы бы поняли, что проблема в очень высокой вариативности модели. Самая простая модель уже \"переобучается\" на наших данных. Это происходит потому, что в данных очень много признаков, каждый их которых добавляет одну степень свободы модели (добавляет один обучаемый коэффициент), что увеличивает её сложность."
      ],
      "metadata": {
        "id": "vbmImSbzD0PJ"
      }
    },
    {
      "cell_type": "code",
      "source": [
        "plt.figure()\n",
        "y_pred = baseline.predict(X_test)\n",
        "plt.scatter(y_pred, y_test)\n",
        "plt.plot(y_pred, y_pred, c='r')\n",
        "plt.show()"
      ],
      "metadata": {
        "colab": {
          "base_uri": "https://localhost:8080/",
          "height": 430
        },
        "id": "mxU_7jzFqRem",
        "outputId": "da51623a-ebc7-4d1b-c5fc-332b6368f204"
      },
      "execution_count": null,
      "outputs": [
        {
          "output_type": "display_data",
          "data": {
            "text/plain": [
              "<Figure size 640x480 with 1 Axes>"
            ],
            "image/png": "[encoded data removed]"
          },
          "metadata": {}
        }
      ]
    },
    {
      "cell_type": "markdown",
      "source": [
        "Определение относительной важности признаков"
      ],
      "metadata": {
        "id": "SNAq_mNXD2_-"
      }
    },
    {
      "cell_type": "code",
      "source": [
        "from sklearn.ensemble import RandomForestRegressor\n",
        "rf = RandomForestRegressor(n_estimators=15).fit(X_train, y_train)"
      ],
      "metadata": {
        "id": "XyHk4Mfipjre"
      },
      "execution_count": null,
      "outputs": []
    },
    {
      "cell_type": "markdown",
      "source": [
        "Мы получим столбчатый график, на котором по вертикали отложены все наши признаки, они подписаны слева вдоль вертикальной оси, по горизонтали - отложена относительная важность данного признака. Это условное число, которое показывает, насколько информативен данный признак для предсказания значения целевой переменной"
      ],
      "metadata": {
        "id": "nD5jcCl5D6IA"
      }
    },
    {
      "cell_type": "code",
      "source": [
        "sort = rf.feature_importances_.argsort()\n",
        "plt.barh(df.data.columns[sort], rf.feature_importances_[sort])\n",
        "plt.xlabel(\"Feature Importance\")"
      ],
      "metadata": {
        "colab": {
          "base_uri": "https://localhost:8080/",
          "height": 466
        },
        "id": "zMri2-MYpnKh",
        "outputId": "8042db9b-1a37-4812-872a-836fcad2ffa5"
      },
      "execution_count": null,
      "outputs": [
        {
          "output_type": "execute_result",
          "data": {
            "text/plain": [
              "Text(0.5, 0, 'Feature Importance')"
            ]
          },
          "metadata": {},
          "execution_count": 52
        },
        {
          "output_type": "display_data",
          "data": {
            "text/plain": [
              "<Figure size 640x480 with 1 Axes>"
            ],
            "image/png": "[encoded data removed]"
          },
          "metadata": {}
        }
      ]
    },
    {
      "cell_type": "code",
      "source": [
        "rf.feature_importances_[sort][-10:]"
      ],
      "metadata": {
        "colab": {
          "base_uri": "https://localhost:8080/"
        },
        "id": "_M0AMHsKpvLU",
        "outputId": "27b925e6-aab1-487d-d095-d359b1ecf064"
      },
      "execution_count": null,
      "outputs": [
        {
          "output_type": "execute_result",
          "data": {
            "text/plain": [
              "array([0.01176781, 0.01221601, 0.01292085, 0.01347632, 0.01385321,\n",
              "       0.01731933, 0.01789147, 0.05322532, 0.07081988, 0.1737878 ])"
            ]
          },
          "metadata": {},
          "execution_count": 53
        }
      ]
    },
    {
      "cell_type": "code",
      "source": [
        "df.data.columns[sort][-10:]"
      ],
      "metadata": {
        "colab": {
          "base_uri": "https://localhost:8080/"
        },
        "id": "E_PlcCdRpzWx",
        "outputId": "2044fff4-e52b-4f4a-c386-9ca39a8ca14a"
      },
      "execution_count": null,
      "outputs": [
        {
          "output_type": "execute_result",
          "data": {
            "text/plain": [
              "Index(['oz112', 'oz35', 'oz197', 'oz198', 'oz155', 'oz18', 'oz137', 'oz48',\n",
              "       'oz15', 'oz141'],\n",
              "      dtype='object')"
            ]
          },
          "metadata": {},
          "execution_count": 54
        }
      ]
    },
    {
      "cell_type": "markdown",
      "source": [
        "Теперь мы можем использовать эту информацию для удаления лишних данных из датасета. Количество самых важных признаков мы выбираем сами. Зачастую для этого используют \"метод локтя\". Можете самостоятельно попробовать разное количество признаков, мы сейчас возьмем 20"
      ],
      "metadata": {
        "id": "jrunzUhyEBJD"
      }
    },
    {
      "cell_type": "code",
      "source": [
        "trimmed = df.data[df.data.columns[sort][-20:]]\n",
        "trimmed.head()"
      ],
      "metadata": {
        "colab": {
          "base_uri": "https://localhost:8080/",
          "height": 206
        },
        "id": "yIbKoJsup44N",
        "outputId": "ffd59d8b-e820-498b-f4d9-285fedc4698e"
      },
      "execution_count": null,
      "outputs": [
        {
          "output_type": "execute_result",
          "data": {
            "text/plain": [
              "      oz161     oz117     oz158     oz179     oz160      oz20     oz201  \\\n",
              "0  0.382067  0.000000  0.800120  0.025609  0.865588  0.000000  0.127564   \n",
              "1  0.383458  0.311793  0.791224  0.024601  0.866714  0.242424  0.475618   \n",
              "2  0.382596  0.000000  0.798276  0.025104  0.865890  0.388889  0.497968   \n",
              "3  0.382776  0.000000  0.800965  0.025280  0.865875  0.095238  0.134458   \n",
              "4  0.383539  0.000000  0.802893  0.024934  0.865112  0.260870  0.295913   \n",
              "\n",
              "      oz170     oz180     oz162     oz112  oz35     oz197     oz198     oz155  \\\n",
              "0  0.866163  0.002655  0.319206  0.000000   0.0  0.505899  0.039213  0.752291   \n",
              "1  0.866069  0.002581  0.306084  0.222222   0.4  0.683820  0.326584  0.745984   \n",
              "2  0.866224  0.002722  0.406309  0.000000   0.0  0.499219  0.204885  0.753298   \n",
              "3  0.865988  0.002473  0.327848  0.000000   0.1  0.630533  0.023469  0.767469   \n",
              "4  0.866283  0.002810  0.329857  0.000000   0.0  0.516053  0.111398  0.741548   \n",
              "\n",
              "     oz18     oz137      oz48      oz15     oz141  \n",
              "0  0.0625  0.000000  0.312855  0.000000  0.041308  \n",
              "1  0.0625  0.278945  0.297041  0.282828  0.212274  \n",
              "2  0.1250  0.000000  0.288557  0.388889  0.063643  \n",
              "3  0.0000  0.039437  0.310692  0.111111  0.031193  \n",
              "4  0.0625  0.000000  0.286581  0.304348  0.063643  "
            ],
            "text/html": [
              "\n",
              "  <div id=\"df-5dd40c2f-c6b4-4b63-886c-ae2b78b7c56b\" class=\"colab-df-container\">\n",
              "    <div>\n",
              "<style scoped>\n",
              "    .dataframe tbody tr th:only-of-type {\n",
              "        vertical-align: middle;\n",
              "    }\n",
              "\n",
              "    .dataframe tbody tr th {\n",
              "        vertical-align: top;\n",
              "    }\n",
              "\n",
              "    .dataframe thead th {\n",
              "        text-align: right;\n",
              "    }\n",
              "</style>\n",
              "<table border=\"1\" class=\"dataframe\">\n",
              "  <thead>\n",
              "    <tr style=\"text-align: right;\">\n",
              "      <th></th>\n",
              "      <th>oz161</th>\n",
              "      <th>oz117</th>\n",
              "      <th>oz158</th>\n",
              "      <th>oz179</th>\n",
              "      <th>oz160</th>\n",
              "      <th>oz20</th>\n",
              "      <th>oz201</th>\n",
              "      <th>oz170</th>\n",
              "      <th>oz180</th>\n",
              "      <th>oz162</th>\n",
              "      <th>oz112</th>\n",
              "      <th>oz35</th>\n",
              "      <th>oz197</th>\n",
              "      <th>oz198</th>\n",
              "      <th>oz155</th>\n",
              "      <th>oz18</th>\n",
              "      <th>oz137</th>\n",
              "      <th>oz48</th>\n",
              "      <th>oz15</th>\n",
              "      <th>oz141</th>\n",
              "    </tr>\n",
              "  </thead>\n",
              "  <tbody>\n",
              "    <tr>\n",
              "      <th>0</th>\n",
              "      <td>0.382067</td>\n",
              "      <td>0.000000</td>\n",
              "      <td>0.800120</td>\n",
              "      <td>0.025609</td>\n",
              "      <td>0.865588</td>\n",
              "      <td>0.000000</td>\n",
              "      <td>0.127564</td>\n",
              "      <td>0.866163</td>\n",
              "      <td>0.002655</td>\n",
              "      <td>0.319206</td>\n",
              "      <td>0.000000</td>\n",
              "      <td>0.0</td>\n",
              "      <td>0.505899</td>\n",
              "      <td>0.039213</td>\n",
              "      <td>0.752291</td>\n",
              "      <td>0.0625</td>\n",
              "      <td>0.000000</td>\n",
              "      <td>0.312855</td>\n",
              "      <td>0.000000</td>\n",
              "      <td>0.041308</td>\n",
              "    </tr>\n",
              "    <tr>\n",
              "      <th>1</th>\n",
              "      <td>0.383458</td>\n",
              "      <td>0.311793</td>\n",
              "      <td>0.791224</td>\n",
              "      <td>0.024601</td>\n",
              "      <td>0.866714</td>\n",
              "      <td>0.242424</td>\n",
              "      <td>0.475618</td>\n",
              "      <td>0.866069</td>\n",
              "      <td>0.002581</td>\n",
              "      <td>0.306084</td>\n",
              "      <td>0.222222</td>\n",
              "      <td>0.4</td>\n",
              "      <td>0.683820</td>\n",
              "      <td>0.326584</td>\n",
              "      <td>0.745984</td>\n",
              "      <td>0.0625</td>\n",
              "      <td>0.278945</td>\n",
              "      <td>0.297041</td>\n",
              "      <td>0.282828</td>\n",
              "      <td>0.212274</td>\n",
              "    </tr>\n",
              "    <tr>\n",
              "      <th>2</th>\n",
              "      <td>0.382596</td>\n",
              "      <td>0.000000</td>\n",
              "      <td>0.798276</td>\n",
              "      <td>0.025104</td>\n",
              "      <td>0.865890</td>\n",
              "      <td>0.388889</td>\n",
              "      <td>0.497968</td>\n",
              "      <td>0.866224</td>\n",
              "      <td>0.002722</td>\n",
              "      <td>0.406309</td>\n",
              "      <td>0.000000</td>\n",
              "      <td>0.0</td>\n",
              "      <td>0.499219</td>\n",
              "      <td>0.204885</td>\n",
              "      <td>0.753298</td>\n",
              "      <td>0.1250</td>\n",
              "      <td>0.000000</td>\n",
              "      <td>0.288557</td>\n",
              "      <td>0.388889</td>\n",
              "      <td>0.063643</td>\n",
              "    </tr>\n",
              "    <tr>\n",
              "      <th>3</th>\n",
              "      <td>0.382776</td>\n",
              "      <td>0.000000</td>\n",
              "      <td>0.800965</td>\n",
              "      <td>0.025280</td>\n",
              "      <td>0.865875</td>\n",
              "      <td>0.095238</td>\n",
              "      <td>0.134458</td>\n",
              "      <td>0.865988</td>\n",
              "      <td>0.002473</td>\n",
              "      <td>0.327848</td>\n",
              "      <td>0.000000</td>\n",
              "      <td>0.1</td>\n",
              "      <td>0.630533</td>\n",
              "      <td>0.023469</td>\n",
              "      <td>0.767469</td>\n",
              "      <td>0.0000</td>\n",
              "      <td>0.039437</td>\n",
              "      <td>0.310692</td>\n",
              "      <td>0.111111</td>\n",
              "      <td>0.031193</td>\n",
              "    </tr>\n",
              "    <tr>\n",
              "      <th>4</th>\n",
              "      <td>0.383539</td>\n",
              "      <td>0.000000</td>\n",
              "      <td>0.802893</td>\n",
              "      <td>0.024934</td>\n",
              "      <td>0.865112</td>\n",
              "      <td>0.260870</td>\n",
              "      <td>0.295913</td>\n",
              "      <td>0.866283</td>\n",
              "      <td>0.002810</td>\n",
              "      <td>0.329857</td>\n",
              "      <td>0.000000</td>\n",
              "      <td>0.0</td>\n",
              "      <td>0.516053</td>\n",
              "      <td>0.111398</td>\n",
              "      <td>0.741548</td>\n",
              "      <td>0.0625</td>\n",
              "      <td>0.000000</td>\n",
              "      <td>0.286581</td>\n",
              "      <td>0.304348</td>\n",
              "      <td>0.063643</td>\n",
              "    </tr>\n",
              "  </tbody>\n",
              "</table>\n",
              "</div>\n",
              "    <div class=\"colab-df-buttons\">\n",
              "\n",
              "  <div class=\"colab-df-container\">\n",
              "    <button class=\"colab-df-convert\" onclick=\"convertToInteractive('df-5dd40c2f-c6b4-4b63-886c-ae2b78b7c56b')\"\n",
              "            title=\"Convert this dataframe to an interactive table.\"\n",
              "            style=\"display:none;\">\n",
              "\n",
              "  <svg xmlns=\"http://www.w3.org/2000/svg\" height=\"24px\" viewBox=\"0 -960 960 960\">\n",
              "    <path d=\"M120-120v-720h720v720H120Zm60-500h600v-160H180v160Zm220 220h160v-160H400v160Zm0 220h160v-160H400v160ZM180-400h160v-160H180v160Zm440 0h160v-160H620v160ZM180-180h160v-160H180v160Zm440 0h160v-160H620v160Z\"/>\n",
              "  </svg>\n",
              "    </button>\n",
              "\n",
              "  <style>\n",
              "    .colab-df-container {\n",
              "      display:flex;\n",
              "      gap: 12px;\n",
              "    }\n",
              "\n",
              "    .colab-df-convert {\n",
              "      background-color: #E8F0FE;\n",
              "      border: none;\n",
              "      border-radius: 50%;\n",
              "      cursor: pointer;\n",
              "      display: none;\n",
              "      fill: #1967D2;\n",
              "      height: 32px;\n",
              "      padding: 0 0 0 0;\n",
              "      width: 32px;\n",
              "    }\n",
              "\n",
              "    .colab-df-convert:hover {\n",
              "      background-color: #E2EBFA;\n",
              "      box-shadow: 0px 1px 2px rgba(60, 64, 67, 0.3), 0px 1px 3px 1px rgba(60, 64, 67, 0.15);\n",
              "      fill: #174EA6;\n",
              "    }\n",
              "\n",
              "    .colab-df-buttons div {\n",
              "      margin-bottom: 4px;\n",
              "    }\n",
              "\n",
              "    [theme=dark] .colab-df-convert {\n",
              "      background-color: #3B4455;\n",
              "      fill: #D2E3FC;\n",
              "    }\n",
              "\n",
              "    [theme=dark] .colab-df-convert:hover {\n",
              "      background-color: #434B5C;\n",
              "      box-shadow: 0px 1px 3px 1px rgba(0, 0, 0, 0.15);\n",
              "      filter: drop-shadow(0px 1px 2px rgba(0, 0, 0, 0.3));\n",
              "      fill: #FFFFFF;\n",
              "    }\n",
              "  </style>\n",
              "\n",
              "    <script>\n",
              "      const buttonEl =\n",
              "        document.querySelector('#df-5dd40c2f-c6b4-4b63-886c-ae2b78b7c56b button.colab-df-convert');\n",
              "      buttonEl.style.display =\n",
              "        google.colab.kernel.accessAllowed ? 'block' : 'none';\n",
              "\n",
              "      async function convertToInteractive(key) {\n",
              "        const element = document.querySelector('#df-5dd40c2f-c6b4-4b63-886c-ae2b78b7c56b');\n",
              "        const dataTable =\n",
              "          await google.colab.kernel.invokeFunction('convertToInteractive',\n",
              "                                                    [key], {});\n",
              "        if (!dataTable) return;\n",
              "\n",
              "        const docLinkHtml = 'Like what you see? Visit the ' +\n",
              "          '<a target=\"_blank\" href=https://colab.research.google.com/notebooks/data_table.ipynb>data table notebook</a>'\n",
              "          + ' to learn more about interactive tables.';\n",
              "        element.innerHTML = '';\n",
              "        dataTable['output_type'] = 'display_data';\n",
              "        await google.colab.output.renderOutput(dataTable, element);\n",
              "        const docLink = document.createElement('div');\n",
              "        docLink.innerHTML = docLinkHtml;\n",
              "        element.appendChild(docLink);\n",
              "      }\n",
              "    </script>\n",
              "  </div>\n",
              "\n",
              "\n",
              "<div id=\"df-f601186b-cbd0-43e6-b4f0-fa5b17a284d9\">\n",
              "  <button class=\"colab-df-quickchart\" onclick=\"quickchart('df-f601186b-cbd0-43e6-b4f0-fa5b17a284d9')\"\n",
              "            title=\"Suggest charts\"\n",
              "            style=\"display:none;\">\n",
              "\n",
              "<svg xmlns=\"http://www.w3.org/2000/svg\" height=\"24px\"viewBox=\"0 0 24 24\"\n",
              "     width=\"24px\">\n",
              "    <g>\n",
              "        <path d=\"M19 3H5c-1.1 0-2 .9-2 2v14c0 1.1.9 2 2 2h14c1.1 0 2-.9 2-2V5c0-1.1-.9-2-2-2zM9 17H7v-7h2v7zm4 0h-2V7h2v10zm4 0h-2v-4h2v4z\"/>\n",
              "    </g>\n",
              "</svg>\n",
              "  </button>\n",
              "\n",
              "<style>\n",
              "  .colab-df-quickchart {\n",
              "      --bg-color: #E8F0FE;\n",
              "      --fill-color: #1967D2;\n",
              "      --hover-bg-color: #E2EBFA;\n",
              "      --hover-fill-color: #174EA6;\n",
              "      --disabled-fill-color: #AAA;\n",
              "      --disabled-bg-color: #DDD;\n",
              "  }\n",
              "\n",
              "  [theme=dark] .colab-df-quickchart {\n",
              "      --bg-color: #3B4455;\n",
              "      --fill-color: #D2E3FC;\n",
              "      --hover-bg-color: #434B5C;\n",
              "      --hover-fill-color: #FFFFFF;\n",
              "      --disabled-bg-color: #3B4455;\n",
              "      --disabled-fill-color: #666;\n",
              "  }\n",
              "\n",
              "  .colab-df-quickchart {\n",
              "    background-color: var(--bg-color);\n",
              "    border: none;\n",
              "    border-radius: 50%;\n",
              "    cursor: pointer;\n",
              "    display: none;\n",
              "    fill: var(--fill-color);\n",
              "    height: 32px;\n",
              "    padding: 0;\n",
              "    width: 32px;\n",
              "  }\n",
              "\n",
              "  .colab-df-quickchart:hover {\n",
              "    background-color: var(--hover-bg-color);\n",
              "    box-shadow: 0 1px 2px rgba(60, 64, 67, 0.3), 0 1px 3px 1px rgba(60, 64, 67, 0.15);\n",
              "    fill: var(--button-hover-fill-color);\n",
              "  }\n",
              "\n",
              "  .colab-df-quickchart-complete:disabled,\n",
              "  .colab-df-quickchart-complete:disabled:hover {\n",
              "    background-color: var(--disabled-bg-color);\n",
              "    fill: var(--disabled-fill-color);\n",
              "    box-shadow: none;\n",
              "  }\n",
              "\n",
              "  .colab-df-spinner {\n",
              "    border: 2px solid var(--fill-color);\n",
              "    border-color: transparent;\n",
              "    border-bottom-color: var(--fill-color);\n",
              "    animation:\n",
              "      spin 1s steps(1) infinite;\n",
              "  }\n",
              "\n",
              "  @keyframes spin {\n",
              "    0% {\n",
              "      border-color: transparent;\n",
              "      border-bottom-color: var(--fill-color);\n",
              "      border-left-color: var(--fill-color);\n",
              "    }\n",
              "    20% {\n",
              "      border-color: transparent;\n",
              "      border-left-color: var(--fill-color);\n",
              "      border-top-color: var(--fill-color);\n",
              "    }\n",
              "    30% {\n",
              "      border-color: transparent;\n",
              "      border-left-color: var(--fill-color);\n",
              "      border-top-color: var(--fill-color);\n",
              "      border-right-color: var(--fill-color);\n",
              "    }\n",
              "    40% {\n",
              "      border-color: transparent;\n",
              "      border-right-color: var(--fill-color);\n",
              "      border-top-color: var(--fill-color);\n",
              "    }\n",
              "    60% {\n",
              "      border-color: transparent;\n",
              "      border-right-color: var(--fill-color);\n",
              "    }\n",
              "    80% {\n",
              "      border-color: transparent;\n",
              "      border-right-color: var(--fill-color);\n",
              "      border-bottom-color: var(--fill-color);\n",
              "    }\n",
              "    90% {\n",
              "      border-color: transparent;\n",
              "      border-bottom-color: var(--fill-color);\n",
              "    }\n",
              "  }\n",
              "</style>\n",
              "\n",
              "  <script>\n",
              "    async function quickchart(key) {\n",
              "      const quickchartButtonEl =\n",
              "        document.querySelector('#' + key + ' button');\n",
              "      quickchartButtonEl.disabled = true;  // To prevent multiple clicks.\n",
              "      quickchartButtonEl.classList.add('colab-df-spinner');\n",
              "      try {\n",
              "        const charts = await google.colab.kernel.invokeFunction(\n",
              "            'suggestCharts', [key], {});\n",
              "      } catch (error) {\n",
              "        console.error('Error during call to suggestCharts:', error);\n",
              "      }\n",
              "      quickchartButtonEl.classList.remove('colab-df-spinner');\n",
              "      quickchartButtonEl.classList.add('colab-df-quickchart-complete');\n",
              "    }\n",
              "    (() => {\n",
              "      let quickchartButtonEl =\n",
              "        document.querySelector('#df-f601186b-cbd0-43e6-b4f0-fa5b17a284d9 button');\n",
              "      quickchartButtonEl.style.display =\n",
              "        google.colab.kernel.accessAllowed ? 'block' : 'none';\n",
              "    })();\n",
              "  </script>\n",
              "</div>\n",
              "    </div>\n",
              "  </div>\n"
            ],
            "application/vnd.google.colaboratory.intrinsic+json": {
              "type": "dataframe",
              "variable_name": "trimmed",
              "summary": "{\n  \"name\": \"trimmed\",\n  \"rows\": 4450,\n  \"fields\": [\n    {\n      \"column\": \"oz161\",\n      \"properties\": {\n        \"dtype\": \"number\",\n        \"std\": 0.028325334266926162,\n        \"min\": 0.0,\n        \"max\": 1.0,\n        \"num_unique_values\": 3032,\n        \"samples\": [\n          0.389235,\n          0.383091,\n          0.382315\n        ],\n        \"semantic_type\": \"\",\n        \"description\": \"\"\n      }\n    },\n    {\n      \"column\": \"oz117\",\n      \"properties\": {\n        \"dtype\": \"number\",\n        \"std\": 0.0956852293742784,\n        \"min\": 0.0,\n        \"max\": 1.0,\n        \"num_unique_values\": 45,\n        \"samples\": [\n          0.472537,\n          0.493133,\n          0.432553\n        ],\n        \"semantic_type\": \"\",\n        \"description\": \"\"\n      }\n    },\n    {\n      \"column\": \"oz158\",\n      \"properties\": {\n        \"dtype\": \"number\",\n        \"std\": 0.0389503327063094,\n        \"min\": 0.0,\n        \"max\": 1.0,\n        \"num_unique_values\": 4054,\n        \"samples\": [\n          0.767256,\n          0.802054,\n          0.797979\n        ],\n        \"semantic_type\": \"\",\n        \"description\": \"\"\n      }\n    },\n    {\n      \"column\": \"oz179\",\n      \"properties\": {\n        \"dtype\": \"number\",\n        \"std\": 0.03623114608095392,\n        \"min\": 0.0,\n        \"max\": 1.0,\n        \"num_unique_values\": 3008,\n        \"samples\": [\n          0.02793,\n          0.0246,\n          0.022683\n        ],\n        \"semantic_type\": \"\",\n        \"description\": \"\"\n      }\n    },\n    {\n      \"column\": \"oz160\",\n      \"properties\": {\n        \"dtype\": \"number\",\n        \"std\": 0.015740065472422866,\n        \"min\": 0.0,\n        \"max\": 1.0,\n        \"num_unique_values\": 3157,\n        \"samples\": [\n          0.867164,\n          0.865013,\n          0.868322\n        ],\n        \"semantic_type\": \"\",\n        \"description\": \"\"\n      }\n    },\n    {\n      \"column\": \"oz20\",\n      \"properties\": {\n        \"dtype\": \"number\",\n        \"std\": 0.14639134309917537,\n        \"min\": 0.0,\n        \"max\": 1.0,\n        \"num_unique_values\": 496,\n        \"samples\": [\n          0.328767,\n          0.352941,\n          0.888889\n        ],\n        \"semantic_type\": \"\",\n        \"description\": \"\"\n      }\n    },\n    {\n      \"column\": \"oz201\",\n      \"properties\": {\n        \"dtype\": \"number\",\n        \"std\": 0.16687098037531115,\n        \"min\": 0.0,\n        \"max\": 1.0,\n        \"num_unique_values\": 4369,\n        \"samples\": [\n          0.378669,\n          0.191001,\n          0.279221\n        ],\n        \"semantic_type\": \"\",\n        \"description\": \"\"\n      }\n    },\n    {\n      \"column\": \"oz170\",\n      \"properties\": {\n        \"dtype\": \"number\",\n        \"std\": 0.0470669491865774,\n        \"min\": 0.0,\n        \"max\": 1.0,\n        \"num_unique_values\": 1121,\n        \"samples\": [\n          0.865565,\n          0.866159,\n          0.866018\n        ],\n        \"semantic_type\": \"\",\n        \"description\": \"\"\n      }\n    },\n    {\n      \"column\": \"oz180\",\n      \"properties\": {\n        \"dtype\": \"number\",\n        \"std\": 0.03641207480407449,\n        \"min\": 0.0,\n        \"max\": 1.0,\n        \"num_unique_values\": 1178,\n        \"samples\": [\n          0.002757,\n          0.002551,\n          0.002671\n        ],\n        \"semantic_type\": \"\",\n        \"description\": \"\"\n      }\n    },\n    {\n      \"column\": \"oz162\",\n      \"properties\": {\n        \"dtype\": \"number\",\n        \"std\": 0.09445178781251069,\n        \"min\": 0.0,\n        \"max\": 1.0,\n        \"num_unique_values\": 4351,\n        \"samples\": [\n          0.419248,\n          0.602171,\n          0.375874\n        ],\n        \"semantic_type\": \"\",\n        \"description\": \"\"\n      }\n    },\n    {\n      \"column\": \"oz112\",\n      \"properties\": {\n        \"dtype\": \"number\",\n        \"std\": 0.12326925119130434,\n        \"min\": 0.0,\n        \"max\": 1.0,\n        \"num_unique_values\": 9,\n        \"samples\": [\n          0.888889,\n          0.222222,\n          0.444444\n        ],\n        \"semantic_type\": \"\",\n        \"description\": \"\"\n      }\n    },\n    {\n      \"column\": \"oz35\",\n      \"properties\": {\n        \"dtype\": \"number\",\n        \"std\": 0.1764801321138443,\n        \"min\": 0.0,\n        \"max\": 1.0,\n        \"num_unique_values\": 11,\n        \"samples\": [\n          0.5,\n          0.0,\n          0.7\n        ],\n        \"semantic_type\": \"\",\n        \"description\": \"\"\n      }\n    },\n    {\n      \"column\": \"oz197\",\n      \"properties\": {\n        \"dtype\": \"number\",\n        \"std\": 0.09495877972870989,\n        \"min\": 0.0,\n        \"max\": 1.0,\n        \"num_unique_values\": 4303,\n        \"samples\": [\n          0.516158,\n          0.506051,\n          0.480966\n        ],\n        \"semantic_type\": \"\",\n        \"description\": \"\"\n      }\n    },\n    {\n      \"column\": \"oz198\",\n      \"properties\": {\n        \"dtype\": \"number\",\n        \"std\": 0.12391191828365833,\n        \"min\": 0.0,\n        \"max\": 1.0,\n        \"num_unique_values\": 4263,\n        \"samples\": [\n          0.099194,\n          0.319942,\n          0.239744\n        ],\n        \"semantic_type\": \"\",\n        \"description\": \"\"\n      }\n    },\n    {\n      \"column\": \"oz155\",\n      \"properties\": {\n        \"dtype\": \"number\",\n        \"std\": 0.032258986375108004,\n        \"min\": 0.0,\n        \"max\": 1.0,\n        \"num_unique_values\": 4246,\n        \"samples\": [\n          0.738579,\n          0.713539,\n          0.735473\n        ],\n        \"semantic_type\": \"\",\n        \"description\": \"\"\n      }\n    },\n    {\n      \"column\": \"oz18\",\n      \"properties\": {\n        \"dtype\": \"number\",\n        \"std\": 0.10991794111188675,\n        \"min\": 0.0,\n        \"max\": 1.0,\n        \"num_unique_values\": 15,\n        \"samples\": [\n          0.375,\n          1.0,\n          0.0625\n        ],\n        \"semantic_type\": \"\",\n        \"description\": \"\"\n      }\n    },\n    {\n      \"column\": \"oz137\",\n      \"properties\": {\n        \"dtype\": \"number\",\n        \"std\": 0.10821682153040867,\n        \"min\": 0.0,\n        \"max\": 1.0,\n        \"num_unique_values\": 535,\n        \"samples\": [\n          0.007124,\n          0.081222,\n          0.108426\n        ],\n        \"semantic_type\": \"\",\n        \"description\": \"\"\n      }\n    },\n    {\n      \"column\": \"oz48\",\n      \"properties\": {\n        \"dtype\": \"number\",\n        \"std\": 0.09802741136823342,\n        \"min\": 0.0,\n        \"max\": 1.0,\n        \"num_unique_values\": 3772,\n        \"samples\": [\n          0.284317,\n          0.242327,\n          0.215055\n        ],\n        \"semantic_type\": \"\",\n        \"description\": \"\"\n      }\n    },\n    {\n      \"column\": \"oz15\",\n      \"properties\": {\n        \"dtype\": \"number\",\n        \"std\": 0.16176041429084229,\n        \"min\": 0.0,\n        \"max\": 1.0,\n        \"num_unique_values\": 474,\n        \"samples\": [\n          0.452736,\n          0.328125,\n          0.233333\n        ],\n        \"semantic_type\": \"\",\n        \"description\": \"\"\n      }\n    },\n    {\n      \"column\": \"oz141\",\n      \"properties\": {\n        \"dtype\": \"number\",\n        \"std\": 0.09944705533997433,\n        \"min\": 0.0,\n        \"max\": 1.0,\n        \"num_unique_values\": 1429,\n        \"samples\": [\n          0.171232,\n          0.262293,\n          0.159762\n        ],\n        \"semantic_type\": \"\",\n        \"description\": \"\"\n      }\n    }\n  ]\n}"
            }
          },
          "metadata": {},
          "execution_count": 55
        }
      ]
    },
    {
      "cell_type": "code",
      "source": [
        "X_train, X_test, y_train, y_test = train_test_split(trimmed, df.target, test_size=0.25, random_state=42)\n",
        "\n",
        "better = LinearRegression()\n",
        "better.fit(X_train, y_train)\n",
        "\n",
        "print(bl_score)\n",
        "better.score(X_test, y_test)"
      ],
      "metadata": {
        "colab": {
          "base_uri": "https://localhost:8080/"
        },
        "id": "5MVrvgFbp-rS",
        "outputId": "58466d2b-f96a-46eb-b3ac-66d544f466fa"
      },
      "execution_count": null,
      "outputs": [
        {
          "output_type": "stream",
          "name": "stdout",
          "text": [
            "-1.6511340762242646\n"
          ]
        },
        {
          "output_type": "execute_result",
          "data": {
            "text/plain": [
              "0.36375675542731023"
            ]
          },
          "metadata": {},
          "execution_count": 56
        }
      ]
    },
    {
      "cell_type": "markdown",
      "source": [
        "Мы используем тот же класс моделей - линейную регрессию - чтобы различия в метрике были сопоставимы. И мы получаем гораздо более качественную модель. Метрика уже положительна, что свидетельствует о большом росте точности"
      ],
      "metadata": {
        "id": "fTLunL5hEDKW"
      }
    },
    {
      "cell_type": "code",
      "source": [
        "plt.figure()\n",
        "y_pred = better.predict(X_test)\n",
        "plt.scatter(y_pred, y_test)\n",
        "plt.plot(y_pred, y_pred, c='r')\n",
        "plt.show()"
      ],
      "metadata": {
        "colab": {
          "base_uri": "https://localhost:8080/",
          "height": 430
        },
        "id": "TUJS-hd6sY36",
        "outputId": "ac1ed6dc-26c2-4bc3-8460-b69d82fc8dd9"
      },
      "execution_count": null,
      "outputs": [
        {
          "output_type": "display_data",
          "data": {
            "text/plain": [
              "<Figure size 640x480 with 1 Axes>"
            ],
            "image/png": "[encoded data removed]"
          },
          "metadata": {}
        }
      ]
    },
    {
      "cell_type": "markdown",
      "source": [
        "Автоматизация отбора признаков"
      ],
      "metadata": {
        "id": "yhue_8-TEFlD"
      }
    },
    {
      "cell_type": "code",
      "source": [
        "df.data.shape"
      ],
      "metadata": {
        "colab": {
          "base_uri": "https://localhost:8080/"
        },
        "id": "X3WaYEukslIT",
        "outputId": "1fe40f41-9c84-4f42-844a-c7ae74c42cfe"
      },
      "execution_count": null,
      "outputs": [
        {
          "output_type": "execute_result",
          "data": {
            "text/plain": [
              "(4450, 202)"
            ]
          },
          "metadata": {},
          "execution_count": 59
        }
      ]
    },
    {
      "cell_type": "code",
      "source": [
        "from sklearn.feature_selection import SelectFromModel\n",
        "\n",
        "sfm = SelectFromModel(RandomForestRegressor(n_estimators=15)).fit(df.data, df.target)\n",
        "X_trimmed = sfm.transform(df.data)\n",
        "X_trimmed.shape"
      ],
      "metadata": {
        "colab": {
          "base_uri": "https://localhost:8080/"
        },
        "id": "CA2RoJHls9NB",
        "outputId": "f170d74f-71db-46ac-b1a8-5171258aa2fd"
      },
      "execution_count": null,
      "outputs": [
        {
          "output_type": "execute_result",
          "data": {
            "text/plain": [
              "(4450, 51)"
            ]
          },
          "metadata": {},
          "execution_count": 60
        }
      ]
    },
    {
      "cell_type": "markdown",
      "source": [
        "Видим еще большее улучшение по метрикам"
      ],
      "metadata": {
        "id": "CtXX-JU1EOT9"
      }
    },
    {
      "cell_type": "code",
      "source": [
        "X_train, X_test, y_train, y_test = train_test_split(X_trimmed, df.target, test_size=0.25, random_state=42)\n",
        "\n",
        "better = LinearRegression()\n",
        "better.fit(X_train, y_train)\n",
        "\n",
        "print(bl_score)\n",
        "better.score(X_test, y_test)"
      ],
      "metadata": {
        "colab": {
          "base_uri": "https://localhost:8080/"
        },
        "id": "G-ffuqlitB0A",
        "outputId": "f2bb8d08-4374-4b94-fe06-f4993ed41a55"
      },
      "execution_count": null,
      "outputs": [
        {
          "output_type": "stream",
          "name": "stdout",
          "text": [
            "-1.6511340762242646\n"
          ]
        },
        {
          "output_type": "execute_result",
          "data": {
            "text/plain": [
              "0.4279092938184562"
            ]
          },
          "metadata": {},
          "execution_count": 61
        }
      ]
    },
    {
      "cell_type": "markdown",
      "source": [
        "Устранение дисбаланса классов"
      ],
      "metadata": {
        "id": "G0_MXo4_EQ21"
      }
    },
    {
      "cell_type": "markdown",
      "source": [
        "Одна из самых частых проблем при построении моделей классификации на реальных данных - дисбаланс классов. Это ситуация, когда в датасете присутствует очень разное количество объектов, принадлежащих разным классам."
      ],
      "metadata": {
        "id": "B5Bm0DSYEUEU"
      }
    },
    {
      "cell_type": "code",
      "source": [
        "df = fetch_openml(\"balance-scale\", version=1)\n",
        "\n",
        "df.data.head()"
      ],
      "metadata": {
        "colab": {
          "base_uri": "https://localhost:8080/",
          "height": 206
        },
        "id": "GSr1C2s_vW17",
        "outputId": "e2816d8a-3b6f-41d6-ae8e-12c1065a79d0"
      },
      "execution_count": null,
      "outputs": [
        {
          "output_type": "execute_result",
          "data": {
            "text/plain": [
              "   left-weight  left-distance  right-weight  right-distance\n",
              "0            1              1             1               1\n",
              "1            1              1             1               2\n",
              "2            1              1             1               3\n",
              "3            1              1             1               4\n",
              "4            1              1             1               5"
            ],
            "text/html": [
              "\n",
              "  <div id=\"df-500c99f4-8a20-4aad-b862-9b7dc55a1f1a\" class=\"colab-df-container\">\n",
              "    <div>\n",
              "<style scoped>\n",
              "    .dataframe tbody tr th:only-of-type {\n",
              "        vertical-align: middle;\n",
              "    }\n",
              "\n",
              "    .dataframe tbody tr th {\n",
              "        vertical-align: top;\n",
              "    }\n",
              "\n",
              "    .dataframe thead th {\n",
              "        text-align: right;\n",
              "    }\n",
              "</style>\n",
              "<table border=\"1\" class=\"dataframe\">\n",
              "  <thead>\n",
              "    <tr style=\"text-align: right;\">\n",
              "      <th></th>\n",
              "      <th>left-weight</th>\n",
              "      <th>left-distance</th>\n",
              "      <th>right-weight</th>\n",
              "      <th>right-distance</th>\n",
              "    </tr>\n",
              "  </thead>\n",
              "  <tbody>\n",
              "    <tr>\n",
              "      <th>0</th>\n",
              "      <td>1</td>\n",
              "      <td>1</td>\n",
              "      <td>1</td>\n",
              "      <td>1</td>\n",
              "    </tr>\n",
              "    <tr>\n",
              "      <th>1</th>\n",
              "      <td>1</td>\n",
              "      <td>1</td>\n",
              "      <td>1</td>\n",
              "      <td>2</td>\n",
              "    </tr>\n",
              "    <tr>\n",
              "      <th>2</th>\n",
              "      <td>1</td>\n",
              "      <td>1</td>\n",
              "      <td>1</td>\n",
              "      <td>3</td>\n",
              "    </tr>\n",
              "    <tr>\n",
              "      <th>3</th>\n",
              "      <td>1</td>\n",
              "      <td>1</td>\n",
              "      <td>1</td>\n",
              "      <td>4</td>\n",
              "    </tr>\n",
              "    <tr>\n",
              "      <th>4</th>\n",
              "      <td>1</td>\n",
              "      <td>1</td>\n",
              "      <td>1</td>\n",
              "      <td>5</td>\n",
              "    </tr>\n",
              "  </tbody>\n",
              "</table>\n",
              "</div>\n",
              "    <div class=\"colab-df-buttons\">\n",
              "\n",
              "  <div class=\"colab-df-container\">\n",
              "    <button class=\"colab-df-convert\" onclick=\"convertToInteractive('df-500c99f4-8a20-4aad-b862-9b7dc55a1f1a')\"\n",
              "            title=\"Convert this dataframe to an interactive table.\"\n",
              "            style=\"display:none;\">\n",
              "\n",
              "  <svg xmlns=\"http://www.w3.org/2000/svg\" height=\"24px\" viewBox=\"0 -960 960 960\">\n",
              "    <path d=\"M120-120v-720h720v720H120Zm60-500h600v-160H180v160Zm220 220h160v-160H400v160Zm0 220h160v-160H400v160ZM180-400h160v-160H180v160Zm440 0h160v-160H620v160ZM180-180h160v-160H180v160Zm440 0h160v-160H620v160Z\"/>\n",
              "  </svg>\n",
              "    </button>\n",
              "\n",
              "  <style>\n",
              "    .colab-df-container {\n",
              "      display:flex;\n",
              "      gap: 12px;\n",
              "    }\n",
              "\n",
              "    .colab-df-convert {\n",
              "      background-color: #E8F0FE;\n",
              "      border: none;\n",
              "      border-radius: 50%;\n",
              "      cursor: pointer;\n",
              "      display: none;\n",
              "      fill: #1967D2;\n",
              "      height: 32px;\n",
              "      padding: 0 0 0 0;\n",
              "      width: 32px;\n",
              "    }\n",
              "\n",
              "    .colab-df-convert:hover {\n",
              "      background-color: #E2EBFA;\n",
              "      box-shadow: 0px 1px 2px rgba(60, 64, 67, 0.3), 0px 1px 3px 1px rgba(60, 64, 67, 0.15);\n",
              "      fill: #174EA6;\n",
              "    }\n",
              "\n",
              "    .colab-df-buttons div {\n",
              "      margin-bottom: 4px;\n",
              "    }\n",
              "\n",
              "    [theme=dark] .colab-df-convert {\n",
              "      background-color: #3B4455;\n",
              "      fill: #D2E3FC;\n",
              "    }\n",
              "\n",
              "    [theme=dark] .colab-df-convert:hover {\n",
              "      background-color: #434B5C;\n",
              "      box-shadow: 0px 1px 3px 1px rgba(0, 0, 0, 0.15);\n",
              "      filter: drop-shadow(0px 1px 2px rgba(0, 0, 0, 0.3));\n",
              "      fill: #FFFFFF;\n",
              "    }\n",
              "  </style>\n",
              "\n",
              "    <script>\n",
              "      const buttonEl =\n",
              "        document.querySelector('#df-500c99f4-8a20-4aad-b862-9b7dc55a1f1a button.colab-df-convert');\n",
              "      buttonEl.style.display =\n",
              "        google.colab.kernel.accessAllowed ? 'block' : 'none';\n",
              "\n",
              "      async function convertToInteractive(key) {\n",
              "        const element = document.querySelector('#df-500c99f4-8a20-4aad-b862-9b7dc55a1f1a');\n",
              "        const dataTable =\n",
              "          await google.colab.kernel.invokeFunction('convertToInteractive',\n",
              "                                                    [key], {});\n",
              "        if (!dataTable) return;\n",
              "\n",
              "        const docLinkHtml = 'Like what you see? Visit the ' +\n",
              "          '<a target=\"_blank\" href=https://colab.research.google.com/notebooks/data_table.ipynb>data table notebook</a>'\n",
              "          + ' to learn more about interactive tables.';\n",
              "        element.innerHTML = '';\n",
              "        dataTable['output_type'] = 'display_data';\n",
              "        await google.colab.output.renderOutput(dataTable, element);\n",
              "        const docLink = document.createElement('div');\n",
              "        docLink.innerHTML = docLinkHtml;\n",
              "        element.appendChild(docLink);\n",
              "      }\n",
              "    </script>\n",
              "  </div>\n",
              "\n",
              "\n",
              "<div id=\"df-1fa63e9d-2231-4d64-8d3a-6d1d30dc0788\">\n",
              "  <button class=\"colab-df-quickchart\" onclick=\"quickchart('df-1fa63e9d-2231-4d64-8d3a-6d1d30dc0788')\"\n",
              "            title=\"Suggest charts\"\n",
              "            style=\"display:none;\">\n",
              "\n",
              "<svg xmlns=\"http://www.w3.org/2000/svg\" height=\"24px\"viewBox=\"0 0 24 24\"\n",
              "     width=\"24px\">\n",
              "    <g>\n",
              "        <path d=\"M19 3H5c-1.1 0-2 .9-2 2v14c0 1.1.9 2 2 2h14c1.1 0 2-.9 2-2V5c0-1.1-.9-2-2-2zM9 17H7v-7h2v7zm4 0h-2V7h2v10zm4 0h-2v-4h2v4z\"/>\n",
              "    </g>\n",
              "</svg>\n",
              "  </button>\n",
              "\n",
              "<style>\n",
              "  .colab-df-quickchart {\n",
              "      --bg-color: #E8F0FE;\n",
              "      --fill-color: #1967D2;\n",
              "      --hover-bg-color: #E2EBFA;\n",
              "      --hover-fill-color: #174EA6;\n",
              "      --disabled-fill-color: #AAA;\n",
              "      --disabled-bg-color: #DDD;\n",
              "  }\n",
              "\n",
              "  [theme=dark] .colab-df-quickchart {\n",
              "      --bg-color: #3B4455;\n",
              "      --fill-color: #D2E3FC;\n",
              "      --hover-bg-color: #434B5C;\n",
              "      --hover-fill-color: #FFFFFF;\n",
              "      --disabled-bg-color: #3B4455;\n",
              "      --disabled-fill-color: #666;\n",
              "  }\n",
              "\n",
              "  .colab-df-quickchart {\n",
              "    background-color: var(--bg-color);\n",
              "    border: none;\n",
              "    border-radius: 50%;\n",
              "    cursor: pointer;\n",
              "    display: none;\n",
              "    fill: var(--fill-color);\n",
              "    height: 32px;\n",
              "    padding: 0;\n",
              "    width: 32px;\n",
              "  }\n",
              "\n",
              "  .colab-df-quickchart:hover {\n",
              "    background-color: var(--hover-bg-color);\n",
              "    box-shadow: 0 1px 2px rgba(60, 64, 67, 0.3), 0 1px 3px 1px rgba(60, 64, 67, 0.15);\n",
              "    fill: var(--button-hover-fill-color);\n",
              "  }\n",
              "\n",
              "  .colab-df-quickchart-complete:disabled,\n",
              "  .colab-df-quickchart-complete:disabled:hover {\n",
              "    background-color: var(--disabled-bg-color);\n",
              "    fill: var(--disabled-fill-color);\n",
              "    box-shadow: none;\n",
              "  }\n",
              "\n",
              "  .colab-df-spinner {\n",
              "    border: 2px solid var(--fill-color);\n",
              "    border-color: transparent;\n",
              "    border-bottom-color: var(--fill-color);\n",
              "    animation:\n",
              "      spin 1s steps(1) infinite;\n",
              "  }\n",
              "\n",
              "  @keyframes spin {\n",
              "    0% {\n",
              "      border-color: transparent;\n",
              "      border-bottom-color: var(--fill-color);\n",
              "      border-left-color: var(--fill-color);\n",
              "    }\n",
              "    20% {\n",
              "      border-color: transparent;\n",
              "      border-left-color: var(--fill-color);\n",
              "      border-top-color: var(--fill-color);\n",
              "    }\n",
              "    30% {\n",
              "      border-color: transparent;\n",
              "      border-left-color: var(--fill-color);\n",
              "      border-top-color: var(--fill-color);\n",
              "      border-right-color: var(--fill-color);\n",
              "    }\n",
              "    40% {\n",
              "      border-color: transparent;\n",
              "      border-right-color: var(--fill-color);\n",
              "      border-top-color: var(--fill-color);\n",
              "    }\n",
              "    60% {\n",
              "      border-color: transparent;\n",
              "      border-right-color: var(--fill-color);\n",
              "    }\n",
              "    80% {\n",
              "      border-color: transparent;\n",
              "      border-right-color: var(--fill-color);\n",
              "      border-bottom-color: var(--fill-color);\n",
              "    }\n",
              "    90% {\n",
              "      border-color: transparent;\n",
              "      border-bottom-color: var(--fill-color);\n",
              "    }\n",
              "  }\n",
              "</style>\n",
              "\n",
              "  <script>\n",
              "    async function quickchart(key) {\n",
              "      const quickchartButtonEl =\n",
              "        document.querySelector('#' + key + ' button');\n",
              "      quickchartButtonEl.disabled = true;  // To prevent multiple clicks.\n",
              "      quickchartButtonEl.classList.add('colab-df-spinner');\n",
              "      try {\n",
              "        const charts = await google.colab.kernel.invokeFunction(\n",
              "            'suggestCharts', [key], {});\n",
              "      } catch (error) {\n",
              "        console.error('Error during call to suggestCharts:', error);\n",
              "      }\n",
              "      quickchartButtonEl.classList.remove('colab-df-spinner');\n",
              "      quickchartButtonEl.classList.add('colab-df-quickchart-complete');\n",
              "    }\n",
              "    (() => {\n",
              "      let quickchartButtonEl =\n",
              "        document.querySelector('#df-1fa63e9d-2231-4d64-8d3a-6d1d30dc0788 button');\n",
              "      quickchartButtonEl.style.display =\n",
              "        google.colab.kernel.accessAllowed ? 'block' : 'none';\n",
              "    })();\n",
              "  </script>\n",
              "</div>\n",
              "    </div>\n",
              "  </div>\n"
            ],
            "application/vnd.google.colaboratory.intrinsic+json": {
              "type": "dataframe",
              "summary": "{\n  \"name\": \"df\",\n  \"rows\": 5,\n  \"fields\": [\n    {\n      \"column\": \"left-weight\",\n      \"properties\": {\n        \"dtype\": \"number\",\n        \"std\": 0,\n        \"min\": 1,\n        \"max\": 1,\n        \"num_unique_values\": 1,\n        \"samples\": [\n          1\n        ],\n        \"semantic_type\": \"\",\n        \"description\": \"\"\n      }\n    },\n    {\n      \"column\": \"left-distance\",\n      \"properties\": {\n        \"dtype\": \"number\",\n        \"std\": 0,\n        \"min\": 1,\n        \"max\": 1,\n        \"num_unique_values\": 1,\n        \"samples\": [\n          1\n        ],\n        \"semantic_type\": \"\",\n        \"description\": \"\"\n      }\n    },\n    {\n      \"column\": \"right-weight\",\n      \"properties\": {\n        \"dtype\": \"number\",\n        \"std\": 0,\n        \"min\": 1,\n        \"max\": 1,\n        \"num_unique_values\": 1,\n        \"samples\": [\n          1\n        ],\n        \"semantic_type\": \"\",\n        \"description\": \"\"\n      }\n    },\n    {\n      \"column\": \"right-distance\",\n      \"properties\": {\n        \"dtype\": \"number\",\n        \"std\": 1,\n        \"min\": 1,\n        \"max\": 5,\n        \"num_unique_values\": 5,\n        \"samples\": [\n          2\n        ],\n        \"semantic_type\": \"\",\n        \"description\": \"\"\n      }\n    }\n  ]\n}"
            }
          },
          "metadata": {},
          "execution_count": 62
        }
      ]
    },
    {
      "cell_type": "code",
      "source": [
        "plt.hist(df.target, 10)\n",
        "_ = plt.plot()"
      ],
      "metadata": {
        "colab": {
          "base_uri": "https://localhost:8080/",
          "height": 432
        },
        "id": "FWXOesKXva6T",
        "outputId": "43942f8b-66b3-4546-b234-aece160c3cdf"
      },
      "execution_count": null,
      "outputs": [
        {
          "output_type": "display_data",
          "data": {
            "text/plain": [
              "<Figure size 640x480 with 1 Axes>"
            ],
            "image/png": "[encoded data removed]"
          },
          "metadata": {}
        }
      ]
    },
    {
      "cell_type": "markdown",
      "source": [
        "Мы видим, что объекты объединены в три класса, называемые \"B\", \"R\" и \"L\". Причем, объектов класса \"B\" примерно в шесть раз меньше, чем каждого из двух других. Это - миноритарный класс, а два других - мажоритарные."
      ],
      "metadata": {
        "id": "lkGL2nzZEXht"
      }
    },
    {
      "cell_type": "code",
      "source": [
        "X_train, X_test, y_train, y_test = train_test_split(df.data, df.target, test_size=0.25, random_state=42, stratify=df.target)"
      ],
      "metadata": {
        "id": "DrRLjM_rvf5v"
      },
      "execution_count": null,
      "outputs": []
    },
    {
      "cell_type": "code",
      "source": [
        "plt.hist(y_train, 10)\n",
        "_ = plt.plot()"
      ],
      "metadata": {
        "colab": {
          "base_uri": "https://localhost:8080/",
          "height": 430
        },
        "id": "Og7djuZivlj2",
        "outputId": "deac5248-52ca-4795-a87b-94075391456a"
      },
      "execution_count": null,
      "outputs": [
        {
          "output_type": "display_data",
          "data": {
            "text/plain": [
              "<Figure size 640x480 with 1 Axes>"
            ],
            "image/png": "[encoded data removed]"
          },
          "metadata": {}
        }
      ]
    },
    {
      "cell_type": "markdown",
      "source": [
        "Базовая модель дает примерно 86% точности"
      ],
      "metadata": {
        "id": "rSMbPvLPEZ7_"
      }
    },
    {
      "cell_type": "code",
      "source": [
        "from sklearn.linear_model import LogisticRegression\n",
        "\n",
        "baseline = LogisticRegression()\n",
        "baseline.fit(X_train, y_train)\n",
        "bl_score = baseline.score(X_test, y_test)\n",
        "bl_score"
      ],
      "metadata": {
        "colab": {
          "base_uri": "https://localhost:8080/"
        },
        "id": "wPcU5xjGvpvU",
        "outputId": "becb1c86-435d-4159-f07e-9d933b3aeedc"
      },
      "execution_count": null,
      "outputs": [
        {
          "output_type": "execute_result",
          "data": {
            "text/plain": [
              "0.8598726114649682"
            ]
          },
          "metadata": {},
          "execution_count": 68
        }
      ]
    },
    {
      "cell_type": "code",
      "source": [
        "from sklearn.metrics import classification_report, confusion_matrix\n",
        "\n",
        "print(classification_report(y_test, baseline.predict(X_test)))"
      ],
      "metadata": {
        "colab": {
          "base_uri": "https://localhost:8080/"
        },
        "id": "zNJpTovSvz8l",
        "outputId": "3258058d-552a-4ca4-ac82-39118a3afb5a"
      },
      "execution_count": null,
      "outputs": [
        {
          "output_type": "stream",
          "name": "stdout",
          "text": [
            "              precision    recall  f1-score   support\n",
            "\n",
            "           B       0.00      0.00      0.00        12\n",
            "           L       0.87      0.92      0.89        73\n",
            "           R       0.86      0.94      0.90        72\n",
            "\n",
            "    accuracy                           0.86       157\n",
            "   macro avg       0.58      0.62      0.60       157\n",
            "weighted avg       0.80      0.86      0.83       157\n",
            "\n"
          ]
        }
      ]
    },
    {
      "cell_type": "code",
      "source": [
        "print(confusion_matrix(y_test, baseline.predict(X_test)))"
      ],
      "metadata": {
        "colab": {
          "base_uri": "https://localhost:8080/"
        },
        "id": "EXi_AstWv20F",
        "outputId": "ffba4e09-1966-48bb-b53c-a58277bbc832"
      },
      "execution_count": null,
      "outputs": [
        {
          "output_type": "stream",
          "name": "stdout",
          "text": [
            "[[ 0  6  6]\n",
            " [ 1 67  5]\n",
            " [ 0  4 68]]\n"
          ]
        }
      ]
    },
    {
      "cell_type": "markdown",
      "source": [
        "Фактически, модель вообще ни разу не распознала правильно объект миноритарного класса. Поэтому невзвешенная оценка качества модели на самом деле ближе к отметке в 60%"
      ],
      "metadata": {
        "id": "3Lv868NVEezL"
      }
    },
    {
      "cell_type": "markdown",
      "source": [
        "Главная проблема дисбаланса классов в том, что модель недостаточно учитывает объекты миноритарных классов. Можно относительно просто это исправить, при обучении модели, придав больший \"вес\" таким редким объектам."
      ],
      "metadata": {
        "id": "jrDK0VMlEhou"
      }
    },
    {
      "cell_type": "code",
      "source": [
        "from sklearn.utils.class_weight import compute_class_weight\n",
        "\n",
        "class_weights = compute_class_weight('balanced', classes=np.unique(y_train), y=y_train)\n",
        "class_weights = dict(zip(np.unique(y_train), class_weights))\n",
        "class_weights"
      ],
      "metadata": {
        "colab": {
          "base_uri": "https://localhost:8080/"
        },
        "id": "p2LxgKYrv87P",
        "outputId": "47c67818-620f-44a2-a828-ba3abc39730f"
      },
      "execution_count": null,
      "outputs": [
        {
          "output_type": "execute_result",
          "data": {
            "text/plain": [
              "{'B': np.float64(4.216216216216216),\n",
              " 'L': np.float64(0.7255813953488373),\n",
              " 'R': np.float64(0.7222222222222222)}"
            ]
          },
          "metadata": {},
          "execution_count": 71
        }
      ]
    },
    {
      "cell_type": "code",
      "source": [
        "weighted = LogisticRegression(class_weight=class_weights)\n",
        "weighted.fit(X_train, y_train)\n",
        "print(bl_score)\n",
        "weighted.score(X_test, y_test)"
      ],
      "metadata": {
        "colab": {
          "base_uri": "https://localhost:8080/"
        },
        "id": "xoreUY1EwCV7",
        "outputId": "e7a501f5-f963-4f27-8ca0-4805c2974806"
      },
      "execution_count": null,
      "outputs": [
        {
          "output_type": "stream",
          "name": "stdout",
          "text": [
            "0.8598726114649682\n"
          ]
        },
        {
          "output_type": "execute_result",
          "data": {
            "text/plain": [
              "0.9235668789808917"
            ]
          },
          "metadata": {},
          "execution_count": 72
        }
      ]
    },
    {
      "cell_type": "markdown",
      "source": [
        "Мы видим, что точность модели возросла с 86% до 92%. Это очень существенное увеличение эффективности. Причем обратите внимание, что оценивали модель мы на той же тестовой выборке, в которой сохранено исходной неравномерное распределение. То есть это естественное повышение качества."
      ],
      "metadata": {
        "id": "01U9Co4MEoM3"
      }
    },
    {
      "cell_type": "code",
      "source": [
        "from sklearn.metrics import classification_report, confusion_matrix\n",
        "\n",
        "print(classification_report(y_test, weighted.predict(X_test)))"
      ],
      "metadata": {
        "colab": {
          "base_uri": "https://localhost:8080/"
        },
        "id": "kUQ_UA5DwEpv",
        "outputId": "cc9e43da-f938-490f-ae3c-751ac533d1a8"
      },
      "execution_count": null,
      "outputs": [
        {
          "output_type": "stream",
          "name": "stdout",
          "text": [
            "              precision    recall  f1-score   support\n",
            "\n",
            "           B       0.61      0.92      0.73        12\n",
            "           L       0.97      0.92      0.94        73\n",
            "           R       0.96      0.93      0.94        72\n",
            "\n",
            "    accuracy                           0.92       157\n",
            "   macro avg       0.85      0.92      0.87       157\n",
            "weighted avg       0.94      0.92      0.93       157\n",
            "\n"
          ]
        }
      ]
    },
    {
      "cell_type": "markdown",
      "source": [
        "Oversampling"
      ],
      "metadata": {
        "id": "iwZdNXpcEqRs"
      }
    },
    {
      "cell_type": "code",
      "source": [
        "y_train.value_counts()"
      ],
      "metadata": {
        "colab": {
          "base_uri": "https://localhost:8080/",
          "height": 210
        },
        "id": "OqjaV2qKwJYu",
        "outputId": "47190451-c206-4c83-e0da-e430ff4369ba"
      },
      "execution_count": null,
      "outputs": [
        {
          "output_type": "execute_result",
          "data": {
            "text/plain": [
              "class\n",
              "R    216\n",
              "L    215\n",
              "B     37\n",
              "Name: count, dtype: int64"
            ],
            "text/html": [
              "<div>\n",
              "<style scoped>\n",
              "    .dataframe tbody tr th:only-of-type {\n",
              "        vertical-align: middle;\n",
              "    }\n",
              "\n",
              "    .dataframe tbody tr th {\n",
              "        vertical-align: top;\n",
              "    }\n",
              "\n",
              "    .dataframe thead th {\n",
              "        text-align: right;\n",
              "    }\n",
              "</style>\n",
              "<table border=\"1\" class=\"dataframe\">\n",
              "  <thead>\n",
              "    <tr style=\"text-align: right;\">\n",
              "      <th></th>\n",
              "      <th>count</th>\n",
              "    </tr>\n",
              "    <tr>\n",
              "      <th>class</th>\n",
              "      <th></th>\n",
              "    </tr>\n",
              "  </thead>\n",
              "  <tbody>\n",
              "    <tr>\n",
              "      <th>R</th>\n",
              "      <td>216</td>\n",
              "    </tr>\n",
              "    <tr>\n",
              "      <th>L</th>\n",
              "      <td>215</td>\n",
              "    </tr>\n",
              "    <tr>\n",
              "      <th>B</th>\n",
              "      <td>37</td>\n",
              "    </tr>\n",
              "  </tbody>\n",
              "</table>\n",
              "</div><br><label><b>dtype:</b> int64</label>"
            ]
          },
          "metadata": {},
          "execution_count": 75
        }
      ]
    },
    {
      "cell_type": "code",
      "source": [
        "X_train[\"target\"] = y_train\n",
        "oversampled = X_train[X_train.target == \"B\"].sample(n=216-37, replace=True, ignore_index=True)\n",
        "oversampled = pd.concat([X_train, oversampled])\n",
        "print(oversampled.shape)\n",
        "oversampled.head()"
      ],
      "metadata": {
        "colab": {
          "base_uri": "https://localhost:8080/",
          "height": 224
        },
        "id": "2uMZwh5iwLoJ",
        "outputId": "845731ee-10b4-4ebb-f2d9-d83d40836349"
      },
      "execution_count": null,
      "outputs": [
        {
          "output_type": "stream",
          "name": "stdout",
          "text": [
            "(647, 5)\n"
          ]
        },
        {
          "output_type": "execute_result",
          "data": {
            "text/plain": [
              "     left-weight  left-distance  right-weight  right-distance target\n",
              "262            3              1             3               3      R\n",
              "401            4              2             1               2      L\n",
              "174            2              2             5               5      R\n",
              "81             1              4             2               2      B\n",
              "36             1              2             3               2      R"
            ],
            "text/html": [
              "\n",
              "  <div id=\"df-2a2001fc-b404-4600-abb4-deb95859456f\" class=\"colab-df-container\">\n",
              "    <div>\n",
              "<style scoped>\n",
              "    .dataframe tbody tr th:only-of-type {\n",
              "        vertical-align: middle;\n",
              "    }\n",
              "\n",
              "    .dataframe tbody tr th {\n",
              "        vertical-align: top;\n",
              "    }\n",
              "\n",
              "    .dataframe thead th {\n",
              "        text-align: right;\n",
              "    }\n",
              "</style>\n",
              "<table border=\"1\" class=\"dataframe\">\n",
              "  <thead>\n",
              "    <tr style=\"text-align: right;\">\n",
              "      <th></th>\n",
              "      <th>left-weight</th>\n",
              "      <th>left-distance</th>\n",
              "      <th>right-weight</th>\n",
              "      <th>right-distance</th>\n",
              "      <th>target</th>\n",
              "    </tr>\n",
              "  </thead>\n",
              "  <tbody>\n",
              "    <tr>\n",
              "      <th>262</th>\n",
              "      <td>3</td>\n",
              "      <td>1</td>\n",
              "      <td>3</td>\n",
              "      <td>3</td>\n",
              "      <td>R</td>\n",
              "    </tr>\n",
              "    <tr>\n",
              "      <th>401</th>\n",
              "      <td>4</td>\n",
              "      <td>2</td>\n",
              "      <td>1</td>\n",
              "      <td>2</td>\n",
              "      <td>L</td>\n",
              "    </tr>\n",
              "    <tr>\n",
              "      <th>174</th>\n",
              "      <td>2</td>\n",
              "      <td>2</td>\n",
              "      <td>5</td>\n",
              "      <td>5</td>\n",
              "      <td>R</td>\n",
              "    </tr>\n",
              "    <tr>\n",
              "      <th>81</th>\n",
              "      <td>1</td>\n",
              "      <td>4</td>\n",
              "      <td>2</td>\n",
              "      <td>2</td>\n",
              "      <td>B</td>\n",
              "    </tr>\n",
              "    <tr>\n",
              "      <th>36</th>\n",
              "      <td>1</td>\n",
              "      <td>2</td>\n",
              "      <td>3</td>\n",
              "      <td>2</td>\n",
              "      <td>R</td>\n",
              "    </tr>\n",
              "  </tbody>\n",
              "</table>\n",
              "</div>\n",
              "    <div class=\"colab-df-buttons\">\n",
              "\n",
              "  <div class=\"colab-df-container\">\n",
              "    <button class=\"colab-df-convert\" onclick=\"convertToInteractive('df-2a2001fc-b404-4600-abb4-deb95859456f')\"\n",
              "            title=\"Convert this dataframe to an interactive table.\"\n",
              "            style=\"display:none;\">\n",
              "\n",
              "  <svg xmlns=\"http://www.w3.org/2000/svg\" height=\"24px\" viewBox=\"0 -960 960 960\">\n",
              "    <path d=\"M120-120v-720h720v720H120Zm60-500h600v-160H180v160Zm220 220h160v-160H400v160Zm0 220h160v-160H400v160ZM180-400h160v-160H180v160Zm440 0h160v-160H620v160ZM180-180h160v-160H180v160Zm440 0h160v-160H620v160Z\"/>\n",
              "  </svg>\n",
              "    </button>\n",
              "\n",
              "  <style>\n",
              "    .colab-df-container {\n",
              "      display:flex;\n",
              "      gap: 12px;\n",
              "    }\n",
              "\n",
              "    .colab-df-convert {\n",
              "      background-color: #E8F0FE;\n",
              "      border: none;\n",
              "      border-radius: 50%;\n",
              "      cursor: pointer;\n",
              "      display: none;\n",
              "      fill: #1967D2;\n",
              "      height: 32px;\n",
              "      padding: 0 0 0 0;\n",
              "      width: 32px;\n",
              "    }\n",
              "\n",
              "    .colab-df-convert:hover {\n",
              "      background-color: #E2EBFA;\n",
              "      box-shadow: 0px 1px 2px rgba(60, 64, 67, 0.3), 0px 1px 3px 1px rgba(60, 64, 67, 0.15);\n",
              "      fill: #174EA6;\n",
              "    }\n",
              "\n",
              "    .colab-df-buttons div {\n",
              "      margin-bottom: 4px;\n",
              "    }\n",
              "\n",
              "    [theme=dark] .colab-df-convert {\n",
              "      background-color: #3B4455;\n",
              "      fill: #D2E3FC;\n",
              "    }\n",
              "\n",
              "    [theme=dark] .colab-df-convert:hover {\n",
              "      background-color: #434B5C;\n",
              "      box-shadow: 0px 1px 3px 1px rgba(0, 0, 0, 0.15);\n",
              "      filter: drop-shadow(0px 1px 2px rgba(0, 0, 0, 0.3));\n",
              "      fill: #FFFFFF;\n",
              "    }\n",
              "  </style>\n",
              "\n",
              "    <script>\n",
              "      const buttonEl =\n",
              "        document.querySelector('#df-2a2001fc-b404-4600-abb4-deb95859456f button.colab-df-convert');\n",
              "      buttonEl.style.display =\n",
              "        google.colab.kernel.accessAllowed ? 'block' : 'none';\n",
              "\n",
              "      async function convertToInteractive(key) {\n",
              "        const element = document.querySelector('#df-2a2001fc-b404-4600-abb4-deb95859456f');\n",
              "        const dataTable =\n",
              "          await google.colab.kernel.invokeFunction('convertToInteractive',\n",
              "                                                    [key], {});\n",
              "        if (!dataTable) return;\n",
              "\n",
              "        const docLinkHtml = 'Like what you see? Visit the ' +\n",
              "          '<a target=\"_blank\" href=https://colab.research.google.com/notebooks/data_table.ipynb>data table notebook</a>'\n",
              "          + ' to learn more about interactive tables.';\n",
              "        element.innerHTML = '';\n",
              "        dataTable['output_type'] = 'display_data';\n",
              "        await google.colab.output.renderOutput(dataTable, element);\n",
              "        const docLink = document.createElement('div');\n",
              "        docLink.innerHTML = docLinkHtml;\n",
              "        element.appendChild(docLink);\n",
              "      }\n",
              "    </script>\n",
              "  </div>\n",
              "\n",
              "\n",
              "<div id=\"df-03f8982c-664a-42ba-a0bd-63f50ba725a7\">\n",
              "  <button class=\"colab-df-quickchart\" onclick=\"quickchart('df-03f8982c-664a-42ba-a0bd-63f50ba725a7')\"\n",
              "            title=\"Suggest charts\"\n",
              "            style=\"display:none;\">\n",
              "\n",
              "<svg xmlns=\"http://www.w3.org/2000/svg\" height=\"24px\"viewBox=\"0 0 24 24\"\n",
              "     width=\"24px\">\n",
              "    <g>\n",
              "        <path d=\"M19 3H5c-1.1 0-2 .9-2 2v14c0 1.1.9 2 2 2h14c1.1 0 2-.9 2-2V5c0-1.1-.9-2-2-2zM9 17H7v-7h2v7zm4 0h-2V7h2v10zm4 0h-2v-4h2v4z\"/>\n",
              "    </g>\n",
              "</svg>\n",
              "  </button>\n",
              "\n",
              "<style>\n",
              "  .colab-df-quickchart {\n",
              "      --bg-color: #E8F0FE;\n",
              "      --fill-color: #1967D2;\n",
              "      --hover-bg-color: #E2EBFA;\n",
              "      --hover-fill-color: #174EA6;\n",
              "      --disabled-fill-color: #AAA;\n",
              "      --disabled-bg-color: #DDD;\n",
              "  }\n",
              "\n",
              "  [theme=dark] .colab-df-quickchart {\n",
              "      --bg-color: #3B4455;\n",
              "      --fill-color: #D2E3FC;\n",
              "      --hover-bg-color: #434B5C;\n",
              "      --hover-fill-color: #FFFFFF;\n",
              "      --disabled-bg-color: #3B4455;\n",
              "      --disabled-fill-color: #666;\n",
              "  }\n",
              "\n",
              "  .colab-df-quickchart {\n",
              "    background-color: var(--bg-color);\n",
              "    border: none;\n",
              "    border-radius: 50%;\n",
              "    cursor: pointer;\n",
              "    display: none;\n",
              "    fill: var(--fill-color);\n",
              "    height: 32px;\n",
              "    padding: 0;\n",
              "    width: 32px;\n",
              "  }\n",
              "\n",
              "  .colab-df-quickchart:hover {\n",
              "    background-color: var(--hover-bg-color);\n",
              "    box-shadow: 0 1px 2px rgba(60, 64, 67, 0.3), 0 1px 3px 1px rgba(60, 64, 67, 0.15);\n",
              "    fill: var(--button-hover-fill-color);\n",
              "  }\n",
              "\n",
              "  .colab-df-quickchart-complete:disabled,\n",
              "  .colab-df-quickchart-complete:disabled:hover {\n",
              "    background-color: var(--disabled-bg-color);\n",
              "    fill: var(--disabled-fill-color);\n",
              "    box-shadow: none;\n",
              "  }\n",
              "\n",
              "  .colab-df-spinner {\n",
              "    border: 2px solid var(--fill-color);\n",
              "    border-color: transparent;\n",
              "    border-bottom-color: var(--fill-color);\n",
              "    animation:\n",
              "      spin 1s steps(1) infinite;\n",
              "  }\n",
              "\n",
              "  @keyframes spin {\n",
              "    0% {\n",
              "      border-color: transparent;\n",
              "      border-bottom-color: var(--fill-color);\n",
              "      border-left-color: var(--fill-color);\n",
              "    }\n",
              "    20% {\n",
              "      border-color: transparent;\n",
              "      border-left-color: var(--fill-color);\n",
              "      border-top-color: var(--fill-color);\n",
              "    }\n",
              "    30% {\n",
              "      border-color: transparent;\n",
              "      border-left-color: var(--fill-color);\n",
              "      border-top-color: var(--fill-color);\n",
              "      border-right-color: var(--fill-color);\n",
              "    }\n",
              "    40% {\n",
              "      border-color: transparent;\n",
              "      border-right-color: var(--fill-color);\n",
              "      border-top-color: var(--fill-color);\n",
              "    }\n",
              "    60% {\n",
              "      border-color: transparent;\n",
              "      border-right-color: var(--fill-color);\n",
              "    }\n",
              "    80% {\n",
              "      border-color: transparent;\n",
              "      border-right-color: var(--fill-color);\n",
              "      border-bottom-color: var(--fill-color);\n",
              "    }\n",
              "    90% {\n",
              "      border-color: transparent;\n",
              "      border-bottom-color: var(--fill-color);\n",
              "    }\n",
              "  }\n",
              "</style>\n",
              "\n",
              "  <script>\n",
              "    async function quickchart(key) {\n",
              "      const quickchartButtonEl =\n",
              "        document.querySelector('#' + key + ' button');\n",
              "      quickchartButtonEl.disabled = true;  // To prevent multiple clicks.\n",
              "      quickchartButtonEl.classList.add('colab-df-spinner');\n",
              "      try {\n",
              "        const charts = await google.colab.kernel.invokeFunction(\n",
              "            'suggestCharts', [key], {});\n",
              "      } catch (error) {\n",
              "        console.error('Error during call to suggestCharts:', error);\n",
              "      }\n",
              "      quickchartButtonEl.classList.remove('colab-df-spinner');\n",
              "      quickchartButtonEl.classList.add('colab-df-quickchart-complete');\n",
              "    }\n",
              "    (() => {\n",
              "      let quickchartButtonEl =\n",
              "        document.querySelector('#df-03f8982c-664a-42ba-a0bd-63f50ba725a7 button');\n",
              "      quickchartButtonEl.style.display =\n",
              "        google.colab.kernel.accessAllowed ? 'block' : 'none';\n",
              "    })();\n",
              "  </script>\n",
              "</div>\n",
              "    </div>\n",
              "  </div>\n"
            ],
            "application/vnd.google.colaboratory.intrinsic+json": {
              "type": "dataframe",
              "variable_name": "oversampled",
              "summary": "{\n  \"name\": \"oversampled\",\n  \"rows\": 647,\n  \"fields\": [\n    {\n      \"column\": \"left-weight\",\n      \"properties\": {\n        \"dtype\": \"number\",\n        \"std\": 1,\n        \"min\": 1,\n        \"max\": 5,\n        \"num_unique_values\": 5,\n        \"samples\": [\n          4,\n          5,\n          2\n        ],\n        \"semantic_type\": \"\",\n        \"description\": \"\"\n      }\n    },\n    {\n      \"column\": \"left-distance\",\n      \"properties\": {\n        \"dtype\": \"number\",\n        \"std\": 1,\n        \"min\": 1,\n        \"max\": 5,\n        \"num_unique_values\": 5,\n        \"samples\": [\n          2,\n          5,\n          4\n        ],\n        \"semantic_type\": \"\",\n        \"description\": \"\"\n      }\n    },\n    {\n      \"column\": \"right-weight\",\n      \"properties\": {\n        \"dtype\": \"number\",\n        \"std\": 1,\n        \"min\": 1,\n        \"max\": 5,\n        \"num_unique_values\": 5,\n        \"samples\": [\n          1,\n          4,\n          5\n        ],\n        \"semantic_type\": \"\",\n        \"description\": \"\"\n      }\n    },\n    {\n      \"column\": \"right-distance\",\n      \"properties\": {\n        \"dtype\": \"number\",\n        \"std\": 1,\n        \"min\": 1,\n        \"max\": 5,\n        \"num_unique_values\": 5,\n        \"samples\": [\n          2,\n          4,\n          5\n        ],\n        \"semantic_type\": \"\",\n        \"description\": \"\"\n      }\n    },\n    {\n      \"column\": \"target\",\n      \"properties\": {\n        \"dtype\": \"category\",\n        \"num_unique_values\": 3,\n        \"samples\": [\n          \"R\",\n          \"L\",\n          \"B\"\n        ],\n        \"semantic_type\": \"\",\n        \"description\": \"\"\n      }\n    }\n  ]\n}"
            }
          },
          "metadata": {},
          "execution_count": 78
        }
      ]
    },
    {
      "cell_type": "code",
      "source": [
        "plt.hist(X_train[\"target\"], 10)\n",
        "_ = plt.plot()"
      ],
      "metadata": {
        "colab": {
          "base_uri": "https://localhost:8080/",
          "height": 430
        },
        "id": "EpkdRFuywSJn",
        "outputId": "be4cf6f6-ee08-42e8-edbe-11292906ee6c"
      },
      "execution_count": null,
      "outputs": [
        {
          "output_type": "display_data",
          "data": {
            "text/plain": [
              "<Figure size 640x480 with 1 Axes>"
            ],
            "image/png": "[encoded data removed]"
          },
          "metadata": {}
        }
      ]
    },
    {
      "cell_type": "markdown",
      "source": [
        "Мы просто добавили в обучающую выборку дубликаты объектов миноритарного класса в нужном объеме. В итоге, по задумке этого метода, при обучении модель будет чаще видеть такие объекты (пусть одни и те же) и будет подстраивать свои веса под них в том же темпе, что и под объекты мажоритарных классов."
      ],
      "metadata": {
        "id": "VOIm9TZrExYd"
      }
    },
    {
      "cell_type": "code",
      "source": [
        "y_train_OS = oversampled.target\n",
        "X_train_OS = oversampled.drop([\"target\"], axis=1)"
      ],
      "metadata": {
        "id": "PEQhoPX8wYSq"
      },
      "execution_count": null,
      "outputs": []
    },
    {
      "cell_type": "code",
      "source": [
        "OSmodel = LogisticRegression()\n",
        "OSmodel.fit(X_train_OS, y_train_OS)\n",
        "print(bl_score)\n",
        "OSmodel.score(X_test, y_test)"
      ],
      "metadata": {
        "colab": {
          "base_uri": "https://localhost:8080/"
        },
        "id": "5SQ8N_31wZ8I",
        "outputId": "dfea9857-7cbd-44ed-bd39-30dded6fb891"
      },
      "execution_count": null,
      "outputs": [
        {
          "output_type": "stream",
          "name": "stdout",
          "text": [
            "0.8598726114649682\n"
          ]
        },
        {
          "output_type": "execute_result",
          "data": {
            "text/plain": [
              "0.9235668789808917"
            ]
          },
          "metadata": {},
          "execution_count": 81
        }
      ]
    },
    {
      "cell_type": "code",
      "source": [
        "from sklearn.metrics import classification_report, confusion_matrix\n",
        "\n",
        "print(classification_report(y_test, OSmodel.predict(X_test)))"
      ],
      "metadata": {
        "colab": {
          "base_uri": "https://localhost:8080/"
        },
        "id": "4PxwJDggwcsG",
        "outputId": "5b88829b-ac48-41c4-b636-f3508864e5a3"
      },
      "execution_count": null,
      "outputs": [
        {
          "output_type": "stream",
          "name": "stdout",
          "text": [
            "              precision    recall  f1-score   support\n",
            "\n",
            "           B       0.61      0.92      0.73        12\n",
            "           L       0.97      0.92      0.94        73\n",
            "           R       0.96      0.93      0.94        72\n",
            "\n",
            "    accuracy                           0.92       157\n",
            "   macro avg       0.85      0.92      0.87       157\n",
            "weighted avg       0.94      0.92      0.93       157\n",
            "\n"
          ]
        }
      ]
    },
    {
      "cell_type": "markdown",
      "source": [
        "При оценке качества этой модели получаем такую же картину, что и после взвешивания"
      ],
      "metadata": {
        "id": "AOQ8caxvE0aX"
      }
    },
    {
      "cell_type": "markdown",
      "source": [
        "Дискретизация целевой переменной"
      ],
      "metadata": {
        "id": "3KOinC83E2DY"
      }
    },
    {
      "cell_type": "code",
      "source": [
        "df = fetch_openml(\"CPMP-2015-regression\", version=1)\n",
        "df.data.drop([\"instance_id\"], inplace=True, axis=1)\n",
        "df.data = pd.get_dummies(df.data)\n",
        "df.data.head()"
      ],
      "metadata": {
        "colab": {
          "base_uri": "https://localhost:8080/",
          "height": 342
        },
        "id": "KRjZUtL-wfbG",
        "outputId": "8597912b-7fc7-4c41-ecf8-db543ceb4a0a"
      },
      "execution_count": null,
      "outputs": [
        {
          "output_type": "stream",
          "name": "stderr",
          "text": [
            "<ipython-input-83-fe69465c1096>:2: SettingWithCopyWarning: \n",
            "A value is trying to be set on a copy of a slice from a DataFrame\n",
            "\n",
            "See the caveats in the documentation: https://pandas.pydata.org/pandas-docs/stable/user_guide/indexing.html#returning-a-view-versus-a-copy\n",
            "  df.data.drop([\"instance_id\"], inplace=True, axis=1)\n"
          ]
        },
        {
          "output_type": "execute_result",
          "data": {
            "text/plain": [
              "   repetition  stacks  tiers  stack.tier.ratio  container.density  \\\n",
              "0           1      16      5            0.3125                0.6   \n",
              "1           1      16      5            0.3125                0.6   \n",
              "2           1      16      5            0.3125                0.6   \n",
              "3           1      16      5            0.3125                0.6   \n",
              "4           1      16      5            0.3125                0.6   \n",
              "\n",
              "   empty.stack.pct  overstowing.stack.pct  overstowing.2cont.stack.pct  \\\n",
              "0           0.0625                 0.6250                     0.909091   \n",
              "1           0.0625                 0.6250                     0.909091   \n",
              "2           0.0625                 0.6250                     0.909091   \n",
              "3           0.0625                 0.6250                     0.909091   \n",
              "4           0.1875                 0.5625                     1.000000   \n",
              "\n",
              "   group.same.min  group.same.max  ...  avg.l1.top.left.lg.group  \\\n",
              "0               0               6  ...                  0.509615   \n",
              "1               0               6  ...                  0.509615   \n",
              "2               0               6  ...                  0.509615   \n",
              "3               0               6  ...                  0.509615   \n",
              "4               0               7  ...                  0.663462   \n",
              "\n",
              "   cont.empty.grt.estack  pct.bottom.pct.on.top  \\\n",
              "0                 0.1750                    0.0   \n",
              "1                 0.1750                    0.0   \n",
              "2                 0.1750                    0.0   \n",
              "3                 0.1750                    0.0   \n",
              "4                 0.3375                    0.0   \n",
              "\n",
              "   algorithm_astar.symmulgt.transmul  algorithm_astar.symmullt.transmul  \\\n",
              "0                               True                              False   \n",
              "1                              False                               True   \n",
              "2                              False                              False   \n",
              "3                              False                              False   \n",
              "4                               True                              False   \n",
              "\n",
              "   algorithm_idastar.symmulgt.transmul  algorithm_idastar.symmullt.transmul  \\\n",
              "0                                False                                False   \n",
              "1                                False                                False   \n",
              "2                                 True                                False   \n",
              "3                                False                                 True   \n",
              "4                                False                                False   \n",
              "\n",
              "   runstatus_memout  runstatus_ok  runstatus_timeout  \n",
              "0             False          True              False  \n",
              "1             False          True              False  \n",
              "2             False          True              False  \n",
              "3             False         False               True  \n",
              "4              True         False              False  \n",
              "\n",
              "[5 rows x 30 columns]"
            ],
            "text/html": [
              "\n",
              "  <div id=\"df-cb75179c-91f8-48a6-96cc-813b7a035c4d\" class=\"colab-df-container\">\n",
              "    <div>\n",
              "<style scoped>\n",
              "    .dataframe tbody tr th:only-of-type {\n",
              "        vertical-align: middle;\n",
              "    }\n",
              "\n",
              "    .dataframe tbody tr th {\n",
              "        vertical-align: top;\n",
              "    }\n",
              "\n",
              "    .dataframe thead th {\n",
              "        text-align: right;\n",
              "    }\n",
              "</style>\n",
              "<table border=\"1\" class=\"dataframe\">\n",
              "  <thead>\n",
              "    <tr style=\"text-align: right;\">\n",
              "      <th></th>\n",
              "      <th>repetition</th>\n",
              "      <th>stacks</th>\n",
              "      <th>tiers</th>\n",
              "      <th>stack.tier.ratio</th>\n",
              "      <th>container.density</th>\n",
              "      <th>empty.stack.pct</th>\n",
              "      <th>overstowing.stack.pct</th>\n",
              "      <th>overstowing.2cont.stack.pct</th>\n",
              "      <th>group.same.min</th>\n",
              "      <th>group.same.max</th>\n",
              "      <th>...</th>\n",
              "      <th>avg.l1.top.left.lg.group</th>\n",
              "      <th>cont.empty.grt.estack</th>\n",
              "      <th>pct.bottom.pct.on.top</th>\n",
              "      <th>algorithm_astar.symmulgt.transmul</th>\n",
              "      <th>algorithm_astar.symmullt.transmul</th>\n",
              "      <th>algorithm_idastar.symmulgt.transmul</th>\n",
              "      <th>algorithm_idastar.symmullt.transmul</th>\n",
              "      <th>runstatus_memout</th>\n",
              "      <th>runstatus_ok</th>\n",
              "      <th>runstatus_timeout</th>\n",
              "    </tr>\n",
              "  </thead>\n",
              "  <tbody>\n",
              "    <tr>\n",
              "      <th>0</th>\n",
              "      <td>1</td>\n",
              "      <td>16</td>\n",
              "      <td>5</td>\n",
              "      <td>0.3125</td>\n",
              "      <td>0.6</td>\n",
              "      <td>0.0625</td>\n",
              "      <td>0.6250</td>\n",
              "      <td>0.909091</td>\n",
              "      <td>0</td>\n",
              "      <td>6</td>\n",
              "      <td>...</td>\n",
              "      <td>0.509615</td>\n",
              "      <td>0.1750</td>\n",
              "      <td>0.0</td>\n",
              "      <td>True</td>\n",
              "      <td>False</td>\n",
              "      <td>False</td>\n",
              "      <td>False</td>\n",
              "      <td>False</td>\n",
              "      <td>True</td>\n",
              "      <td>False</td>\n",
              "    </tr>\n",
              "    <tr>\n",
              "      <th>1</th>\n",
              "      <td>1</td>\n",
              "      <td>16</td>\n",
              "      <td>5</td>\n",
              "      <td>0.3125</td>\n",
              "      <td>0.6</td>\n",
              "      <td>0.0625</td>\n",
              "      <td>0.6250</td>\n",
              "      <td>0.909091</td>\n",
              "      <td>0</td>\n",
              "      <td>6</td>\n",
              "      <td>...</td>\n",
              "      <td>0.509615</td>\n",
              "      <td>0.1750</td>\n",
              "      <td>0.0</td>\n",
              "      <td>False</td>\n",
              "      <td>True</td>\n",
              "      <td>False</td>\n",
              "      <td>False</td>\n",
              "      <td>False</td>\n",
              "      <td>True</td>\n",
              "      <td>False</td>\n",
              "    </tr>\n",
              "    <tr>\n",
              "      <th>2</th>\n",
              "      <td>1</td>\n",
              "      <td>16</td>\n",
              "      <td>5</td>\n",
              "      <td>0.3125</td>\n",
              "      <td>0.6</td>\n",
              "      <td>0.0625</td>\n",
              "      <td>0.6250</td>\n",
              "      <td>0.909091</td>\n",
              "      <td>0</td>\n",
              "      <td>6</td>\n",
              "      <td>...</td>\n",
              "      <td>0.509615</td>\n",
              "      <td>0.1750</td>\n",
              "      <td>0.0</td>\n",
              "      <td>False</td>\n",
              "      <td>False</td>\n",
              "      <td>True</td>\n",
              "      <td>False</td>\n",
              "      <td>False</td>\n",
              "      <td>True</td>\n",
              "      <td>False</td>\n",
              "    </tr>\n",
              "    <tr>\n",
              "      <th>3</th>\n",
              "      <td>1</td>\n",
              "      <td>16</td>\n",
              "      <td>5</td>\n",
              "      <td>0.3125</td>\n",
              "      <td>0.6</td>\n",
              "      <td>0.0625</td>\n",
              "      <td>0.6250</td>\n",
              "      <td>0.909091</td>\n",
              "      <td>0</td>\n",
              "      <td>6</td>\n",
              "      <td>...</td>\n",
              "      <td>0.509615</td>\n",
              "      <td>0.1750</td>\n",
              "      <td>0.0</td>\n",
              "      <td>False</td>\n",
              "      <td>False</td>\n",
              "      <td>False</td>\n",
              "      <td>True</td>\n",
              "      <td>False</td>\n",
              "      <td>False</td>\n",
              "      <td>True</td>\n",
              "    </tr>\n",
              "    <tr>\n",
              "      <th>4</th>\n",
              "      <td>1</td>\n",
              "      <td>16</td>\n",
              "      <td>5</td>\n",
              "      <td>0.3125</td>\n",
              "      <td>0.6</td>\n",
              "      <td>0.1875</td>\n",
              "      <td>0.5625</td>\n",
              "      <td>1.000000</td>\n",
              "      <td>0</td>\n",
              "      <td>7</td>\n",
              "      <td>...</td>\n",
              "      <td>0.663462</td>\n",
              "      <td>0.3375</td>\n",
              "      <td>0.0</td>\n",
              "      <td>True</td>\n",
              "      <td>False</td>\n",
              "      <td>False</td>\n",
              "      <td>False</td>\n",
              "      <td>True</td>\n",
              "      <td>False</td>\n",
              "      <td>False</td>\n",
              "    </tr>\n",
              "  </tbody>\n",
              "</table>\n",
              "<p>5 rows × 30 columns</p>\n",
              "</div>\n",
              "    <div class=\"colab-df-buttons\">\n",
              "\n",
              "  <div class=\"colab-df-container\">\n",
              "    <button class=\"colab-df-convert\" onclick=\"convertToInteractive('df-cb75179c-91f8-48a6-96cc-813b7a035c4d')\"\n",
              "            title=\"Convert this dataframe to an interactive table.\"\n",
              "            style=\"display:none;\">\n",
              "\n",
              "  <svg xmlns=\"http://www.w3.org/2000/svg\" height=\"24px\" viewBox=\"0 -960 960 960\">\n",
              "    <path d=\"M120-120v-720h720v720H120Zm60-500h600v-160H180v160Zm220 220h160v-160H400v160Zm0 220h160v-160H400v160ZM180-400h160v-160H180v160Zm440 0h160v-160H620v160ZM180-180h160v-160H180v160Zm440 0h160v-160H620v160Z\"/>\n",
              "  </svg>\n",
              "    </button>\n",
              "\n",
              "  <style>\n",
              "    .colab-df-container {\n",
              "      display:flex;\n",
              "      gap: 12px;\n",
              "    }\n",
              "\n",
              "    .colab-df-convert {\n",
              "      background-color: #E8F0FE;\n",
              "      border: none;\n",
              "      border-radius: 50%;\n",
              "      cursor: pointer;\n",
              "      display: none;\n",
              "      fill: #1967D2;\n",
              "      height: 32px;\n",
              "      padding: 0 0 0 0;\n",
              "      width: 32px;\n",
              "    }\n",
              "\n",
              "    .colab-df-convert:hover {\n",
              "      background-color: #E2EBFA;\n",
              "      box-shadow: 0px 1px 2px rgba(60, 64, 67, 0.3), 0px 1px 3px 1px rgba(60, 64, 67, 0.15);\n",
              "      fill: #174EA6;\n",
              "    }\n",
              "\n",
              "    .colab-df-buttons div {\n",
              "      margin-bottom: 4px;\n",
              "    }\n",
              "\n",
              "    [theme=dark] .colab-df-convert {\n",
              "      background-color: #3B4455;\n",
              "      fill: #D2E3FC;\n",
              "    }\n",
              "\n",
              "    [theme=dark] .colab-df-convert:hover {\n",
              "      background-color: #434B5C;\n",
              "      box-shadow: 0px 1px 3px 1px rgba(0, 0, 0, 0.15);\n",
              "      filter: drop-shadow(0px 1px 2px rgba(0, 0, 0, 0.3));\n",
              "      fill: #FFFFFF;\n",
              "    }\n",
              "  </style>\n",
              "\n",
              "    <script>\n",
              "      const buttonEl =\n",
              "        document.querySelector('#df-cb75179c-91f8-48a6-96cc-813b7a035c4d button.colab-df-convert');\n",
              "      buttonEl.style.display =\n",
              "        google.colab.kernel.accessAllowed ? 'block' : 'none';\n",
              "\n",
              "      async function convertToInteractive(key) {\n",
              "        const element = document.querySelector('#df-cb75179c-91f8-48a6-96cc-813b7a035c4d');\n",
              "        const dataTable =\n",
              "          await google.colab.kernel.invokeFunction('convertToInteractive',\n",
              "                                                    [key], {});\n",
              "        if (!dataTable) return;\n",
              "\n",
              "        const docLinkHtml = 'Like what you see? Visit the ' +\n",
              "          '<a target=\"_blank\" href=https://colab.research.google.com/notebooks/data_table.ipynb>data table notebook</a>'\n",
              "          + ' to learn more about interactive tables.';\n",
              "        element.innerHTML = '';\n",
              "        dataTable['output_type'] = 'display_data';\n",
              "        await google.colab.output.renderOutput(dataTable, element);\n",
              "        const docLink = document.createElement('div');\n",
              "        docLink.innerHTML = docLinkHtml;\n",
              "        element.appendChild(docLink);\n",
              "      }\n",
              "    </script>\n",
              "  </div>\n",
              "\n",
              "\n",
              "<div id=\"df-74038868-589d-4d6d-8f2b-15190ccd6ede\">\n",
              "  <button class=\"colab-df-quickchart\" onclick=\"quickchart('df-74038868-589d-4d6d-8f2b-15190ccd6ede')\"\n",
              "            title=\"Suggest charts\"\n",
              "            style=\"display:none;\">\n",
              "\n",
              "<svg xmlns=\"http://www.w3.org/2000/svg\" height=\"24px\"viewBox=\"0 0 24 24\"\n",
              "     width=\"24px\">\n",
              "    <g>\n",
              "        <path d=\"M19 3H5c-1.1 0-2 .9-2 2v14c0 1.1.9 2 2 2h14c1.1 0 2-.9 2-2V5c0-1.1-.9-2-2-2zM9 17H7v-7h2v7zm4 0h-2V7h2v10zm4 0h-2v-4h2v4z\"/>\n",
              "    </g>\n",
              "</svg>\n",
              "  </button>\n",
              "\n",
              "<style>\n",
              "  .colab-df-quickchart {\n",
              "      --bg-color: #E8F0FE;\n",
              "      --fill-color: #1967D2;\n",
              "      --hover-bg-color: #E2EBFA;\n",
              "      --hover-fill-color: #174EA6;\n",
              "      --disabled-fill-color: #AAA;\n",
              "      --disabled-bg-color: #DDD;\n",
              "  }\n",
              "\n",
              "  [theme=dark] .colab-df-quickchart {\n",
              "      --bg-color: #3B4455;\n",
              "      --fill-color: #D2E3FC;\n",
              "      --hover-bg-color: #434B5C;\n",
              "      --hover-fill-color: #FFFFFF;\n",
              "      --disabled-bg-color: #3B4455;\n",
              "      --disabled-fill-color: #666;\n",
              "  }\n",
              "\n",
              "  .colab-df-quickchart {\n",
              "    background-color: var(--bg-color);\n",
              "    border: none;\n",
              "    border-radius: 50%;\n",
              "    cursor: pointer;\n",
              "    display: none;\n",
              "    fill: var(--fill-color);\n",
              "    height: 32px;\n",
              "    padding: 0;\n",
              "    width: 32px;\n",
              "  }\n",
              "\n",
              "  .colab-df-quickchart:hover {\n",
              "    background-color: var(--hover-bg-color);\n",
              "    box-shadow: 0 1px 2px rgba(60, 64, 67, 0.3), 0 1px 3px 1px rgba(60, 64, 67, 0.15);\n",
              "    fill: var(--button-hover-fill-color);\n",
              "  }\n",
              "\n",
              "  .colab-df-quickchart-complete:disabled,\n",
              "  .colab-df-quickchart-complete:disabled:hover {\n",
              "    background-color: var(--disabled-bg-color);\n",
              "    fill: var(--disabled-fill-color);\n",
              "    box-shadow: none;\n",
              "  }\n",
              "\n",
              "  .colab-df-spinner {\n",
              "    border: 2px solid var(--fill-color);\n",
              "    border-color: transparent;\n",
              "    border-bottom-color: var(--fill-color);\n",
              "    animation:\n",
              "      spin 1s steps(1) infinite;\n",
              "  }\n",
              "\n",
              "  @keyframes spin {\n",
              "    0% {\n",
              "      border-color: transparent;\n",
              "      border-bottom-color: var(--fill-color);\n",
              "      border-left-color: var(--fill-color);\n",
              "    }\n",
              "    20% {\n",
              "      border-color: transparent;\n",
              "      border-left-color: var(--fill-color);\n",
              "      border-top-color: var(--fill-color);\n",
              "    }\n",
              "    30% {\n",
              "      border-color: transparent;\n",
              "      border-left-color: var(--fill-color);\n",
              "      border-top-color: var(--fill-color);\n",
              "      border-right-color: var(--fill-color);\n",
              "    }\n",
              "    40% {\n",
              "      border-color: transparent;\n",
              "      border-right-color: var(--fill-color);\n",
              "      border-top-color: var(--fill-color);\n",
              "    }\n",
              "    60% {\n",
              "      border-color: transparent;\n",
              "      border-right-color: var(--fill-color);\n",
              "    }\n",
              "    80% {\n",
              "      border-color: transparent;\n",
              "      border-right-color: var(--fill-color);\n",
              "      border-bottom-color: var(--fill-color);\n",
              "    }\n",
              "    90% {\n",
              "      border-color: transparent;\n",
              "      border-bottom-color: var(--fill-color);\n",
              "    }\n",
              "  }\n",
              "</style>\n",
              "\n",
              "  <script>\n",
              "    async function quickchart(key) {\n",
              "      const quickchartButtonEl =\n",
              "        document.querySelector('#' + key + ' button');\n",
              "      quickchartButtonEl.disabled = true;  // To prevent multiple clicks.\n",
              "      quickchartButtonEl.classList.add('colab-df-spinner');\n",
              "      try {\n",
              "        const charts = await google.colab.kernel.invokeFunction(\n",
              "            'suggestCharts', [key], {});\n",
              "      } catch (error) {\n",
              "        console.error('Error during call to suggestCharts:', error);\n",
              "      }\n",
              "      quickchartButtonEl.classList.remove('colab-df-spinner');\n",
              "      quickchartButtonEl.classList.add('colab-df-quickchart-complete');\n",
              "    }\n",
              "    (() => {\n",
              "      let quickchartButtonEl =\n",
              "        document.querySelector('#df-74038868-589d-4d6d-8f2b-15190ccd6ede button');\n",
              "      quickchartButtonEl.style.display =\n",
              "        google.colab.kernel.accessAllowed ? 'block' : 'none';\n",
              "    })();\n",
              "  </script>\n",
              "</div>\n",
              "    </div>\n",
              "  </div>\n"
            ],
            "application/vnd.google.colaboratory.intrinsic+json": {
              "type": "dataframe"
            }
          },
          "metadata": {},
          "execution_count": 83
        }
      ]
    },
    {
      "cell_type": "code",
      "source": [
        "plt.hist(df.target, 100)\n",
        "_ = plt.plot()"
      ],
      "metadata": {
        "colab": {
          "base_uri": "https://localhost:8080/",
          "height": 430
        },
        "id": "utH9RSiPwgmW",
        "outputId": "221b9ebd-2715-4290-b246-7e288ea167e5"
      },
      "execution_count": null,
      "outputs": [
        {
          "output_type": "display_data",
          "data": {
            "text/plain": [
              "<Figure size 640x480 with 1 Axes>"
            ],
            "image/png": "[encoded data removed]"
          },
          "metadata": {}
        }
      ]
    },
    {
      "cell_type": "markdown",
      "source": [
        "Мы видим, что целевая переменная имеет численный вид (то есть перед нами проблема регрессии), и при этом, распределена очень неравномерно"
      ],
      "metadata": {
        "id": "bAZyoNJ1E5I9"
      }
    },
    {
      "cell_type": "code",
      "source": [
        "X_train, X_test, y_train, y_test = train_test_split(df.data, df.target, test_size=0.25, random_state=42)"
      ],
      "metadata": {
        "id": "D7SDgefmwkJz"
      },
      "execution_count": null,
      "outputs": []
    },
    {
      "cell_type": "code",
      "source": [
        "plt.hist(y_train, 100)\n",
        "_ = plt.plot()"
      ],
      "metadata": {
        "colab": {
          "base_uri": "https://localhost:8080/",
          "height": 430
        },
        "id": "KzuAiX_FwnRy",
        "outputId": "5ff030ad-3f99-44dd-bd1b-96d8ec612991"
      },
      "execution_count": null,
      "outputs": [
        {
          "output_type": "display_data",
          "data": {
            "text/plain": [
              "<Figure size 640x480 with 1 Axes>"
            ],
            "image/png": "[encoded data removed]"
          },
          "metadata": {}
        }
      ]
    },
    {
      "cell_type": "markdown",
      "source": [
        "Дискретизацию целевой переменной. Этот способ заключается в том, что мы объединяем значения целевой переменной в категории - bins - поэтому такой способ часто называют биннинг."
      ],
      "metadata": {
        "id": "VGzsLOtWE_St"
      }
    },
    {
      "cell_type": "code",
      "source": [
        "from sklearn.preprocessing import KBinsDiscretizer\n",
        "\n",
        "y_binned = KBinsDiscretizer(n_bins=5, encode=\"ordinal\", strategy=\"uniform\").fit_transform(pd.DataFrame(y_train))\n",
        "y_binned"
      ],
      "metadata": {
        "colab": {
          "base_uri": "https://localhost:8080/"
        },
        "id": "Orvz-zL3wqg0",
        "outputId": "bb178367-d36f-4cc2-9f41-5904c0823431"
      },
      "execution_count": null,
      "outputs": [
        {
          "output_type": "execute_result",
          "data": {
            "text/plain": [
              "array([[4.],\n",
              "       [0.],\n",
              "       [4.],\n",
              "       ...,\n",
              "       [0.],\n",
              "       [0.],\n",
              "       [4.]])"
            ]
          },
          "metadata": {},
          "execution_count": 88
        }
      ]
    },
    {
      "cell_type": "markdown",
      "source": [
        "Группировка объектов означает, что мы переходим к категориальному типу в целевой переменной. Каждая категория будет обозначать некоторый диапазон исходных значений. При этом категории нумеруются последовательно, как при применении OrdinalEncoder при кодировании категориальных признаков."
      ],
      "metadata": {
        "id": "0cEKbfGOFE4K"
      }
    },
    {
      "cell_type": "code",
      "source": [
        "plt.hist(y_binned, 15)\n",
        "_ = plt.plot()"
      ],
      "metadata": {
        "colab": {
          "base_uri": "https://localhost:8080/",
          "height": 430
        },
        "id": "14F9DCAAwvY7",
        "outputId": "74778db9-fcf3-43e2-96c3-cf5a77dfc38b"
      },
      "execution_count": null,
      "outputs": [
        {
          "output_type": "display_data",
          "data": {
            "text/plain": [
              "<Figure size 640x480 with 1 Axes>"
            ],
            "image/png": "[encoded data removed]"
          },
          "metadata": {}
        }
      ]
    },
    {
      "cell_type": "markdown",
      "source": [
        "Естественно, так как мы используем равномерные диапазоны, в крайних поддиапазонах соберутся большинство объектов выборки. Мы это видим на графике - столбцы укрупнились, но неравномерность распределения никуда не делась. В случае таких сильно неравномерных распределений нам больше подойдет другая стратегия - квантильная дискретизация, при которой длина диапазонов выбирается таким образом, чтобы в каждом из них оказалось примерно по одинаковому количеству объектов выборки"
      ],
      "metadata": {
        "id": "E6WKtCF2FKxW"
      }
    },
    {
      "cell_type": "code",
      "source": [
        "y_binned = KBinsDiscretizer(n_bins=5, encode=\"ordinal\", strategy=\"quantile\").fit_transform(pd.DataFrame(y_train))"
      ],
      "metadata": {
        "colab": {
          "base_uri": "https://localhost:8080/"
        },
        "id": "JUlr9wBMw3HL",
        "outputId": "cc357ec5-a5c0-4265-9fbb-24ba76eca609"
      },
      "execution_count": null,
      "outputs": [
        {
          "output_type": "stream",
          "name": "stderr",
          "text": [
            "/usr/local/lib/python3.11/dist-packages/sklearn/preprocessing/_discretization.py:306: UserWarning: Bins whose width are too small (i.e., <= 1e-8) in feature 0 are removed. Consider decreasing the number of bins.\n",
            "  warnings.warn(\n"
          ]
        }
      ]
    },
    {
      "cell_type": "code",
      "source": [
        "plt.hist(y_binned, 15)\n",
        "_ = plt.plot()"
      ],
      "metadata": {
        "id": "QNKGfLunw6Qz",
        "outputId": "ff5f6132-29ec-491a-83c2-22cb855f7a0e",
        "colab": {
          "base_uri": "https://localhost:8080/",
          "height": 430
        }
      },
      "execution_count": null,
      "outputs": [
        {
          "output_type": "display_data",
          "data": {
            "text/plain": [
              "<Figure size 640x480 with 1 Axes>"
            ],
            "image/png": "[encoded data removed]"
          },
          "metadata": {}
        }
      ]
    }
  ]
}
