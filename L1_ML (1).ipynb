{
  "nbformat": 4,
  "nbformat_minor": 0,
  "metadata": {
    "colab": {
      "provenance": []
    },
    "kernelspec": {
      "name": "python3",
      "display_name": "Python 3"
    },
    "language_info": {
      "name": "python"
    }
  },
  "cells": [
    {
      "cell_type": "markdown",
      "source": [
        "**L1.1 Парная линейная регрессия**"
      ],
      "metadata": {
        "id": "NJtdL3dtPTzu"
      }
    },
    {
      "cell_type": "code",
      "execution_count": null,
      "metadata": {
        "id": "Shi24B5-dZMV"
      },
      "outputs": [],
      "source": [
        "import numpy as np\n",
        "import pandas as pd\n",
        "import matplotlib.pyplot as plt"
      ]
    },
    {
      "cell_type": "code",
      "source": [
        "x = pd.read_csv('https://raw.githubusercontent.com/koroteevmv/ML_course/2023/ML1.1%20linear%20regression/data/x.csv', index_col=0)['0']\n",
        "y = pd.read_csv('https://raw.githubusercontent.com/koroteevmv/ML_course/2023/ML1.1%20linear%20regression/data/y.csv', index_col=0)['0']"
      ],
      "metadata": {
        "id": "BaZ9_fqkfx0k"
      },
      "execution_count": null,
      "outputs": []
    },
    {
      "cell_type": "code",
      "source": [
        "x.head()"
      ],
      "metadata": {
        "colab": {
          "base_uri": "https://localhost:8080/",
          "height": 241
        },
        "id": "sDmtsytrc6J0",
        "outputId": "cf7e2ce4-ade8-4c9a-8952-d8f8cfb60270"
      },
      "execution_count": null,
      "outputs": [
        {
          "output_type": "execute_result",
          "data": {
            "text/plain": [
              "0    1.462108\n",
              "1    1.133769\n",
              "2   -2.301539\n",
              "3    1.744812\n",
              "4    0.042214\n",
              "Name: 0, dtype: float64"
            ],
            "text/html": [
              "<div>\n",
              "<style scoped>\n",
              "    .dataframe tbody tr th:only-of-type {\n",
              "        vertical-align: middle;\n",
              "    }\n",
              "\n",
              "    .dataframe tbody tr th {\n",
              "        vertical-align: top;\n",
              "    }\n",
              "\n",
              "    .dataframe thead th {\n",
              "        text-align: right;\n",
              "    }\n",
              "</style>\n",
              "<table border=\"1\" class=\"dataframe\">\n",
              "  <thead>\n",
              "    <tr style=\"text-align: right;\">\n",
              "      <th></th>\n",
              "      <th>0</th>\n",
              "    </tr>\n",
              "  </thead>\n",
              "  <tbody>\n",
              "    <tr>\n",
              "      <th>0</th>\n",
              "      <td>1.462108</td>\n",
              "    </tr>\n",
              "    <tr>\n",
              "      <th>1</th>\n",
              "      <td>1.133769</td>\n",
              "    </tr>\n",
              "    <tr>\n",
              "      <th>2</th>\n",
              "      <td>-2.301539</td>\n",
              "    </tr>\n",
              "    <tr>\n",
              "      <th>3</th>\n",
              "      <td>1.744812</td>\n",
              "    </tr>\n",
              "    <tr>\n",
              "      <th>4</th>\n",
              "      <td>0.042214</td>\n",
              "    </tr>\n",
              "  </tbody>\n",
              "</table>\n",
              "</div><br><label><b>dtype:</b> float64</label>"
            ]
          },
          "metadata": {},
          "execution_count": 3
        }
      ]
    },
    {
      "cell_type": "code",
      "source": [
        "plt.figure()\n",
        "plt.scatter(x, y) # График зависимости одной переменной от другой\n",
        "plt.show()"
      ],
      "metadata": {
        "colab": {
          "base_uri": "https://localhost:8080/",
          "height": 430
        },
        "id": "51qYXCV7f8Xa",
        "outputId": "7f025396-0c6b-45cf-bc44-a6686c5a3d53"
      },
      "execution_count": null,
      "outputs": [
        {
          "output_type": "display_data",
          "data": {
            "text/plain": [
              "<Figure size 640x480 with 1 Axes>"
            ],
            "image/png": "[encoded data removed]"
          },
          "metadata": {}
        }
      ]
    },
    {
      "cell_type": "code",
      "source": [
        "class Model(object):\n",
        "    \"\"\"Модель парной линейной регрессии\"\"\"\n",
        "    def __init__(self): # Определение коэффициентов линейной регрессии\n",
        "        self.b0 = 2\n",
        "        self.b1 = 1\n",
        "\n",
        "    def predict(self, x):\n",
        "      return self.b0 + self.b1 * x\n",
        "\n",
        "    def error(self, X, Y):    #СКО\n",
        "      return sum((self.predict(X) - Y)**2) / (2 * len(X))\n",
        "\n",
        "    def fit(self, X, Y):  # Обновление коэффициентов модели методом градиентного спуска\n",
        "      alpha = 0.1\n",
        "      dJ0 = sum(self.predict(X) - Y) /len(X)\n",
        "      dJ1 = sum((self.predict(X) - Y) * X) /len(X)\n",
        "      self.b0 -= alpha * dJ0\n",
        "      self.b1 -= alpha * dJ1"
      ],
      "metadata": {
        "id": "d_GvXopCcc_o"
      },
      "execution_count": null,
      "outputs": []
    },
    {
      "cell_type": "code",
      "source": [
        "hyp = Model()\n",
        "print(hyp.predict(0))\n",
        "print(hyp.predict(100))\n",
        "J = hyp.error(x, y)\n",
        "print(\"initial error:\", J) # Начальная ошибка"
      ],
      "metadata": {
        "colab": {
          "base_uri": "https://localhost:8080/"
        },
        "id": "l8AGGpSAciIu",
        "outputId": "7b824fb4-fc00-4874-e169-6925be780275"
      },
      "execution_count": null,
      "outputs": [
        {
          "output_type": "stream",
          "name": "stdout",
          "text": [
            "2\n",
            "102\n",
            "initial error: 2873.527844047978\n"
          ]
        }
      ]
    },
    {
      "cell_type": "code",
      "source": [
        "X0 = np.linspace(-3, 2, 100) # График до обучения\n",
        "Y0 = hyp.predict(X0)\n",
        "plt.figure()\n",
        "plt.scatter(x, y)\n",
        "plt.plot(X0, Y0, 'r')\n",
        "plt.show()"
      ],
      "metadata": {
        "colab": {
          "base_uri": "https://localhost:8080/",
          "height": 430
        },
        "id": "_QQqvCI8clOn",
        "outputId": "217b1be3-20ea-4d14-dbe6-446b78e81a12"
      },
      "execution_count": null,
      "outputs": [
        {
          "output_type": "display_data",
          "data": {
            "text/plain": [
              "<Figure size 640x480 with 1 Axes>"
            ],
            "image/png": "[encoded data removed]"
          },
          "metadata": {}
        }
      ]
    },
    {
      "cell_type": "code",
      "source": [
        "hyp.fit(x, y) # Обучение модели\n",
        "J = hyp.error(x, y)\n",
        "print(\"error after gradient descent:\", J)"
      ],
      "metadata": {
        "colab": {
          "base_uri": "https://localhost:8080/"
        },
        "id": "Gm1jAgchcpD0",
        "outputId": "6afb8ec0-5ff8-4fdb-bb63-c95809e5d056"
      },
      "execution_count": null,
      "outputs": [
        {
          "output_type": "stream",
          "name": "stdout",
          "text": [
            "error after gradient descent: 2201.4496904842617\n"
          ]
        }
      ]
    },
    {
      "cell_type": "code",
      "source": [
        "X0 = np.linspace(-3, 2, 100) # График после обучения\n",
        "Y0 = hyp.predict(X0)\n",
        "plt.figure()\n",
        "plt.scatter(x, y)\n",
        "plt.plot(X0, Y0, 'r')\n",
        "plt.show()"
      ],
      "metadata": {
        "colab": {
          "base_uri": "https://localhost:8080/",
          "height": 430
        },
        "id": "oN0E8PqgctHg",
        "outputId": "e435e1d2-1c11-491b-edd4-336de6112d3d"
      },
      "execution_count": null,
      "outputs": [
        {
          "output_type": "display_data",
          "data": {
            "text/plain": [
              "<Figure size 640x480 with 1 Axes>"
            ],
            "image/png": "[encoded data removed]"
          },
          "metadata": {}
        }
      ]
    },
    {
      "cell_type": "code",
      "source": [
        "class Model(object):\n",
        "    def __init__(self):\n",
        "        self.b0 = 0\n",
        "        self.b1 = 0\n",
        "    def predict(self, x):\n",
        "        return self.b0 + self.b1 * x\n",
        "    def error(self, X, Y):\n",
        "        return sum((self.predict(X) - Y) ** 2) / (2 * len(Y))\n",
        "    def fit(self, X, Y, alpha=0.001, accuracy=10**(-6), max_steps=5000):\n",
        "        X = np.array(X)\n",
        "        Y = np.array(Y)\n",
        "        steps, errors = [], []\n",
        "        step = 0\n",
        "        for i in range(10000):\n",
        "            dJ0 = sum(self.predict(X) - Y) / len(Y)\n",
        "            dJ1 = sum((self.predict(X) - Y) * X) / len(Y)\n",
        "            self.b0 -= alpha * dJ0\n",
        "            self.b1 -= alpha * dJ1\n",
        "            new_err = hyp.error(X, Y)\n",
        "            step += 1\n",
        "            steps.append(step)\n",
        "            errors.append(new_err)\n",
        "        return steps, errors"
      ],
      "metadata": {
        "id": "VehPsnS6gA7T"
      },
      "execution_count": null,
      "outputs": []
    },
    {
      "cell_type": "code",
      "source": [
        "hyp = Model()\n",
        "steps, errors = hyp.fit(x, y)\n",
        "J = hyp.error(x, y)\n",
        "print(\"error after gradient descent:\", J)"
      ],
      "metadata": {
        "colab": {
          "base_uri": "https://localhost:8080/"
        },
        "id": "_vX4bDM_glM8",
        "outputId": "89162fbe-4241-48e5-ba6f-10fea68c7e4f"
      },
      "execution_count": null,
      "outputs": [
        {
          "output_type": "stream",
          "name": "stdout",
          "text": [
            "error after gradient descent: 2.7769753060572152e-06\n"
          ]
        }
      ]
    },
    {
      "cell_type": "code",
      "source": [
        "X0 = np.linspace(-3, 2, 100)\n",
        "Y0 = hyp.predict(X0)\n",
        "plt.figure()\n",
        "plt.scatter(x, y)\n",
        "plt.plot(X0, Y0, 'r')\n",
        "plt.show()"
      ],
      "metadata": {
        "colab": {
          "base_uri": "https://localhost:8080/",
          "height": 430
        },
        "id": "TCYnr8WkhI6U",
        "outputId": "7ff959ac-a1b3-4710-e805-46f8f384ca39"
      },
      "execution_count": null,
      "outputs": [
        {
          "output_type": "display_data",
          "data": {
            "text/plain": [
              "<Figure size 640x480 with 1 Axes>"
            ],
            "image/png": "[encoded data removed]"
          },
          "metadata": {}
        }
      ]
    },
    {
      "cell_type": "code",
      "source": [
        "plt.figure()\n",
        "plt.plot(steps, errors, 'g')\n",
        "plt.show()"
      ],
      "metadata": {
        "colab": {
          "base_uri": "https://localhost:8080/",
          "height": 430
        },
        "id": "Dv0ZAPnhhLG6",
        "outputId": "dd2d79e8-d80c-49ae-e1bf-4bbd7f80b456"
      },
      "execution_count": null,
      "outputs": [
        {
          "output_type": "display_data",
          "data": {
            "text/plain": [
              "<Figure size 640x480 with 1 Axes>"
            ],
            "image/png": "[encoded data removed]"
          },
          "metadata": {}
        }
      ]
    },
    {
      "cell_type": "markdown",
      "source": [
        "**L1.2 Множественная линейная регрессия на чистых данных**"
      ],
      "metadata": {
        "id": "XpDK62GJPdqt"
      }
    },
    {
      "cell_type": "code",
      "source": [
        "from sklearn.linear_model import LinearRegression"
      ],
      "metadata": {
        "id": "ELxbq9aGPkA9"
      },
      "execution_count": null,
      "outputs": []
    },
    {
      "cell_type": "code",
      "source": [
        "x = pd.read_csv(\"https://github.com/koroteevmv/ML_course/raw/main/ML1.2%20multivariate/data/0_x.csv\",\n",
        "                header=None)\n",
        "y = pd.read_csv(\"https://github.com/koroteevmv/ML_course/raw/main/ML1.2%20multivariate/data/0_y.csv\",\n",
        "                header=None)"
      ],
      "metadata": {
        "id": "muglpWfTPeyj"
      },
      "execution_count": null,
      "outputs": []
    },
    {
      "cell_type": "code",
      "source": [
        "x.head()"
      ],
      "metadata": {
        "id": "wUL_Ilu1PhLq",
        "colab": {
          "base_uri": "https://localhost:8080/",
          "height": 206
        },
        "outputId": "05494543-9626-4b33-c6bd-4a3f093f9158"
      },
      "execution_count": null,
      "outputs": [
        {
          "output_type": "execute_result",
          "data": {
            "text/plain": [
              "          0         1         2         3         4\n",
              "0  0.071841  0.855352 -0.305597  0.028253  1.826895\n",
              "1  0.139521 -0.423507  0.461059 -0.447400 -0.034988\n",
              "2  1.626311 -0.257622 -0.697520  1.413219  1.086292\n",
              "3 -1.183233 -0.826343  0.073047 -0.639690 -0.503273\n",
              "4 -0.783365 -0.861232  0.951448 -0.117306  0.680597"
            ],
            "text/html": [
              "\n",
              "  <div id=\"df-78c23b59-876b-4758-be4a-06a5e708ce12\" class=\"colab-df-container\">\n",
              "    <div>\n",
              "<style scoped>\n",
              "    .dataframe tbody tr th:only-of-type {\n",
              "        vertical-align: middle;\n",
              "    }\n",
              "\n",
              "    .dataframe tbody tr th {\n",
              "        vertical-align: top;\n",
              "    }\n",
              "\n",
              "    .dataframe thead th {\n",
              "        text-align: right;\n",
              "    }\n",
              "</style>\n",
              "<table border=\"1\" class=\"dataframe\">\n",
              "  <thead>\n",
              "    <tr style=\"text-align: right;\">\n",
              "      <th></th>\n",
              "      <th>0</th>\n",
              "      <th>1</th>\n",
              "      <th>2</th>\n",
              "      <th>3</th>\n",
              "      <th>4</th>\n",
              "    </tr>\n",
              "  </thead>\n",
              "  <tbody>\n",
              "    <tr>\n",
              "      <th>0</th>\n",
              "      <td>0.071841</td>\n",
              "      <td>0.855352</td>\n",
              "      <td>-0.305597</td>\n",
              "      <td>0.028253</td>\n",
              "      <td>1.826895</td>\n",
              "    </tr>\n",
              "    <tr>\n",
              "      <th>1</th>\n",
              "      <td>0.139521</td>\n",
              "      <td>-0.423507</td>\n",
              "      <td>0.461059</td>\n",
              "      <td>-0.447400</td>\n",
              "      <td>-0.034988</td>\n",
              "    </tr>\n",
              "    <tr>\n",
              "      <th>2</th>\n",
              "      <td>1.626311</td>\n",
              "      <td>-0.257622</td>\n",
              "      <td>-0.697520</td>\n",
              "      <td>1.413219</td>\n",
              "      <td>1.086292</td>\n",
              "    </tr>\n",
              "    <tr>\n",
              "      <th>3</th>\n",
              "      <td>-1.183233</td>\n",
              "      <td>-0.826343</td>\n",
              "      <td>0.073047</td>\n",
              "      <td>-0.639690</td>\n",
              "      <td>-0.503273</td>\n",
              "    </tr>\n",
              "    <tr>\n",
              "      <th>4</th>\n",
              "      <td>-0.783365</td>\n",
              "      <td>-0.861232</td>\n",
              "      <td>0.951448</td>\n",
              "      <td>-0.117306</td>\n",
              "      <td>0.680597</td>\n",
              "    </tr>\n",
              "  </tbody>\n",
              "</table>\n",
              "</div>\n",
              "    <div class=\"colab-df-buttons\">\n",
              "\n",
              "  <div class=\"colab-df-container\">\n",
              "    <button class=\"colab-df-convert\" onclick=\"convertToInteractive('df-78c23b59-876b-4758-be4a-06a5e708ce12')\"\n",
              "            title=\"Convert this dataframe to an interactive table.\"\n",
              "            style=\"display:none;\">\n",
              "\n",
              "  <svg xmlns=\"http://www.w3.org/2000/svg\" height=\"24px\" viewBox=\"0 -960 960 960\">\n",
              "    <path d=\"M120-120v-720h720v720H120Zm60-500h600v-160H180v160Zm220 220h160v-160H400v160Zm0 220h160v-160H400v160ZM180-400h160v-160H180v160Zm440 0h160v-160H620v160ZM180-180h160v-160H180v160Zm440 0h160v-160H620v160Z\"/>\n",
              "  </svg>\n",
              "    </button>\n",
              "\n",
              "  <style>\n",
              "    .colab-df-container {\n",
              "      display:flex;\n",
              "      gap: 12px;\n",
              "    }\n",
              "\n",
              "    .colab-df-convert {\n",
              "      background-color: #E8F0FE;\n",
              "      border: none;\n",
              "      border-radius: 50%;\n",
              "      cursor: pointer;\n",
              "      display: none;\n",
              "      fill: #1967D2;\n",
              "      height: 32px;\n",
              "      padding: 0 0 0 0;\n",
              "      width: 32px;\n",
              "    }\n",
              "\n",
              "    .colab-df-convert:hover {\n",
              "      background-color: #E2EBFA;\n",
              "      box-shadow: 0px 1px 2px rgba(60, 64, 67, 0.3), 0px 1px 3px 1px rgba(60, 64, 67, 0.15);\n",
              "      fill: #174EA6;\n",
              "    }\n",
              "\n",
              "    .colab-df-buttons div {\n",
              "      margin-bottom: 4px;\n",
              "    }\n",
              "\n",
              "    [theme=dark] .colab-df-convert {\n",
              "      background-color: #3B4455;\n",
              "      fill: #D2E3FC;\n",
              "    }\n",
              "\n",
              "    [theme=dark] .colab-df-convert:hover {\n",
              "      background-color: #434B5C;\n",
              "      box-shadow: 0px 1px 3px 1px rgba(0, 0, 0, 0.15);\n",
              "      filter: drop-shadow(0px 1px 2px rgba(0, 0, 0, 0.3));\n",
              "      fill: #FFFFFF;\n",
              "    }\n",
              "  </style>\n",
              "\n",
              "    <script>\n",
              "      const buttonEl =\n",
              "        document.querySelector('#df-78c23b59-876b-4758-be4a-06a5e708ce12 button.colab-df-convert');\n",
              "      buttonEl.style.display =\n",
              "        google.colab.kernel.accessAllowed ? 'block' : 'none';\n",
              "\n",
              "      async function convertToInteractive(key) {\n",
              "        const element = document.querySelector('#df-78c23b59-876b-4758-be4a-06a5e708ce12');\n",
              "        const dataTable =\n",
              "          await google.colab.kernel.invokeFunction('convertToInteractive',\n",
              "                                                    [key], {});\n",
              "        if (!dataTable) return;\n",
              "\n",
              "        const docLinkHtml = 'Like what you see? Visit the ' +\n",
              "          '<a target=\"_blank\" href=https://colab.research.google.com/notebooks/data_table.ipynb>data table notebook</a>'\n",
              "          + ' to learn more about interactive tables.';\n",
              "        element.innerHTML = '';\n",
              "        dataTable['output_type'] = 'display_data';\n",
              "        await google.colab.output.renderOutput(dataTable, element);\n",
              "        const docLink = document.createElement('div');\n",
              "        docLink.innerHTML = docLinkHtml;\n",
              "        element.appendChild(docLink);\n",
              "      }\n",
              "    </script>\n",
              "  </div>\n",
              "\n",
              "\n",
              "<div id=\"df-f08039de-9c38-4fc3-9b65-a14d3a4531e3\">\n",
              "  <button class=\"colab-df-quickchart\" onclick=\"quickchart('df-f08039de-9c38-4fc3-9b65-a14d3a4531e3')\"\n",
              "            title=\"Suggest charts\"\n",
              "            style=\"display:none;\">\n",
              "\n",
              "<svg xmlns=\"http://www.w3.org/2000/svg\" height=\"24px\"viewBox=\"0 0 24 24\"\n",
              "     width=\"24px\">\n",
              "    <g>\n",
              "        <path d=\"M19 3H5c-1.1 0-2 .9-2 2v14c0 1.1.9 2 2 2h14c1.1 0 2-.9 2-2V5c0-1.1-.9-2-2-2zM9 17H7v-7h2v7zm4 0h-2V7h2v10zm4 0h-2v-4h2v4z\"/>\n",
              "    </g>\n",
              "</svg>\n",
              "  </button>\n",
              "\n",
              "<style>\n",
              "  .colab-df-quickchart {\n",
              "      --bg-color: #E8F0FE;\n",
              "      --fill-color: #1967D2;\n",
              "      --hover-bg-color: #E2EBFA;\n",
              "      --hover-fill-color: #174EA6;\n",
              "      --disabled-fill-color: #AAA;\n",
              "      --disabled-bg-color: #DDD;\n",
              "  }\n",
              "\n",
              "  [theme=dark] .colab-df-quickchart {\n",
              "      --bg-color: #3B4455;\n",
              "      --fill-color: #D2E3FC;\n",
              "      --hover-bg-color: #434B5C;\n",
              "      --hover-fill-color: #FFFFFF;\n",
              "      --disabled-bg-color: #3B4455;\n",
              "      --disabled-fill-color: #666;\n",
              "  }\n",
              "\n",
              "  .colab-df-quickchart {\n",
              "    background-color: var(--bg-color);\n",
              "    border: none;\n",
              "    border-radius: 50%;\n",
              "    cursor: pointer;\n",
              "    display: none;\n",
              "    fill: var(--fill-color);\n",
              "    height: 32px;\n",
              "    padding: 0;\n",
              "    width: 32px;\n",
              "  }\n",
              "\n",
              "  .colab-df-quickchart:hover {\n",
              "    background-color: var(--hover-bg-color);\n",
              "    box-shadow: 0 1px 2px rgba(60, 64, 67, 0.3), 0 1px 3px 1px rgba(60, 64, 67, 0.15);\n",
              "    fill: var(--button-hover-fill-color);\n",
              "  }\n",
              "\n",
              "  .colab-df-quickchart-complete:disabled,\n",
              "  .colab-df-quickchart-complete:disabled:hover {\n",
              "    background-color: var(--disabled-bg-color);\n",
              "    fill: var(--disabled-fill-color);\n",
              "    box-shadow: none;\n",
              "  }\n",
              "\n",
              "  .colab-df-spinner {\n",
              "    border: 2px solid var(--fill-color);\n",
              "    border-color: transparent;\n",
              "    border-bottom-color: var(--fill-color);\n",
              "    animation:\n",
              "      spin 1s steps(1) infinite;\n",
              "  }\n",
              "\n",
              "  @keyframes spin {\n",
              "    0% {\n",
              "      border-color: transparent;\n",
              "      border-bottom-color: var(--fill-color);\n",
              "      border-left-color: var(--fill-color);\n",
              "    }\n",
              "    20% {\n",
              "      border-color: transparent;\n",
              "      border-left-color: var(--fill-color);\n",
              "      border-top-color: var(--fill-color);\n",
              "    }\n",
              "    30% {\n",
              "      border-color: transparent;\n",
              "      border-left-color: var(--fill-color);\n",
              "      border-top-color: var(--fill-color);\n",
              "      border-right-color: var(--fill-color);\n",
              "    }\n",
              "    40% {\n",
              "      border-color: transparent;\n",
              "      border-right-color: var(--fill-color);\n",
              "      border-top-color: var(--fill-color);\n",
              "    }\n",
              "    60% {\n",
              "      border-color: transparent;\n",
              "      border-right-color: var(--fill-color);\n",
              "    }\n",
              "    80% {\n",
              "      border-color: transparent;\n",
              "      border-right-color: var(--fill-color);\n",
              "      border-bottom-color: var(--fill-color);\n",
              "    }\n",
              "    90% {\n",
              "      border-color: transparent;\n",
              "      border-bottom-color: var(--fill-color);\n",
              "    }\n",
              "  }\n",
              "</style>\n",
              "\n",
              "  <script>\n",
              "    async function quickchart(key) {\n",
              "      const quickchartButtonEl =\n",
              "        document.querySelector('#' + key + ' button');\n",
              "      quickchartButtonEl.disabled = true;  // To prevent multiple clicks.\n",
              "      quickchartButtonEl.classList.add('colab-df-spinner');\n",
              "      try {\n",
              "        const charts = await google.colab.kernel.invokeFunction(\n",
              "            'suggestCharts', [key], {});\n",
              "      } catch (error) {\n",
              "        console.error('Error during call to suggestCharts:', error);\n",
              "      }\n",
              "      quickchartButtonEl.classList.remove('colab-df-spinner');\n",
              "      quickchartButtonEl.classList.add('colab-df-quickchart-complete');\n",
              "    }\n",
              "    (() => {\n",
              "      let quickchartButtonEl =\n",
              "        document.querySelector('#df-f08039de-9c38-4fc3-9b65-a14d3a4531e3 button');\n",
              "      quickchartButtonEl.style.display =\n",
              "        google.colab.kernel.accessAllowed ? 'block' : 'none';\n",
              "    })();\n",
              "  </script>\n",
              "</div>\n",
              "    </div>\n",
              "  </div>\n"
            ],
            "application/vnd.google.colaboratory.intrinsic+json": {
              "type": "dataframe",
              "variable_name": "x",
              "summary": "{\n  \"name\": \"x\",\n  \"rows\": 387,\n  \"fields\": [\n    {\n      \"column\": 0,\n      \"properties\": {\n        \"dtype\": \"number\",\n        \"std\": 1.0065574689214356,\n        \"min\": -2.721942272258224,\n        \"max\": 3.077356600020138,\n        \"num_unique_values\": 387,\n        \"samples\": [\n          0.9011720882431252,\n          0.251236431753467,\n          -0.5142754803588107\n        ],\n        \"semantic_type\": \"\",\n        \"description\": \"\"\n      }\n    },\n    {\n      \"column\": 1,\n      \"properties\": {\n        \"dtype\": \"number\",\n        \"std\": 1.0083185144021662,\n        \"min\": -3.5265869249292883,\n        \"max\": 2.779462964831365,\n        \"num_unique_values\": 387,\n        \"samples\": [\n          -1.3751985732042062,\n          0.4102771367889825,\n          -0.2238664234164231\n        ],\n        \"semantic_type\": \"\",\n        \"description\": \"\"\n      }\n    },\n    {\n      \"column\": 2,\n      \"properties\": {\n        \"dtype\": \"number\",\n        \"std\": 1.0135472769823968,\n        \"min\": -2.952846532188352,\n        \"max\": 2.959742264680178,\n        \"num_unique_values\": 387,\n        \"samples\": [\n          -1.0701774522029932,\n          0.3442652518958322,\n          0.3664029537636956\n        ],\n        \"semantic_type\": \"\",\n        \"description\": \"\"\n      }\n    },\n    {\n      \"column\": 3,\n      \"properties\": {\n        \"dtype\": \"number\",\n        \"std\": 0.9964962210832702,\n        \"min\": -3.46813415676292,\n        \"max\": 2.943177916269174,\n        \"num_unique_values\": 387,\n        \"samples\": [\n          -0.4537122684965927,\n          -0.724538210149907,\n          0.2823932068224772\n        ],\n        \"semantic_type\": \"\",\n        \"description\": \"\"\n      }\n    },\n    {\n      \"column\": 4,\n      \"properties\": {\n        \"dtype\": \"number\",\n        \"std\": 0.9649215705082035,\n        \"min\": -2.3761027155985013,\n        \"max\": 3.62697412199265,\n        \"num_unique_values\": 387,\n        \"samples\": [\n          0.6409882809731323,\n          -0.3425875382069842,\n          0.0810004246015628\n        ],\n        \"semantic_type\": \"\",\n        \"description\": \"\"\n      }\n    }\n  ]\n}"
            }
          },
          "metadata": {},
          "execution_count": 16
        }
      ]
    },
    {
      "cell_type": "code",
      "source": [
        "x.shape, y.shape"
      ],
      "metadata": {
        "id": "hgcRBTpDPiDy",
        "colab": {
          "base_uri": "https://localhost:8080/"
        },
        "outputId": "e4a0c9eb-8b78-480c-d7d2-8b4116dc1ec1"
      },
      "execution_count": null,
      "outputs": [
        {
          "output_type": "execute_result",
          "data": {
            "text/plain": [
              "((387, 5), (387, 1))"
            ]
          },
          "metadata": {},
          "execution_count": 17
        }
      ]
    },
    {
      "cell_type": "code",
      "source": [
        "binary = LinearRegression() # Модель парной регресии от одного признака\n",
        "binary.fit(x[[1]], y)\n",
        "binary.coef_"
      ],
      "metadata": {
        "colab": {
          "base_uri": "https://localhost:8080/"
        },
        "id": "dFU5HOs5dOg_",
        "outputId": "66e17ef3-1453-4040-e774-5f2dbda64c6d"
      },
      "execution_count": null,
      "outputs": [
        {
          "output_type": "execute_result",
          "data": {
            "text/plain": [
              "array([[95.52010745]])"
            ]
          },
          "metadata": {},
          "execution_count": 18
        }
      ]
    },
    {
      "cell_type": "code",
      "source": [
        "binary.predict(x[[1]]) # Рассчет теоретические значения признака"
      ],
      "metadata": {
        "colab": {
          "base_uri": "https://localhost:8080/"
        },
        "collapsed": true,
        "id": "_d65g5CydXFq",
        "outputId": "481a79e1-b0b2-48bd-e1a5-52b9be2ca359"
      },
      "execution_count": null,
      "outputs": [
        {
          "output_type": "execute_result",
          "data": {
            "text/plain": [
              "array([[  81.7066754 ],\n",
              "       [ -40.45008468],\n",
              "       [ -24.60472955],\n",
              "       [ -78.92903986],\n",
              "       [ -82.26167214],\n",
              "       [  90.61516808],\n",
              "       [   3.20559483],\n",
              "       [ -27.39642608],\n",
              "       [  77.03125467],\n",
              "       [ -81.79074091],\n",
              "       [ -57.11517633],\n",
              "       [  71.55969853],\n",
              "       [ -51.83704209],\n",
              "       [  13.20326205],\n",
              "       [ -20.052765  ],\n",
              "       [ 125.1294343 ],\n",
              "       [ -85.37964253],\n",
              "       [ -67.97795874],\n",
              "       [  62.50833807],\n",
              "       [  67.06343892],\n",
              "       [ -62.27425459],\n",
              "       [ -80.86610767],\n",
              "       [ -27.05138056],\n",
              "       [ -52.78366471],\n",
              "       [  35.41921651],\n",
              "       [ -79.36741675],\n",
              "       [  56.64287014],\n",
              "       [  79.27353864],\n",
              "       [ -35.49555901],\n",
              "       [-221.02386024],\n",
              "       [ -80.76607115],\n",
              "       [ 165.15522994],\n",
              "       [  32.58309404],\n",
              "       [ -35.52849481],\n",
              "       [ -96.01738449],\n",
              "       [ -42.18812152],\n",
              "       [ -48.92932082],\n",
              "       [ -75.29745421],\n",
              "       [  14.5207672 ],\n",
              "       [  38.22303712],\n",
              "       [  -5.81538928],\n",
              "       [ -10.78305653],\n",
              "       [-160.67473236],\n",
              "       [ -24.04154649],\n",
              "       [ -11.539913  ],\n",
              "       [-153.21372804],\n",
              "       [  42.71613768],\n",
              "       [ -24.64631168],\n",
              "       [ -26.34379485],\n",
              "       [ -44.84902895],\n",
              "       [  40.59122298],\n",
              "       [  67.87447367],\n",
              "       [ 149.49931095],\n",
              "       [  -9.94584466],\n",
              "       [  72.09386938],\n",
              "       [  42.61221784],\n",
              "       [ -90.05010293],\n",
              "       [-195.17725103],\n",
              "       [  31.10609487],\n",
              "       [-179.11440495],\n",
              "       [ -68.01785401],\n",
              "       [  66.14535672],\n",
              "       [  46.04652432],\n",
              "       [-115.88877487],\n",
              "       [ -51.23726237],\n",
              "       [ -23.25825104],\n",
              "       [ 183.28767615],\n",
              "       [  42.06612485],\n",
              "       [ -61.68157548],\n",
              "       [  18.85284738],\n",
              "       [   8.29279789],\n",
              "       [  24.15702881],\n",
              "       [-132.25876571],\n",
              "       [-221.602558  ],\n",
              "       [  63.95970687],\n",
              "       [  70.05523606],\n",
              "       [ 101.35968876],\n",
              "       [  42.00528659],\n",
              "       [ -26.1669863 ],\n",
              "       [-142.57321028],\n",
              "       [  26.4302692 ],\n",
              "       [ -68.27127373],\n",
              "       [  77.68098549],\n",
              "       [   4.65591819],\n",
              "       [-275.75541696],\n",
              "       [ -18.03885794],\n",
              "       [ -65.15813567],\n",
              "       [  19.70062088],\n",
              "       [   2.30319232],\n",
              "       [-128.62567157],\n",
              "       [ -21.38042389],\n",
              "       [ 265.49792197],\n",
              "       [-232.79954877],\n",
              "       [  49.37518101],\n",
              "       [  46.59420205],\n",
              "       [ -66.70043384],\n",
              "       [ 135.3863095 ],\n",
              "       [ -20.73454969],\n",
              "       [ 153.12546539],\n",
              "       [  12.18146666],\n",
              "       [ -28.6152795 ],\n",
              "       [ 220.9291044 ],\n",
              "       [ -67.38550484],\n",
              "       [  54.67498213],\n",
              "       [ 146.49036594],\n",
              "       [-178.02357604],\n",
              "       [ 122.1816615 ],\n",
              "       [ -61.14413136],\n",
              "       [ -27.09696207],\n",
              "       [-162.71427576],\n",
              "       [ 250.11274891],\n",
              "       [-107.95714296],\n",
              "       [ -31.99055553],\n",
              "       [-125.12658808],\n",
              "       [ -43.28882518],\n",
              "       [ -48.08193349],\n",
              "       [ -14.84293043],\n",
              "       [ -49.99447436],\n",
              "       [  85.64858815],\n",
              "       [  48.0955124 ],\n",
              "       [ -12.70621587],\n",
              "       [ 106.29897038],\n",
              "       [ -18.39771021],\n",
              "       [ 131.8451858 ],\n",
              "       [ -49.15634037],\n",
              "       [   1.68833334],\n",
              "       [ 118.20821483],\n",
              "       [  93.32592767],\n",
              "       [  97.43196106],\n",
              "       [  41.90411351],\n",
              "       [-280.60718038],\n",
              "       [-197.29803704],\n",
              "       [ -81.67903369],\n",
              "       [ -31.55191845],\n",
              "       [  -8.98441752],\n",
              "       [  17.69645515],\n",
              "       [ -93.38459812],\n",
              "       [  39.46140888],\n",
              "       [ -10.04059876],\n",
              "       [ -45.14876349],\n",
              "       [ -75.91237642],\n",
              "       [-112.22661212],\n",
              "       [ 170.79517534],\n",
              "       [ 115.74079081],\n",
              "       [-162.39097497],\n",
              "       [ 105.17957504],\n",
              "       [ 154.74063944],\n",
              "       [  92.53223282],\n",
              "       [   6.9455845 ],\n",
              "       [-225.11827841],\n",
              "       [  63.11488128],\n",
              "       [  25.88212457],\n",
              "       [  39.19303711],\n",
              "       [ 141.26212896],\n",
              "       [ 122.432238  ],\n",
              "       [-263.473649  ],\n",
              "       [  -3.03374485],\n",
              "       [  97.40443477],\n",
              "       [  27.13542993],\n",
              "       [   5.3268769 ],\n",
              "       [ 109.40126709],\n",
              "       [ 187.77919778],\n",
              "       [  58.54396916],\n",
              "       [ 173.08930384],\n",
              "       [  -7.38389923],\n",
              "       [  -0.61716853],\n",
              "       [  15.9525564 ],\n",
              "       [ -56.74240282],\n",
              "       [  -9.43822359],\n",
              "       [ -12.58372954],\n",
              "       [  42.85873442],\n",
              "       [ -68.6263664 ],\n",
              "       [ -26.44110218],\n",
              "       [ -10.14910195],\n",
              "       [ -65.0326574 ],\n",
              "       [ 118.01212374],\n",
              "       [ 185.63095006],\n",
              "       [  80.68142722],\n",
              "       [ -22.36445142],\n",
              "       [  24.20376479],\n",
              "       [  91.92751024],\n",
              "       [ 123.84015615],\n",
              "       [  10.63661408],\n",
              "       [  38.14606475],\n",
              "       [  91.04662802],\n",
              "       [  -0.36732981],\n",
              "       [ 172.93200509],\n",
              "       [  15.84684686],\n",
              "       [  49.28739805],\n",
              "       [ -33.79697395],\n",
              "       [  54.96341913],\n",
              "       [ -10.50881915],\n",
              "       [-192.69059444],\n",
              "       [ -76.97685798],\n",
              "       [ 134.327864  ],\n",
              "       [ 111.50420719],\n",
              "       [ 126.56309706],\n",
              "       [-134.69906739],\n",
              "       [  75.62820656],\n",
              "       [  -1.70241194],\n",
              "       [  77.7070228 ],\n",
              "       [ -17.20936769],\n",
              "       [ 219.16998941],\n",
              "       [-136.13812314],\n",
              "       [ -66.21493546],\n",
              "       [ -55.27141374],\n",
              "       [ -70.4956149 ],\n",
              "       [ -43.24693497],\n",
              "       [  -7.07072434],\n",
              "       [ -20.91968838],\n",
              "       [ -40.80563876],\n",
              "       [ 141.13861597],\n",
              "       [  43.73042813],\n",
              "       [-195.48276684],\n",
              "       [   9.16176867],\n",
              "       [-105.62627143],\n",
              "       [ -10.67867476],\n",
              "       [   2.38472055],\n",
              "       [ 193.68921008],\n",
              "       [-115.63833686],\n",
              "       [  43.03267889],\n",
              "       [-147.37305219],\n",
              "       [  86.11484884],\n",
              "       [ -83.55847418],\n",
              "       [  30.71755434],\n",
              "       [  10.27639553],\n",
              "       [ -41.32557351],\n",
              "       [-140.26912202],\n",
              "       [ 128.01969105],\n",
              "       [ 183.95884118],\n",
              "       [   6.86531718],\n",
              "       [ -62.61269229],\n",
              "       [  66.06452798],\n",
              "       [ -47.63542055],\n",
              "       [ -85.17778107],\n",
              "       [ -15.72430026],\n",
              "       [  40.54649993],\n",
              "       [ -33.61879412],\n",
              "       [  31.76513237],\n",
              "       [-169.66712596],\n",
              "       [-110.88659879],\n",
              "       [ -77.04563955],\n",
              "       [  70.71761787],\n",
              "       [ -85.21453659],\n",
              "       [  41.92732181],\n",
              "       [ -13.68225282],\n",
              "       [ -67.49116957],\n",
              "       [  11.93379948],\n",
              "       [  50.18679576],\n",
              "       [ -21.66912636],\n",
              "       [  32.60453994],\n",
              "       [  14.09090855],\n",
              "       [ -27.33493738],\n",
              "       [-136.21711333],\n",
              "       [ -15.0605813 ],\n",
              "       [  49.78409122],\n",
              "       [-146.33455004],\n",
              "       [  71.63976509],\n",
              "       [  34.84132967],\n",
              "       [  12.30331257],\n",
              "       [  25.11261985],\n",
              "       [ -82.94602459],\n",
              "       [  83.54118867],\n",
              "       [ -57.88777693],\n",
              "       [  33.51754325],\n",
              "       [ -13.26429964],\n",
              "       [  65.85659717],\n",
              "       [  15.31444989],\n",
              "       [  67.81035688],\n",
              "       [  37.90075022],\n",
              "       [-167.10852275],\n",
              "       [ -57.99444761],\n",
              "       [ -36.00913797],\n",
              "       [  19.70290791],\n",
              "       [  33.45100315],\n",
              "       [-193.37192207],\n",
              "       [-121.15413667],\n",
              "       [  44.49224941],\n",
              "       [ -56.1373161 ],\n",
              "       [-153.69832577],\n",
              "       [ -80.50677918],\n",
              "       [-139.94014044],\n",
              "       [-192.67844919],\n",
              "       [ -54.64561087],\n",
              "       [  25.28740192],\n",
              "       [  25.07178482],\n",
              "       [   6.18083304],\n",
              "       [ 119.12500939],\n",
              "       [  46.71009304],\n",
              "       [  59.95782773],\n",
              "       [  83.74304754],\n",
              "       [ -99.02017347],\n",
              "       [ -87.68936548],\n",
              "       [  35.26396331],\n",
              "       [ 113.46685456],\n",
              "       [  42.5318588 ],\n",
              "       [  76.49714278],\n",
              "       [  99.83898538],\n",
              "       [ 112.30715761],\n",
              "       [ -12.15256336],\n",
              "       [ -29.02289519],\n",
              "       [  -6.97000698],\n",
              "       [ -37.7981597 ],\n",
              "       [ -52.4957794 ],\n",
              "       [ -98.02566506],\n",
              "       [ -18.49808937],\n",
              "       [ 134.54606734],\n",
              "       [ -21.78679736],\n",
              "       [  54.63789894],\n",
              "       [  59.63899484],\n",
              "       [ 157.32491005],\n",
              "       [  24.15363445],\n",
              "       [-121.14867961],\n",
              "       [ -32.74519018],\n",
              "       [-131.35579455],\n",
              "       [-100.53610905],\n",
              "       [  33.51745925],\n",
              "       [-221.78986989],\n",
              "       [  54.30924205],\n",
              "       [ -49.99624045],\n",
              "       [ -19.03749344],\n",
              "       [  -3.89300243],\n",
              "       [  -2.00342034],\n",
              "       [  69.27371782],\n",
              "       [ 234.02597915],\n",
              "       [  17.39055722],\n",
              "       [  14.93614571],\n",
              "       [ 148.66540159],\n",
              "       [  32.60167026],\n",
              "       [ 123.16186748],\n",
              "       [  61.24969494],\n",
              "       [  19.53920496],\n",
              "       [  25.02661721],\n",
              "       [ -75.38829513],\n",
              "       [ 166.41096829],\n",
              "       [ -47.99621481],\n",
              "       [ -25.77216712],\n",
              "       [ -48.96112576],\n",
              "       [ 105.43118884],\n",
              "       [   0.52022763],\n",
              "       [-336.85664107],\n",
              "       [  55.4750755 ],\n",
              "       [  72.33167816],\n",
              "       [-125.0236379 ],\n",
              "       [  20.70080008],\n",
              "       [ -57.91225848],\n",
              "       [  15.14114254],\n",
              "       [ -73.0099126 ],\n",
              "       [ 104.69214051],\n",
              "       [  50.24679881],\n",
              "       [  88.86557698],\n",
              "       [  68.28375578],\n",
              "       [ 122.95171668],\n",
              "       [ -25.0625463 ],\n",
              "       [  14.95429697],\n",
              "       [ -25.53926062],\n",
              "       [ 119.59087486],\n",
              "       [ 118.23947123],\n",
              "       [  43.99690047],\n",
              "       [ -21.1075395 ],\n",
              "       [ -17.25817459],\n",
              "       [  -2.62354642],\n",
              "       [  26.91692081],\n",
              "       [  10.15184644],\n",
              "       [  -9.48628965],\n",
              "       [ -81.84415436],\n",
              "       [ -68.05161774],\n",
              "       [-197.88761328],\n",
              "       [ -22.00916557],\n",
              "       [ 109.53859278],\n",
              "       [ -53.08749143],\n",
              "       [-153.71615885],\n",
              "       [  44.87328563],\n",
              "       [-157.42934885],\n",
              "       [-127.98274416],\n",
              "       [-166.53394014],\n",
              "       [ -61.33081485],\n",
              "       [ -11.77940539],\n",
              "       [  15.34513479],\n",
              "       [   3.0680711 ],\n",
              "       [-176.57818911],\n",
              "       [  13.43212536],\n",
              "       [ 221.67948236],\n",
              "       [ 200.32727577],\n",
              "       [  89.86779245],\n",
              "       [-115.55742864],\n",
              "       [  68.35801214]])"
            ]
          },
          "metadata": {},
          "execution_count": 21
        }
      ]
    },
    {
      "cell_type": "code",
      "source": [
        "plt.scatter(x[1], y)\n",
        "xx = np.linspace(x[1].min(), x[1].max(), 100).reshape((-1, 1))\n",
        "plt.plot(xx, binary.predict(xx), c='r')"
      ],
      "metadata": {
        "id": "jOGwVLFrPi6w",
        "colab": {
          "base_uri": "https://localhost:8080/",
          "height": 447
        },
        "outputId": "41a9834e-aa10-43bf-ae81-b79406969d73"
      },
      "execution_count": null,
      "outputs": [
        {
          "output_type": "execute_result",
          "data": {
            "text/plain": [
              "[<matplotlib.lines.Line2D at 0x7faa94815bd0>]"
            ]
          },
          "metadata": {},
          "execution_count": 22
        },
        {
          "output_type": "display_data",
          "data": {
            "text/plain": [
              "<Figure size 640x480 with 1 Axes>"
            ],
            "image/png": "[encoded data removed]"
          },
          "metadata": {}
        }
      ]
    },
    {
      "cell_type": "code",
      "source": [
        "binary.score(x[[1]], y)"
      ],
      "metadata": {
        "id": "DlH67yjZPmF1",
        "colab": {
          "base_uri": "https://localhost:8080/"
        },
        "outputId": "477d2a20-ef21-4429-a50f-bf9284f433cf"
      },
      "execution_count": null,
      "outputs": [
        {
          "output_type": "execute_result",
          "data": {
            "text/plain": [
              "0.7699743283650629"
            ]
          },
          "metadata": {},
          "execution_count": 23
        }
      ]
    },
    {
      "cell_type": "code",
      "source": [
        "multiple = LinearRegression()\n",
        "multiple.fit(x, y)\n",
        "multiple.score(x, y)"
      ],
      "metadata": {
        "id": "-GrA3piEPnHY",
        "colab": {
          "base_uri": "https://localhost:8080/"
        },
        "outputId": "de057c13-0ede-4685-f1bd-445d343fd144"
      },
      "execution_count": null,
      "outputs": [
        {
          "output_type": "execute_result",
          "data": {
            "text/plain": [
              "0.9922198026415868"
            ]
          },
          "metadata": {},
          "execution_count": 24
        }
      ]
    },
    {
      "cell_type": "code",
      "source": [
        "yy = multiple.predict(x)\n",
        "plt.scatter(yy, y)\n",
        "plt.plot(yy, yy, c='r')"
      ],
      "metadata": {
        "id": "FixNrjd3Pn49",
        "colab": {
          "base_uri": "https://localhost:8080/",
          "height": 448
        },
        "outputId": "6e693574-7d28-4b9d-df04-b3592c5abc1f"
      },
      "execution_count": null,
      "outputs": [
        {
          "output_type": "execute_result",
          "data": {
            "text/plain": [
              "[<matplotlib.lines.Line2D at 0x7faa94803c50>]"
            ]
          },
          "metadata": {},
          "execution_count": 25
        },
        {
          "output_type": "display_data",
          "data": {
            "text/plain": [
              "<Figure size 640x480 with 1 Axes>"
            ],
            "image/png": "[encoded data removed]"
          },
          "metadata": {}
        }
      ]
    },
    {
      "cell_type": "markdown",
      "source": [
        "**L1.3 Модели регрессии**"
      ],
      "metadata": {
        "id": "E8sZ_ynoPpHR"
      }
    },
    {
      "cell_type": "code",
      "source": [
        "from sklearn.datasets import fetch_california_housing\n",
        "california = fetch_california_housing()"
      ],
      "metadata": {
        "id": "7dqiM4L0PsGW"
      },
      "execution_count": null,
      "outputs": []
    },
    {
      "cell_type": "code",
      "source": [
        "type(california)"
      ],
      "metadata": {
        "colab": {
          "base_uri": "https://localhost:8080/",
          "height": 187
        },
        "id": "g5AE0lPxgrdd",
        "outputId": "228c3d81-1922-44c5-f15f-5ec6797946fb"
      },
      "execution_count": null,
      "outputs": [
        {
          "output_type": "execute_result",
          "data": {
            "text/plain": [
              "sklearn.utils._bunch.Bunch"
            ],
            "text/html": [
              "<div style=\"max-width:800px; border: 1px solid var(--colab-border-color);\"><style>\n",
              "      pre.function-repr-contents {\n",
              "        overflow-x: auto;\n",
              "        padding: 8px 12px;\n",
              "        max-height: 500px;\n",
              "      }\n",
              "\n",
              "      pre.function-repr-contents.function-repr-contents-collapsed {\n",
              "        cursor: pointer;\n",
              "        max-height: 100px;\n",
              "      }\n",
              "    </style>\n",
              "    <pre style=\"white-space: initial; background:\n",
              "         var(--colab-secondary-surface-color); padding: 8px 12px;\n",
              "         border-bottom: 1px solid var(--colab-border-color);\"><b>sklearn.utils._bunch.Bunch</b><br/>def __init__(**kwargs)</pre><pre class=\"function-repr-contents function-repr-contents-collapsed\" style=\"\"><a class=\"filepath\" style=\"display:none\" href=\"#\">/usr/local/lib/python3.11/dist-packages/sklearn/utils/_bunch.py</a>Container object exposing keys as attributes.\n",
              "\n",
              "Bunch objects are sometimes used as an output for functions and methods.\n",
              "They extend dictionaries by enabling values to be accessed by key,\n",
              "`bunch[&quot;value_key&quot;]`, or by an attribute, `bunch.value_key`.\n",
              "\n",
              "Examples\n",
              "--------\n",
              "&gt;&gt;&gt; from sklearn.utils import Bunch\n",
              "&gt;&gt;&gt; b = Bunch(a=1, b=2)\n",
              "&gt;&gt;&gt; b[&#x27;b&#x27;]\n",
              "2\n",
              "&gt;&gt;&gt; b.b\n",
              "2\n",
              "&gt;&gt;&gt; b.a = 3\n",
              "&gt;&gt;&gt; b[&#x27;a&#x27;]\n",
              "3\n",
              "&gt;&gt;&gt; b.c = 6\n",
              "&gt;&gt;&gt; b[&#x27;c&#x27;]\n",
              "6</pre>\n",
              "      <script>\n",
              "      if (google.colab.kernel.accessAllowed && google.colab.files && google.colab.files.view) {\n",
              "        for (const element of document.querySelectorAll('.filepath')) {\n",
              "          element.style.display = 'block'\n",
              "          element.onclick = (event) => {\n",
              "            event.preventDefault();\n",
              "            event.stopPropagation();\n",
              "            google.colab.files.view(element.textContent, 7);\n",
              "          };\n",
              "        }\n",
              "      }\n",
              "      for (const element of document.querySelectorAll('.function-repr-contents')) {\n",
              "        element.onclick = (event) => {\n",
              "          event.preventDefault();\n",
              "          event.stopPropagation();\n",
              "          element.classList.toggle('function-repr-contents-collapsed');\n",
              "        };\n",
              "      }\n",
              "      </script>\n",
              "      </div>"
            ]
          },
          "metadata": {},
          "execution_count": 52
        }
      ]
    },
    {
      "cell_type": "code",
      "source": [
        "california.keys()"
      ],
      "metadata": {
        "colab": {
          "base_uri": "https://localhost:8080/"
        },
        "id": "WTtb7NhRgxlm",
        "outputId": "762f00a2-6b08-499c-a371-c316174452df"
      },
      "execution_count": null,
      "outputs": [
        {
          "output_type": "execute_result",
          "data": {
            "text/plain": [
              "dict_keys(['data', 'target', 'frame', 'target_names', 'feature_names', 'DESCR'])"
            ]
          },
          "metadata": {},
          "execution_count": 53
        }
      ]
    },
    {
      "cell_type": "code",
      "source": [
        "print(type(california.data), type(california.target))\n",
        "print(california.data.shape, california.target.shape)"
      ],
      "metadata": {
        "colab": {
          "base_uri": "https://localhost:8080/"
        },
        "id": "MpMw_naeg1En",
        "outputId": "532abe3a-ff58-432e-f605-13efaaaa9dcd"
      },
      "execution_count": null,
      "outputs": [
        {
          "output_type": "stream",
          "name": "stdout",
          "text": [
            "<class 'numpy.ndarray'> <class 'numpy.ndarray'>\n",
            "(20640, 8) (20640,)\n"
          ]
        }
      ]
    },
    {
      "cell_type": "code",
      "source": [
        "data = pd.DataFrame(california.data, columns = california.feature_names)\n",
        "data['Price'] = california.target\n",
        "data.head()"
      ],
      "metadata": {
        "colab": {
          "base_uri": "https://localhost:8080/",
          "height": 206
        },
        "id": "iNOXT_Hwg7Fo",
        "outputId": "f56b85c4-1705-4c47-98fd-0b89ebdc4cc4"
      },
      "execution_count": null,
      "outputs": [
        {
          "output_type": "execute_result",
          "data": {
            "text/plain": [
              "   MedInc  HouseAge  AveRooms  AveBedrms  Population  AveOccup  Latitude  \\\n",
              "0  8.3252      41.0  6.984127   1.023810       322.0  2.555556     37.88   \n",
              "1  8.3014      21.0  6.238137   0.971880      2401.0  2.109842     37.86   \n",
              "2  7.2574      52.0  8.288136   1.073446       496.0  2.802260     37.85   \n",
              "3  5.6431      52.0  5.817352   1.073059       558.0  2.547945     37.85   \n",
              "4  3.8462      52.0  6.281853   1.081081       565.0  2.181467     37.85   \n",
              "\n",
              "   Longitude  Price  \n",
              "0    -122.23  4.526  \n",
              "1    -122.22  3.585  \n",
              "2    -122.24  3.521  \n",
              "3    -122.25  3.413  \n",
              "4    -122.25  3.422  "
            ],
            "text/html": [
              "\n",
              "  <div id=\"df-4a481f9d-a6bf-425c-8c99-99f846e8b132\" class=\"colab-df-container\">\n",
              "    <div>\n",
              "<style scoped>\n",
              "    .dataframe tbody tr th:only-of-type {\n",
              "        vertical-align: middle;\n",
              "    }\n",
              "\n",
              "    .dataframe tbody tr th {\n",
              "        vertical-align: top;\n",
              "    }\n",
              "\n",
              "    .dataframe thead th {\n",
              "        text-align: right;\n",
              "    }\n",
              "</style>\n",
              "<table border=\"1\" class=\"dataframe\">\n",
              "  <thead>\n",
              "    <tr style=\"text-align: right;\">\n",
              "      <th></th>\n",
              "      <th>MedInc</th>\n",
              "      <th>HouseAge</th>\n",
              "      <th>AveRooms</th>\n",
              "      <th>AveBedrms</th>\n",
              "      <th>Population</th>\n",
              "      <th>AveOccup</th>\n",
              "      <th>Latitude</th>\n",
              "      <th>Longitude</th>\n",
              "      <th>Price</th>\n",
              "    </tr>\n",
              "  </thead>\n",
              "  <tbody>\n",
              "    <tr>\n",
              "      <th>0</th>\n",
              "      <td>8.3252</td>\n",
              "      <td>41.0</td>\n",
              "      <td>6.984127</td>\n",
              "      <td>1.023810</td>\n",
              "      <td>322.0</td>\n",
              "      <td>2.555556</td>\n",
              "      <td>37.88</td>\n",
              "      <td>-122.23</td>\n",
              "      <td>4.526</td>\n",
              "    </tr>\n",
              "    <tr>\n",
              "      <th>1</th>\n",
              "      <td>8.3014</td>\n",
              "      <td>21.0</td>\n",
              "      <td>6.238137</td>\n",
              "      <td>0.971880</td>\n",
              "      <td>2401.0</td>\n",
              "      <td>2.109842</td>\n",
              "      <td>37.86</td>\n",
              "      <td>-122.22</td>\n",
              "      <td>3.585</td>\n",
              "    </tr>\n",
              "    <tr>\n",
              "      <th>2</th>\n",
              "      <td>7.2574</td>\n",
              "      <td>52.0</td>\n",
              "      <td>8.288136</td>\n",
              "      <td>1.073446</td>\n",
              "      <td>496.0</td>\n",
              "      <td>2.802260</td>\n",
              "      <td>37.85</td>\n",
              "      <td>-122.24</td>\n",
              "      <td>3.521</td>\n",
              "    </tr>\n",
              "    <tr>\n",
              "      <th>3</th>\n",
              "      <td>5.6431</td>\n",
              "      <td>52.0</td>\n",
              "      <td>5.817352</td>\n",
              "      <td>1.073059</td>\n",
              "      <td>558.0</td>\n",
              "      <td>2.547945</td>\n",
              "      <td>37.85</td>\n",
              "      <td>-122.25</td>\n",
              "      <td>3.413</td>\n",
              "    </tr>\n",
              "    <tr>\n",
              "      <th>4</th>\n",
              "      <td>3.8462</td>\n",
              "      <td>52.0</td>\n",
              "      <td>6.281853</td>\n",
              "      <td>1.081081</td>\n",
              "      <td>565.0</td>\n",
              "      <td>2.181467</td>\n",
              "      <td>37.85</td>\n",
              "      <td>-122.25</td>\n",
              "      <td>3.422</td>\n",
              "    </tr>\n",
              "  </tbody>\n",
              "</table>\n",
              "</div>\n",
              "    <div class=\"colab-df-buttons\">\n",
              "\n",
              "  <div class=\"colab-df-container\">\n",
              "    <button class=\"colab-df-convert\" onclick=\"convertToInteractive('df-4a481f9d-a6bf-425c-8c99-99f846e8b132')\"\n",
              "            title=\"Convert this dataframe to an interactive table.\"\n",
              "            style=\"display:none;\">\n",
              "\n",
              "  <svg xmlns=\"http://www.w3.org/2000/svg\" height=\"24px\" viewBox=\"0 -960 960 960\">\n",
              "    <path d=\"M120-120v-720h720v720H120Zm60-500h600v-160H180v160Zm220 220h160v-160H400v160Zm0 220h160v-160H400v160ZM180-400h160v-160H180v160Zm440 0h160v-160H620v160ZM180-180h160v-160H180v160Zm440 0h160v-160H620v160Z\"/>\n",
              "  </svg>\n",
              "    </button>\n",
              "\n",
              "  <style>\n",
              "    .colab-df-container {\n",
              "      display:flex;\n",
              "      gap: 12px;\n",
              "    }\n",
              "\n",
              "    .colab-df-convert {\n",
              "      background-color: #E8F0FE;\n",
              "      border: none;\n",
              "      border-radius: 50%;\n",
              "      cursor: pointer;\n",
              "      display: none;\n",
              "      fill: #1967D2;\n",
              "      height: 32px;\n",
              "      padding: 0 0 0 0;\n",
              "      width: 32px;\n",
              "    }\n",
              "\n",
              "    .colab-df-convert:hover {\n",
              "      background-color: #E2EBFA;\n",
              "      box-shadow: 0px 1px 2px rgba(60, 64, 67, 0.3), 0px 1px 3px 1px rgba(60, 64, 67, 0.15);\n",
              "      fill: #174EA6;\n",
              "    }\n",
              "\n",
              "    .colab-df-buttons div {\n",
              "      margin-bottom: 4px;\n",
              "    }\n",
              "\n",
              "    [theme=dark] .colab-df-convert {\n",
              "      background-color: #3B4455;\n",
              "      fill: #D2E3FC;\n",
              "    }\n",
              "\n",
              "    [theme=dark] .colab-df-convert:hover {\n",
              "      background-color: #434B5C;\n",
              "      box-shadow: 0px 1px 3px 1px rgba(0, 0, 0, 0.15);\n",
              "      filter: drop-shadow(0px 1px 2px rgba(0, 0, 0, 0.3));\n",
              "      fill: #FFFFFF;\n",
              "    }\n",
              "  </style>\n",
              "\n",
              "    <script>\n",
              "      const buttonEl =\n",
              "        document.querySelector('#df-4a481f9d-a6bf-425c-8c99-99f846e8b132 button.colab-df-convert');\n",
              "      buttonEl.style.display =\n",
              "        google.colab.kernel.accessAllowed ? 'block' : 'none';\n",
              "\n",
              "      async function convertToInteractive(key) {\n",
              "        const element = document.querySelector('#df-4a481f9d-a6bf-425c-8c99-99f846e8b132');\n",
              "        const dataTable =\n",
              "          await google.colab.kernel.invokeFunction('convertToInteractive',\n",
              "                                                    [key], {});\n",
              "        if (!dataTable) return;\n",
              "\n",
              "        const docLinkHtml = 'Like what you see? Visit the ' +\n",
              "          '<a target=\"_blank\" href=https://colab.research.google.com/notebooks/data_table.ipynb>data table notebook</a>'\n",
              "          + ' to learn more about interactive tables.';\n",
              "        element.innerHTML = '';\n",
              "        dataTable['output_type'] = 'display_data';\n",
              "        await google.colab.output.renderOutput(dataTable, element);\n",
              "        const docLink = document.createElement('div');\n",
              "        docLink.innerHTML = docLinkHtml;\n",
              "        element.appendChild(docLink);\n",
              "      }\n",
              "    </script>\n",
              "  </div>\n",
              "\n",
              "\n",
              "<div id=\"df-8466487d-16d8-4721-9ebf-31e4fe4ff4bc\">\n",
              "  <button class=\"colab-df-quickchart\" onclick=\"quickchart('df-8466487d-16d8-4721-9ebf-31e4fe4ff4bc')\"\n",
              "            title=\"Suggest charts\"\n",
              "            style=\"display:none;\">\n",
              "\n",
              "<svg xmlns=\"http://www.w3.org/2000/svg\" height=\"24px\"viewBox=\"0 0 24 24\"\n",
              "     width=\"24px\">\n",
              "    <g>\n",
              "        <path d=\"M19 3H5c-1.1 0-2 .9-2 2v14c0 1.1.9 2 2 2h14c1.1 0 2-.9 2-2V5c0-1.1-.9-2-2-2zM9 17H7v-7h2v7zm4 0h-2V7h2v10zm4 0h-2v-4h2v4z\"/>\n",
              "    </g>\n",
              "</svg>\n",
              "  </button>\n",
              "\n",
              "<style>\n",
              "  .colab-df-quickchart {\n",
              "      --bg-color: #E8F0FE;\n",
              "      --fill-color: #1967D2;\n",
              "      --hover-bg-color: #E2EBFA;\n",
              "      --hover-fill-color: #174EA6;\n",
              "      --disabled-fill-color: #AAA;\n",
              "      --disabled-bg-color: #DDD;\n",
              "  }\n",
              "\n",
              "  [theme=dark] .colab-df-quickchart {\n",
              "      --bg-color: #3B4455;\n",
              "      --fill-color: #D2E3FC;\n",
              "      --hover-bg-color: #434B5C;\n",
              "      --hover-fill-color: #FFFFFF;\n",
              "      --disabled-bg-color: #3B4455;\n",
              "      --disabled-fill-color: #666;\n",
              "  }\n",
              "\n",
              "  .colab-df-quickchart {\n",
              "    background-color: var(--bg-color);\n",
              "    border: none;\n",
              "    border-radius: 50%;\n",
              "    cursor: pointer;\n",
              "    display: none;\n",
              "    fill: var(--fill-color);\n",
              "    height: 32px;\n",
              "    padding: 0;\n",
              "    width: 32px;\n",
              "  }\n",
              "\n",
              "  .colab-df-quickchart:hover {\n",
              "    background-color: var(--hover-bg-color);\n",
              "    box-shadow: 0 1px 2px rgba(60, 64, 67, 0.3), 0 1px 3px 1px rgba(60, 64, 67, 0.15);\n",
              "    fill: var(--button-hover-fill-color);\n",
              "  }\n",
              "\n",
              "  .colab-df-quickchart-complete:disabled,\n",
              "  .colab-df-quickchart-complete:disabled:hover {\n",
              "    background-color: var(--disabled-bg-color);\n",
              "    fill: var(--disabled-fill-color);\n",
              "    box-shadow: none;\n",
              "  }\n",
              "\n",
              "  .colab-df-spinner {\n",
              "    border: 2px solid var(--fill-color);\n",
              "    border-color: transparent;\n",
              "    border-bottom-color: var(--fill-color);\n",
              "    animation:\n",
              "      spin 1s steps(1) infinite;\n",
              "  }\n",
              "\n",
              "  @keyframes spin {\n",
              "    0% {\n",
              "      border-color: transparent;\n",
              "      border-bottom-color: var(--fill-color);\n",
              "      border-left-color: var(--fill-color);\n",
              "    }\n",
              "    20% {\n",
              "      border-color: transparent;\n",
              "      border-left-color: var(--fill-color);\n",
              "      border-top-color: var(--fill-color);\n",
              "    }\n",
              "    30% {\n",
              "      border-color: transparent;\n",
              "      border-left-color: var(--fill-color);\n",
              "      border-top-color: var(--fill-color);\n",
              "      border-right-color: var(--fill-color);\n",
              "    }\n",
              "    40% {\n",
              "      border-color: transparent;\n",
              "      border-right-color: var(--fill-color);\n",
              "      border-top-color: var(--fill-color);\n",
              "    }\n",
              "    60% {\n",
              "      border-color: transparent;\n",
              "      border-right-color: var(--fill-color);\n",
              "    }\n",
              "    80% {\n",
              "      border-color: transparent;\n",
              "      border-right-color: var(--fill-color);\n",
              "      border-bottom-color: var(--fill-color);\n",
              "    }\n",
              "    90% {\n",
              "      border-color: transparent;\n",
              "      border-bottom-color: var(--fill-color);\n",
              "    }\n",
              "  }\n",
              "</style>\n",
              "\n",
              "  <script>\n",
              "    async function quickchart(key) {\n",
              "      const quickchartButtonEl =\n",
              "        document.querySelector('#' + key + ' button');\n",
              "      quickchartButtonEl.disabled = true;  // To prevent multiple clicks.\n",
              "      quickchartButtonEl.classList.add('colab-df-spinner');\n",
              "      try {\n",
              "        const charts = await google.colab.kernel.invokeFunction(\n",
              "            'suggestCharts', [key], {});\n",
              "      } catch (error) {\n",
              "        console.error('Error during call to suggestCharts:', error);\n",
              "      }\n",
              "      quickchartButtonEl.classList.remove('colab-df-spinner');\n",
              "      quickchartButtonEl.classList.add('colab-df-quickchart-complete');\n",
              "    }\n",
              "    (() => {\n",
              "      let quickchartButtonEl =\n",
              "        document.querySelector('#df-8466487d-16d8-4721-9ebf-31e4fe4ff4bc button');\n",
              "      quickchartButtonEl.style.display =\n",
              "        google.colab.kernel.accessAllowed ? 'block' : 'none';\n",
              "    })();\n",
              "  </script>\n",
              "</div>\n",
              "    </div>\n",
              "  </div>\n"
            ],
            "application/vnd.google.colaboratory.intrinsic+json": {
              "type": "dataframe",
              "variable_name": "data",
              "summary": "{\n  \"name\": \"data\",\n  \"rows\": 20640,\n  \"fields\": [\n    {\n      \"column\": \"MedInc\",\n      \"properties\": {\n        \"dtype\": \"number\",\n        \"std\": 1.8998217179452732,\n        \"min\": 0.4999,\n        \"max\": 15.0001,\n        \"num_unique_values\": 12928,\n        \"samples\": [\n          5.0286,\n          2.0433,\n          6.1228\n        ],\n        \"semantic_type\": \"\",\n        \"description\": \"\"\n      }\n    },\n    {\n      \"column\": \"HouseAge\",\n      \"properties\": {\n        \"dtype\": \"number\",\n        \"std\": 12.585557612111637,\n        \"min\": 1.0,\n        \"max\": 52.0,\n        \"num_unique_values\": 52,\n        \"samples\": [\n          35.0,\n          25.0,\n          7.0\n        ],\n        \"semantic_type\": \"\",\n        \"description\": \"\"\n      }\n    },\n    {\n      \"column\": \"AveRooms\",\n      \"properties\": {\n        \"dtype\": \"number\",\n        \"std\": 2.4741731394243205,\n        \"min\": 0.8461538461538461,\n        \"max\": 141.9090909090909,\n        \"num_unique_values\": 19392,\n        \"samples\": [\n          6.111269614835948,\n          5.912820512820513,\n          5.7924528301886795\n        ],\n        \"semantic_type\": \"\",\n        \"description\": \"\"\n      }\n    },\n    {\n      \"column\": \"AveBedrms\",\n      \"properties\": {\n        \"dtype\": \"number\",\n        \"std\": 0.47391085679546435,\n        \"min\": 0.3333333333333333,\n        \"max\": 34.06666666666667,\n        \"num_unique_values\": 14233,\n        \"samples\": [\n          0.9906542056074766,\n          1.112099644128114,\n          1.0398230088495575\n        ],\n        \"semantic_type\": \"\",\n        \"description\": \"\"\n      }\n    },\n    {\n      \"column\": \"Population\",\n      \"properties\": {\n        \"dtype\": \"number\",\n        \"std\": 1132.4621217653375,\n        \"min\": 3.0,\n        \"max\": 35682.0,\n        \"num_unique_values\": 3888,\n        \"samples\": [\n          4169.0,\n          636.0,\n          3367.0\n        ],\n        \"semantic_type\": \"\",\n        \"description\": \"\"\n      }\n    },\n    {\n      \"column\": \"AveOccup\",\n      \"properties\": {\n        \"dtype\": \"number\",\n        \"std\": 10.386049562213591,\n        \"min\": 0.6923076923076923,\n        \"max\": 1243.3333333333333,\n        \"num_unique_values\": 18841,\n        \"samples\": [\n          2.6939799331103678,\n          3.559375,\n          3.297082228116711\n        ],\n        \"semantic_type\": \"\",\n        \"description\": \"\"\n      }\n    },\n    {\n      \"column\": \"Latitude\",\n      \"properties\": {\n        \"dtype\": \"number\",\n        \"std\": 2.1359523974571117,\n        \"min\": 32.54,\n        \"max\": 41.95,\n        \"num_unique_values\": 862,\n        \"samples\": [\n          33.7,\n          34.41,\n          38.24\n        ],\n        \"semantic_type\": \"\",\n        \"description\": \"\"\n      }\n    },\n    {\n      \"column\": \"Longitude\",\n      \"properties\": {\n        \"dtype\": \"number\",\n        \"std\": 2.003531723502581,\n        \"min\": -124.35,\n        \"max\": -114.31,\n        \"num_unique_values\": 844,\n        \"samples\": [\n          -118.63,\n          -119.86,\n          -121.26\n        ],\n        \"semantic_type\": \"\",\n        \"description\": \"\"\n      }\n    },\n    {\n      \"column\": \"Price\",\n      \"properties\": {\n        \"dtype\": \"number\",\n        \"std\": 1.1539561587441483,\n        \"min\": 0.14999,\n        \"max\": 5.00001,\n        \"num_unique_values\": 3842,\n        \"samples\": [\n          1.943,\n          3.79,\n          2.301\n        ],\n        \"semantic_type\": \"\",\n        \"description\": \"\"\n      }\n    }\n  ]\n}"
            }
          },
          "metadata": {},
          "execution_count": 55
        }
      ]
    },
    {
      "cell_type": "code",
      "source": [
        "data.info()"
      ],
      "metadata": {
        "colab": {
          "base_uri": "https://localhost:8080/"
        },
        "id": "yB_mTPRLhBEA",
        "outputId": "c8a422a7-610a-4977-e96e-497a7a4db6d5"
      },
      "execution_count": null,
      "outputs": [
        {
          "output_type": "stream",
          "name": "stdout",
          "text": [
            "<class 'pandas.core.frame.DataFrame'>\n",
            "RangeIndex: 20640 entries, 0 to 20639\n",
            "Data columns (total 9 columns):\n",
            " #   Column      Non-Null Count  Dtype  \n",
            "---  ------      --------------  -----  \n",
            " 0   MedInc      20640 non-null  float64\n",
            " 1   HouseAge    20640 non-null  float64\n",
            " 2   AveRooms    20640 non-null  float64\n",
            " 3   AveBedrms   20640 non-null  float64\n",
            " 4   Population  20640 non-null  float64\n",
            " 5   AveOccup    20640 non-null  float64\n",
            " 6   Latitude    20640 non-null  float64\n",
            " 7   Longitude   20640 non-null  float64\n",
            " 8   Price       20640 non-null  float64\n",
            "dtypes: float64(9)\n",
            "memory usage: 1.4 MB\n"
          ]
        }
      ]
    },
    {
      "cell_type": "code",
      "source": [
        "data.describe().round(2)"
      ],
      "metadata": {
        "colab": {
          "base_uri": "https://localhost:8080/",
          "height": 300
        },
        "id": "nNPKinHVhE06",
        "outputId": "c79c35f5-f039-4f79-ddd6-95265ff38f93"
      },
      "execution_count": null,
      "outputs": [
        {
          "output_type": "execute_result",
          "data": {
            "text/plain": [
              "         MedInc  HouseAge  AveRooms  AveBedrms  Population  AveOccup  \\\n",
              "count  20640.00  20640.00  20640.00   20640.00    20640.00  20640.00   \n",
              "mean       3.87     28.64      5.43       1.10     1425.48      3.07   \n",
              "std        1.90     12.59      2.47       0.47     1132.46     10.39   \n",
              "min        0.50      1.00      0.85       0.33        3.00      0.69   \n",
              "25%        2.56     18.00      4.44       1.01      787.00      2.43   \n",
              "50%        3.53     29.00      5.23       1.05     1166.00      2.82   \n",
              "75%        4.74     37.00      6.05       1.10     1725.00      3.28   \n",
              "max       15.00     52.00    141.91      34.07    35682.00   1243.33   \n",
              "\n",
              "       Latitude  Longitude     Price  \n",
              "count  20640.00   20640.00  20640.00  \n",
              "mean      35.63    -119.57      2.07  \n",
              "std        2.14       2.00      1.15  \n",
              "min       32.54    -124.35      0.15  \n",
              "25%       33.93    -121.80      1.20  \n",
              "50%       34.26    -118.49      1.80  \n",
              "75%       37.71    -118.01      2.65  \n",
              "max       41.95    -114.31      5.00  "
            ],
            "text/html": [
              "\n",
              "  <div id=\"df-00696072-1ce9-4a70-ae6b-a5f659428ae4\" class=\"colab-df-container\">\n",
              "    <div>\n",
              "<style scoped>\n",
              "    .dataframe tbody tr th:only-of-type {\n",
              "        vertical-align: middle;\n",
              "    }\n",
              "\n",
              "    .dataframe tbody tr th {\n",
              "        vertical-align: top;\n",
              "    }\n",
              "\n",
              "    .dataframe thead th {\n",
              "        text-align: right;\n",
              "    }\n",
              "</style>\n",
              "<table border=\"1\" class=\"dataframe\">\n",
              "  <thead>\n",
              "    <tr style=\"text-align: right;\">\n",
              "      <th></th>\n",
              "      <th>MedInc</th>\n",
              "      <th>HouseAge</th>\n",
              "      <th>AveRooms</th>\n",
              "      <th>AveBedrms</th>\n",
              "      <th>Population</th>\n",
              "      <th>AveOccup</th>\n",
              "      <th>Latitude</th>\n",
              "      <th>Longitude</th>\n",
              "      <th>Price</th>\n",
              "    </tr>\n",
              "  </thead>\n",
              "  <tbody>\n",
              "    <tr>\n",
              "      <th>count</th>\n",
              "      <td>20640.00</td>\n",
              "      <td>20640.00</td>\n",
              "      <td>20640.00</td>\n",
              "      <td>20640.00</td>\n",
              "      <td>20640.00</td>\n",
              "      <td>20640.00</td>\n",
              "      <td>20640.00</td>\n",
              "      <td>20640.00</td>\n",
              "      <td>20640.00</td>\n",
              "    </tr>\n",
              "    <tr>\n",
              "      <th>mean</th>\n",
              "      <td>3.87</td>\n",
              "      <td>28.64</td>\n",
              "      <td>5.43</td>\n",
              "      <td>1.10</td>\n",
              "      <td>1425.48</td>\n",
              "      <td>3.07</td>\n",
              "      <td>35.63</td>\n",
              "      <td>-119.57</td>\n",
              "      <td>2.07</td>\n",
              "    </tr>\n",
              "    <tr>\n",
              "      <th>std</th>\n",
              "      <td>1.90</td>\n",
              "      <td>12.59</td>\n",
              "      <td>2.47</td>\n",
              "      <td>0.47</td>\n",
              "      <td>1132.46</td>\n",
              "      <td>10.39</td>\n",
              "      <td>2.14</td>\n",
              "      <td>2.00</td>\n",
              "      <td>1.15</td>\n",
              "    </tr>\n",
              "    <tr>\n",
              "      <th>min</th>\n",
              "      <td>0.50</td>\n",
              "      <td>1.00</td>\n",
              "      <td>0.85</td>\n",
              "      <td>0.33</td>\n",
              "      <td>3.00</td>\n",
              "      <td>0.69</td>\n",
              "      <td>32.54</td>\n",
              "      <td>-124.35</td>\n",
              "      <td>0.15</td>\n",
              "    </tr>\n",
              "    <tr>\n",
              "      <th>25%</th>\n",
              "      <td>2.56</td>\n",
              "      <td>18.00</td>\n",
              "      <td>4.44</td>\n",
              "      <td>1.01</td>\n",
              "      <td>787.00</td>\n",
              "      <td>2.43</td>\n",
              "      <td>33.93</td>\n",
              "      <td>-121.80</td>\n",
              "      <td>1.20</td>\n",
              "    </tr>\n",
              "    <tr>\n",
              "      <th>50%</th>\n",
              "      <td>3.53</td>\n",
              "      <td>29.00</td>\n",
              "      <td>5.23</td>\n",
              "      <td>1.05</td>\n",
              "      <td>1166.00</td>\n",
              "      <td>2.82</td>\n",
              "      <td>34.26</td>\n",
              "      <td>-118.49</td>\n",
              "      <td>1.80</td>\n",
              "    </tr>\n",
              "    <tr>\n",
              "      <th>75%</th>\n",
              "      <td>4.74</td>\n",
              "      <td>37.00</td>\n",
              "      <td>6.05</td>\n",
              "      <td>1.10</td>\n",
              "      <td>1725.00</td>\n",
              "      <td>3.28</td>\n",
              "      <td>37.71</td>\n",
              "      <td>-118.01</td>\n",
              "      <td>2.65</td>\n",
              "    </tr>\n",
              "    <tr>\n",
              "      <th>max</th>\n",
              "      <td>15.00</td>\n",
              "      <td>52.00</td>\n",
              "      <td>141.91</td>\n",
              "      <td>34.07</td>\n",
              "      <td>35682.00</td>\n",
              "      <td>1243.33</td>\n",
              "      <td>41.95</td>\n",
              "      <td>-114.31</td>\n",
              "      <td>5.00</td>\n",
              "    </tr>\n",
              "  </tbody>\n",
              "</table>\n",
              "</div>\n",
              "    <div class=\"colab-df-buttons\">\n",
              "\n",
              "  <div class=\"colab-df-container\">\n",
              "    <button class=\"colab-df-convert\" onclick=\"convertToInteractive('df-00696072-1ce9-4a70-ae6b-a5f659428ae4')\"\n",
              "            title=\"Convert this dataframe to an interactive table.\"\n",
              "            style=\"display:none;\">\n",
              "\n",
              "  <svg xmlns=\"http://www.w3.org/2000/svg\" height=\"24px\" viewBox=\"0 -960 960 960\">\n",
              "    <path d=\"M120-120v-720h720v720H120Zm60-500h600v-160H180v160Zm220 220h160v-160H400v160Zm0 220h160v-160H400v160ZM180-400h160v-160H180v160Zm440 0h160v-160H620v160ZM180-180h160v-160H180v160Zm440 0h160v-160H620v160Z\"/>\n",
              "  </svg>\n",
              "    </button>\n",
              "\n",
              "  <style>\n",
              "    .colab-df-container {\n",
              "      display:flex;\n",
              "      gap: 12px;\n",
              "    }\n",
              "\n",
              "    .colab-df-convert {\n",
              "      background-color: #E8F0FE;\n",
              "      border: none;\n",
              "      border-radius: 50%;\n",
              "      cursor: pointer;\n",
              "      display: none;\n",
              "      fill: #1967D2;\n",
              "      height: 32px;\n",
              "      padding: 0 0 0 0;\n",
              "      width: 32px;\n",
              "    }\n",
              "\n",
              "    .colab-df-convert:hover {\n",
              "      background-color: #E2EBFA;\n",
              "      box-shadow: 0px 1px 2px rgba(60, 64, 67, 0.3), 0px 1px 3px 1px rgba(60, 64, 67, 0.15);\n",
              "      fill: #174EA6;\n",
              "    }\n",
              "\n",
              "    .colab-df-buttons div {\n",
              "      margin-bottom: 4px;\n",
              "    }\n",
              "\n",
              "    [theme=dark] .colab-df-convert {\n",
              "      background-color: #3B4455;\n",
              "      fill: #D2E3FC;\n",
              "    }\n",
              "\n",
              "    [theme=dark] .colab-df-convert:hover {\n",
              "      background-color: #434B5C;\n",
              "      box-shadow: 0px 1px 3px 1px rgba(0, 0, 0, 0.15);\n",
              "      filter: drop-shadow(0px 1px 2px rgba(0, 0, 0, 0.3));\n",
              "      fill: #FFFFFF;\n",
              "    }\n",
              "  </style>\n",
              "\n",
              "    <script>\n",
              "      const buttonEl =\n",
              "        document.querySelector('#df-00696072-1ce9-4a70-ae6b-a5f659428ae4 button.colab-df-convert');\n",
              "      buttonEl.style.display =\n",
              "        google.colab.kernel.accessAllowed ? 'block' : 'none';\n",
              "\n",
              "      async function convertToInteractive(key) {\n",
              "        const element = document.querySelector('#df-00696072-1ce9-4a70-ae6b-a5f659428ae4');\n",
              "        const dataTable =\n",
              "          await google.colab.kernel.invokeFunction('convertToInteractive',\n",
              "                                                    [key], {});\n",
              "        if (!dataTable) return;\n",
              "\n",
              "        const docLinkHtml = 'Like what you see? Visit the ' +\n",
              "          '<a target=\"_blank\" href=https://colab.research.google.com/notebooks/data_table.ipynb>data table notebook</a>'\n",
              "          + ' to learn more about interactive tables.';\n",
              "        element.innerHTML = '';\n",
              "        dataTable['output_type'] = 'display_data';\n",
              "        await google.colab.output.renderOutput(dataTable, element);\n",
              "        const docLink = document.createElement('div');\n",
              "        docLink.innerHTML = docLinkHtml;\n",
              "        element.appendChild(docLink);\n",
              "      }\n",
              "    </script>\n",
              "  </div>\n",
              "\n",
              "\n",
              "<div id=\"df-a2a876bb-acfe-4f7b-a062-ed7d983eb835\">\n",
              "  <button class=\"colab-df-quickchart\" onclick=\"quickchart('df-a2a876bb-acfe-4f7b-a062-ed7d983eb835')\"\n",
              "            title=\"Suggest charts\"\n",
              "            style=\"display:none;\">\n",
              "\n",
              "<svg xmlns=\"http://www.w3.org/2000/svg\" height=\"24px\"viewBox=\"0 0 24 24\"\n",
              "     width=\"24px\">\n",
              "    <g>\n",
              "        <path d=\"M19 3H5c-1.1 0-2 .9-2 2v14c0 1.1.9 2 2 2h14c1.1 0 2-.9 2-2V5c0-1.1-.9-2-2-2zM9 17H7v-7h2v7zm4 0h-2V7h2v10zm4 0h-2v-4h2v4z\"/>\n",
              "    </g>\n",
              "</svg>\n",
              "  </button>\n",
              "\n",
              "<style>\n",
              "  .colab-df-quickchart {\n",
              "      --bg-color: #E8F0FE;\n",
              "      --fill-color: #1967D2;\n",
              "      --hover-bg-color: #E2EBFA;\n",
              "      --hover-fill-color: #174EA6;\n",
              "      --disabled-fill-color: #AAA;\n",
              "      --disabled-bg-color: #DDD;\n",
              "  }\n",
              "\n",
              "  [theme=dark] .colab-df-quickchart {\n",
              "      --bg-color: #3B4455;\n",
              "      --fill-color: #D2E3FC;\n",
              "      --hover-bg-color: #434B5C;\n",
              "      --hover-fill-color: #FFFFFF;\n",
              "      --disabled-bg-color: #3B4455;\n",
              "      --disabled-fill-color: #666;\n",
              "  }\n",
              "\n",
              "  .colab-df-quickchart {\n",
              "    background-color: var(--bg-color);\n",
              "    border: none;\n",
              "    border-radius: 50%;\n",
              "    cursor: pointer;\n",
              "    display: none;\n",
              "    fill: var(--fill-color);\n",
              "    height: 32px;\n",
              "    padding: 0;\n",
              "    width: 32px;\n",
              "  }\n",
              "\n",
              "  .colab-df-quickchart:hover {\n",
              "    background-color: var(--hover-bg-color);\n",
              "    box-shadow: 0 1px 2px rgba(60, 64, 67, 0.3), 0 1px 3px 1px rgba(60, 64, 67, 0.15);\n",
              "    fill: var(--button-hover-fill-color);\n",
              "  }\n",
              "\n",
              "  .colab-df-quickchart-complete:disabled,\n",
              "  .colab-df-quickchart-complete:disabled:hover {\n",
              "    background-color: var(--disabled-bg-color);\n",
              "    fill: var(--disabled-fill-color);\n",
              "    box-shadow: none;\n",
              "  }\n",
              "\n",
              "  .colab-df-spinner {\n",
              "    border: 2px solid var(--fill-color);\n",
              "    border-color: transparent;\n",
              "    border-bottom-color: var(--fill-color);\n",
              "    animation:\n",
              "      spin 1s steps(1) infinite;\n",
              "  }\n",
              "\n",
              "  @keyframes spin {\n",
              "    0% {\n",
              "      border-color: transparent;\n",
              "      border-bottom-color: var(--fill-color);\n",
              "      border-left-color: var(--fill-color);\n",
              "    }\n",
              "    20% {\n",
              "      border-color: transparent;\n",
              "      border-left-color: var(--fill-color);\n",
              "      border-top-color: var(--fill-color);\n",
              "    }\n",
              "    30% {\n",
              "      border-color: transparent;\n",
              "      border-left-color: var(--fill-color);\n",
              "      border-top-color: var(--fill-color);\n",
              "      border-right-color: var(--fill-color);\n",
              "    }\n",
              "    40% {\n",
              "      border-color: transparent;\n",
              "      border-right-color: var(--fill-color);\n",
              "      border-top-color: var(--fill-color);\n",
              "    }\n",
              "    60% {\n",
              "      border-color: transparent;\n",
              "      border-right-color: var(--fill-color);\n",
              "    }\n",
              "    80% {\n",
              "      border-color: transparent;\n",
              "      border-right-color: var(--fill-color);\n",
              "      border-bottom-color: var(--fill-color);\n",
              "    }\n",
              "    90% {\n",
              "      border-color: transparent;\n",
              "      border-bottom-color: var(--fill-color);\n",
              "    }\n",
              "  }\n",
              "</style>\n",
              "\n",
              "  <script>\n",
              "    async function quickchart(key) {\n",
              "      const quickchartButtonEl =\n",
              "        document.querySelector('#' + key + ' button');\n",
              "      quickchartButtonEl.disabled = true;  // To prevent multiple clicks.\n",
              "      quickchartButtonEl.classList.add('colab-df-spinner');\n",
              "      try {\n",
              "        const charts = await google.colab.kernel.invokeFunction(\n",
              "            'suggestCharts', [key], {});\n",
              "      } catch (error) {\n",
              "        console.error('Error during call to suggestCharts:', error);\n",
              "      }\n",
              "      quickchartButtonEl.classList.remove('colab-df-spinner');\n",
              "      quickchartButtonEl.classList.add('colab-df-quickchart-complete');\n",
              "    }\n",
              "    (() => {\n",
              "      let quickchartButtonEl =\n",
              "        document.querySelector('#df-a2a876bb-acfe-4f7b-a062-ed7d983eb835 button');\n",
              "      quickchartButtonEl.style.display =\n",
              "        google.colab.kernel.accessAllowed ? 'block' : 'none';\n",
              "    })();\n",
              "  </script>\n",
              "</div>\n",
              "    </div>\n",
              "  </div>\n"
            ],
            "application/vnd.google.colaboratory.intrinsic+json": {
              "type": "dataframe",
              "summary": "{\n  \"name\": \"data\",\n  \"rows\": 8,\n  \"fields\": [\n    {\n      \"column\": \"MedInc\",\n      \"properties\": {\n        \"dtype\": \"number\",\n        \"std\": 7295.7220392476775,\n        \"min\": 0.5,\n        \"max\": 20640.0,\n        \"num_unique_values\": 8,\n        \"samples\": [\n          3.87,\n          3.53,\n          20640.0\n        ],\n        \"semantic_type\": \"\",\n        \"description\": \"\"\n      }\n    },\n    {\n      \"column\": \"HouseAge\",\n      \"properties\": {\n        \"dtype\": \"number\",\n        \"std\": 7288.356469799597,\n        \"min\": 1.0,\n        \"max\": 20640.0,\n        \"num_unique_values\": 8,\n        \"samples\": [\n          28.64,\n          29.0,\n          20640.0\n        ],\n        \"semantic_type\": \"\",\n        \"description\": \"\"\n      }\n    },\n    {\n      \"column\": \"AveRooms\",\n      \"properties\": {\n        \"dtype\": \"number\",\n        \"std\": 7289.098291650052,\n        \"min\": 0.85,\n        \"max\": 20640.0,\n        \"num_unique_values\": 8,\n        \"samples\": [\n          5.43,\n          5.23,\n          20640.0\n        ],\n        \"semantic_type\": \"\",\n        \"description\": \"\"\n      }\n    },\n    {\n      \"column\": \"AveBedrms\",\n      \"properties\": {\n        \"dtype\": \"number\",\n        \"std\": 7295.374889443775,\n        \"min\": 0.33,\n        \"max\": 20640.0,\n        \"num_unique_values\": 7,\n        \"samples\": [\n          20640.0,\n          1.1,\n          1.05\n        ],\n        \"semantic_type\": \"\",\n        \"description\": \"\"\n      }\n    },\n    {\n      \"column\": \"Population\",\n      \"properties\": {\n        \"dtype\": \"number\",\n        \"std\": 13192.258769940747,\n        \"min\": 3.0,\n        \"max\": 35682.0,\n        \"num_unique_values\": 8,\n        \"samples\": [\n          1425.48,\n          1166.0,\n          20640.0\n        ],\n        \"semantic_type\": \"\",\n        \"description\": \"\"\n      }\n    },\n    {\n      \"column\": \"AveOccup\",\n      \"properties\": {\n        \"dtype\": \"number\",\n        \"std\": 7246.3927251789755,\n        \"min\": 0.69,\n        \"max\": 20640.0,\n        \"num_unique_values\": 8,\n        \"samples\": [\n          3.07,\n          2.82,\n          20640.0\n        ],\n        \"semantic_type\": \"\",\n        \"description\": \"\"\n      }\n    },\n    {\n      \"column\": \"Latitude\",\n      \"properties\": {\n        \"dtype\": \"number\",\n        \"std\": 7286.333439529102,\n        \"min\": 2.14,\n        \"max\": 20640.0,\n        \"num_unique_values\": 8,\n        \"samples\": [\n          35.63,\n          34.26,\n          20640.0\n        ],\n        \"semantic_type\": \"\",\n        \"description\": \"\"\n      }\n    },\n    {\n      \"column\": \"Longitude\",\n      \"properties\": {\n        \"dtype\": \"number\",\n        \"std\": 7333.554856407707,\n        \"min\": -124.35,\n        \"max\": 20640.0,\n        \"num_unique_values\": 8,\n        \"samples\": [\n          -119.57,\n          -118.49,\n          20640.0\n        ],\n        \"semantic_type\": \"\",\n        \"description\": \"\"\n      }\n    },\n    {\n      \"column\": \"Price\",\n      \"properties\": {\n        \"dtype\": \"number\",\n        \"std\": 7296.634004431182,\n        \"min\": 0.15,\n        \"max\": 20640.0,\n        \"num_unique_values\": 8,\n        \"samples\": [\n          2.07,\n          1.8,\n          20640.0\n        ],\n        \"semantic_type\": \"\",\n        \"description\": \"\"\n      }\n    }\n  ]\n}"
            }
          },
          "metadata": {},
          "execution_count": 57
        }
      ]
    },
    {
      "cell_type": "code",
      "source": [
        "y = data['Price']\n",
        "X = data.drop('Price', axis=1)\n",
        "y.shape, X.shape"
      ],
      "metadata": {
        "colab": {
          "base_uri": "https://localhost:8080/"
        },
        "id": "oiyqDWjohJKG",
        "outputId": "52752a6b-1b77-4cb1-e9dc-f315908635df"
      },
      "execution_count": null,
      "outputs": [
        {
          "output_type": "execute_result",
          "data": {
            "text/plain": [
              "((20640,), (20640, 8))"
            ]
          },
          "metadata": {},
          "execution_count": 58
        }
      ]
    },
    {
      "cell_type": "code",
      "source": [
        "from sklearn.linear_model import LinearRegression\n",
        "model = LinearRegression()\n",
        "model.fit(X, y)\n",
        "print(\"Coefficients: \\n\", model.coef_)\n",
        "_ = [print(k, v) for k, v in zip(X.columns, model.coef_)]\n",
        "print(\"Intercept: \\n\", model.intercept_)"
      ],
      "metadata": {
        "colab": {
          "base_uri": "https://localhost:8080/"
        },
        "id": "XOAVlg4HhRHI",
        "outputId": "ea14b8d9-145d-49c7-d24f-75974cfc48b0"
      },
      "execution_count": null,
      "outputs": [
        {
          "output_type": "stream",
          "name": "stdout",
          "text": [
            "Coefficients: \n",
            " [ 4.36693293e-01  9.43577803e-03 -1.07322041e-01  6.45065694e-01\n",
            " -3.97638942e-06 -3.78654265e-03 -4.21314378e-01 -4.34513755e-01]\n",
            "MedInc 0.4366932931343245\n",
            "HouseAge 0.009435778033237972\n",
            "AveRooms -0.10732204139090447\n",
            "AveBedrms 0.645065693519812\n",
            "Population -3.976389421211576e-06\n",
            "AveOccup -0.003786542654971\n",
            "Latitude -0.42131437752714385\n",
            "Longitude -0.43451375467477743\n",
            "Intercept: \n",
            " -36.94192020718441\n"
          ]
        }
      ]
    },
    {
      "cell_type": "code",
      "source": [
        "y_pred = model.predict(X)\n",
        "print(y_pred[:5])\n",
        "print(y[:5])"
      ],
      "metadata": {
        "colab": {
          "base_uri": "https://localhost:8080/"
        },
        "id": "QTV69ugbhgkN",
        "outputId": "3315728a-5e5e-4908-b149-e986c248e18c"
      },
      "execution_count": null,
      "outputs": [
        {
          "output_type": "stream",
          "name": "stdout",
          "text": [
            "[4.13164983 3.97660644 3.67657094 3.2415985  2.41358744]\n",
            "0    4.526\n",
            "1    3.585\n",
            "2    3.521\n",
            "3    3.413\n",
            "4    3.422\n",
            "Name: Price, dtype: float64\n"
          ]
        }
      ]
    },
    {
      "cell_type": "code",
      "source": [
        "plt.scatter(y_pred, y)\n",
        "plt.plot(y, y, c='r')"
      ],
      "metadata": {
        "colab": {
          "base_uri": "https://localhost:8080/",
          "height": 447
        },
        "id": "nrrd-2Y8hmLf",
        "outputId": "09e93bb8-e3bd-4f8f-da68-320107491fb6"
      },
      "execution_count": null,
      "outputs": [
        {
          "output_type": "execute_result",
          "data": {
            "text/plain": [
              "[<matplotlib.lines.Line2D at 0x7faa92098d90>]"
            ]
          },
          "metadata": {},
          "execution_count": 61
        },
        {
          "output_type": "display_data",
          "data": {
            "text/plain": [
              "<Figure size 640x480 with 1 Axes>"
            ],
            "image/png": "[encoded data removed]"
          },
          "metadata": {}
        }
      ]
    },
    {
      "cell_type": "code",
      "source": [
        "model.score(X, y)"
      ],
      "metadata": {
        "colab": {
          "base_uri": "https://localhost:8080/"
        },
        "id": "D1ZJQqgihsiS",
        "outputId": "e2ea39b3-35e6-48bb-df9e-bbe169a4e215"
      },
      "execution_count": null,
      "outputs": [
        {
          "output_type": "execute_result",
          "data": {
            "text/plain": [
              "0.606232685199805"
            ]
          },
          "metadata": {},
          "execution_count": 62
        }
      ]
    },
    {
      "cell_type": "code",
      "source": [
        "from sklearn.preprocessing import PolynomialFeatures\n",
        "poly = PolynomialFeatures(3).fit_transform(X)"
      ],
      "metadata": {
        "id": "3TX1VxcChvn8"
      },
      "execution_count": null,
      "outputs": []
    },
    {
      "cell_type": "code",
      "source": [
        "polynomial = LinearRegression()\n",
        "polynomial.fit(poly, y)\n",
        "y_pred_poly = polynomial.predict(poly)"
      ],
      "metadata": {
        "id": "nShiLq-ghzbe"
      },
      "execution_count": null,
      "outputs": []
    },
    {
      "cell_type": "code",
      "source": [
        "print(poly.shape)"
      ],
      "metadata": {
        "colab": {
          "base_uri": "https://localhost:8080/"
        },
        "id": "C_hBue-LjdLZ",
        "outputId": "1fcdb702-f8c1-4eb8-87ff-1669c0ee648b"
      },
      "execution_count": null,
      "outputs": [
        {
          "output_type": "stream",
          "name": "stdout",
          "text": [
            "(20640, 165)\n"
          ]
        }
      ]
    },
    {
      "cell_type": "code",
      "source": [
        "plt.scatter(y_pred_poly, y)\n",
        "plt.plot(y, y, c='r')"
      ],
      "metadata": {
        "colab": {
          "base_uri": "https://localhost:8080/",
          "height": 447
        },
        "id": "q6KCnxIvh2jx",
        "outputId": "0a116b0c-dcab-4636-8d46-f8f32c6140db"
      },
      "execution_count": null,
      "outputs": [
        {
          "output_type": "execute_result",
          "data": {
            "text/plain": [
              "[<matplotlib.lines.Line2D at 0x7faa911539d0>]"
            ]
          },
          "metadata": {},
          "execution_count": 97
        },
        {
          "output_type": "display_data",
          "data": {
            "text/plain": [
              "<Figure size 640x480 with 1 Axes>"
            ],
            "image/png": "[encoded data removed]"
          },
          "metadata": {}
        }
      ]
    },
    {
      "cell_type": "code",
      "source": [
        "polynomial.score(poly, y)"
      ],
      "metadata": {
        "colab": {
          "base_uri": "https://localhost:8080/"
        },
        "id": "JJAaSKU6iFGR",
        "outputId": "500f2521-3b80-4d94-8647-7e9b826c4d32"
      },
      "execution_count": null,
      "outputs": [
        {
          "output_type": "execute_result",
          "data": {
            "text/plain": [
              "0.3662918017753576"
            ]
          },
          "metadata": {},
          "execution_count": 48
        }
      ]
    },
    {
      "cell_type": "code",
      "source": [
        "EXAMPLE_VALUES=\"2311 2242 2315 2261 2313 2282 2367 2334 2347 2349 2409 2329 2324 2256 2279 2225 2227 2159 2215 2150 2214 2150 2165 2172 2226 2165 2217 2182 2129 2174 2202 2169 2221 2160 2223 2135 2243 2185 2256 2156 2176 2165 2149 2159 2176 2128 2174 2134 2160 2138 2193 2166 2199 2193 2176 2134 2171 2130 2128 2138 2178 2165 2160 2176 2243 2134 2197 2111 2139 2129 2150 2146 2099 2160 2193 2054 2082 2139 2672 3043 2315 2163 2179 2149 2178 2142 2163 2178 2176 2199 2245 2141 2258 2167 2208 2219 2342 2190 2233 2193\"\n",
        "\n",
        "import matplotlib.pyplot as plt\n",
        "import sys\n",
        "\n",
        "# Получаем данные из аргумента\n",
        "data = list(map(int, \\\"$EXAMPLE_VALUES\\\".split()))\n",
        "\n",
        "# Создаем временную ось (10 мс между точками)\n",
        "time = [i * 0.01 for i in range(len(data))]  # 0.01 сек = 10 мс\n",
        "\n",
        "# Настраиваем график\n",
        "plt.figure(figsize=(10, 4))\n",
        "plt.plot(time, data, 'b-o', markersize=4, linewidth=1)\n",
        "plt.title('График данных (шаг 10 мс)')\n",
        "plt.xlabel('Время, сек')\n",
        "plt.ylabel('Значение')\n",
        "plt.grid(True)\n",
        "\n",
        "# Показываем график\n",
        "plt.show()"
      ],
      "metadata": {
        "id": "xj1RNjkMV_CL",
        "outputId": "2d8c8a49-a2cf-4afd-fcbf-e3959fd443cf",
        "colab": {
          "base_uri": "https://localhost:8080/",
          "height": 106
        }
      },
      "execution_count": null,
      "outputs": [
        {
          "output_type": "error",
          "ename": "SyntaxError",
          "evalue": "unexpected character after line continuation character (<ipython-input-1-b4e4c41ce5c1>, line 7)",
          "traceback": [
            "\u001b[0;36m  File \u001b[0;32m\"<ipython-input-1-b4e4c41ce5c1>\"\u001b[0;36m, line \u001b[0;32m7\u001b[0m\n\u001b[0;31m    data = list(map(int, \\\"$EXAMPLE_VALUES\\\".split()))\u001b[0m\n\u001b[0m                          ^\u001b[0m\n\u001b[0;31mSyntaxError\u001b[0m\u001b[0;31m:\u001b[0m unexpected character after line continuation character\n"
          ]
        }
      ]
    }
  ]
}